{
 "cells": [
  {
   "cell_type": "code",
   "execution_count": 16,
   "id": "38528fbf",
   "metadata": {},
   "outputs": [],
   "source": [
    "import os, random, gc\n",
    "from pathlib import Path\n",
    "\n",
    "SEED = 42\n",
    "\n",
    "# Set environment variables for reproducibility BEFORE importing torch\n",
    "os.environ['PYTHONHASHSEED'] = str(SEED)\n",
    "os.environ['CUBLAS_WORKSPACE_CONFIG'] = ':4096:8'\n",
    "\n",
    "from PIL import Image\n",
    "import numpy as np\n",
    "import torch\n",
    "import torch.nn as nn\n",
    "import torch.nn.functional as Fun\n",
    "import torchvision.transforms.v2 as transforms\n",
    "import fiftyone as fo\n",
    "import fiftyone.zoo as foz\n",
    "import fiftyone.brain as fob\n",
    "from torch.utils.data import Dataset, ConcatDataset\n",
    "from fiftyone import ViewField as F\n",
    "import fiftyone.utils.random as four\n",
    "from tqdm import tqdm\n",
    "from torch.optim import Adam\n",
    "from pathlib import Path\n",
    "import matplotlib.pyplot as plt"
   ]
  },
  {
   "cell_type": "code",
   "execution_count": 17,
   "id": "f570f130",
   "metadata": {},
   "outputs": [],
   "source": [
    "PROJECT_NAME = \"Assignment-01\"\n",
    "DELETE_EXISTING_DATASETS = True"
   ]
  },
  {
   "cell_type": "code",
   "execution_count": 18,
   "id": "ebbef275",
   "metadata": {},
   "outputs": [],
   "source": [
    "BASE_PATH = Path.cwd()\n",
    "DATA_PATH = BASE_PATH / \"data\"\n",
    "MODEL_PATH = BASE_PATH / \"models\"\n",
    "os.makedirs(DATA_PATH, exist_ok=True)\n",
    "os.makedirs(MODEL_PATH, exist_ok=True)"
   ]
  },
  {
   "cell_type": "code",
   "execution_count": 19,
   "id": "e3cf5814",
   "metadata": {},
   "outputs": [],
   "source": [
    "# Define batch size (you can adjust this based on your GPU memory)\n",
    "BATCH_SIZE = 32\n",
    "NUM_WORKERS = 0 # We use GPU, so we set num_workers to 0"
   ]
  },
  {
   "cell_type": "code",
   "execution_count": 20,
   "id": "7d7243b3",
   "metadata": {},
   "outputs": [
    {
     "name": "stdout",
     "output_type": "stream",
     "text": [
      "All random seeds set to 42 for reproducibility\n"
     ]
    }
   ],
   "source": [
    "def set_seeds(seed: int):\n",
    "    \"\"\"\n",
    "    Set seeds for complete reproducibility across all libraries and operations.\n",
    "\n",
    "    Args:\n",
    "        seed (int): Random seed value\n",
    "    \"\"\"\n",
    "    # Set environment variables before other imports\n",
    "    os.environ['PYTHONHASHSEED'] = str(seed)\n",
    "    os.environ['CUBLAS_WORKSPACE_CONFIG'] = ':4096:8'\n",
    "\n",
    "    # Python random module\n",
    "    random.seed(seed)\n",
    "\n",
    "    # NumPy\n",
    "    np.random.seed(seed)\n",
    "\n",
    "    # PyTorch CPU\n",
    "    torch.manual_seed(seed)\n",
    "\n",
    "    # PyTorch GPU (all devices)\n",
    "    if torch.cuda.is_available():\n",
    "        torch.cuda.manual_seed(seed)\n",
    "        torch.cuda.manual_seed_all(seed)  # For multi-GPU setups\n",
    "\n",
    "        # CUDA deterministic operations\n",
    "        torch.backends.cudnn.deterministic = True\n",
    "        torch.backends.cudnn.benchmark = False\n",
    "\n",
    "    # PyTorch deterministic algorithms (may impact performance)\n",
    "    try:\n",
    "        torch.use_deterministic_algorithms(True)\n",
    "    except RuntimeError:\n",
    "        # Some operations don't have deterministic implementations\n",
    "        print(\"Warning: Some operations may not be deterministic\")\n",
    "\n",
    "    print(f\"All random seeds set to {seed} for reproducibility\")\n",
    "\n",
    "\n",
    "\n",
    "# Usage: Call this function at the beginning and before each training phase\n",
    "set_seeds(SEED)\n",
    "\n",
    "# Additional reproducibility considerations:\n",
    "\n",
    "def create_deterministic_training_dataloader(dataset, batch_size, shuffle=True, **kwargs):\n",
    "    \"\"\"\n",
    "    Create a DataLoader with deterministic behavior.\n",
    "\n",
    "    Args:\n",
    "        dataset: PyTorch Dataset instance\n",
    "        batch_size: Batch size\n",
    "        shuffle: Whether to shuffle data\n",
    "        **kwargs: Additional DataLoader arguments\n",
    "\n",
    "    Returns:\n",
    "        Training DataLoader with reproducible behavior\n",
    "    \"\"\"\n",
    "    # Use a generator with fixed seed for reproducible shuffling\n",
    "    generator = torch.Generator()\n",
    "    generator.manual_seed(SEED)\n",
    "\n",
    "    return torch.utils.data.DataLoader(\n",
    "        dataset,\n",
    "        batch_size=batch_size,\n",
    "        shuffle=shuffle,\n",
    "        generator=generator if shuffle else None,\n",
    "        **kwargs\n",
    "    )"
   ]
  },
  {
   "cell_type": "code",
   "execution_count": 21,
   "id": "5f66a1e3",
   "metadata": {},
   "outputs": [],
   "source": [
    "def view(session, view, dataset):\n",
    "    try:\n",
    "        session.view = view\n",
    "        session.refresh()\n",
    "        session.show()\n",
    "    except Exception as e:\n",
    "        session = fo.launch_app(dataset, auto=False, port=6969)\n",
    "        session.view = view\n",
    "        session.refresh()\n",
    "        session.show()"
   ]
  },
  {
   "cell_type": "code",
   "execution_count": 22,
   "id": "1298c820",
   "metadata": {},
   "outputs": [
    {
     "name": "stdout",
     "output_type": "stream",
     "text": [
      "Dataset '2025.10.25.18.38.03.681660' already exists. Deleting it.\n",
      "Dataset '2025.10.25.18.38.56.343019' already exists. Deleting it.\n",
      "Dataset '2025.10.25.18.38.56.969804' already exists. Deleting it.\n",
      "Dataset '2025.10.25.18.39.18.266939' already exists. Deleting it.\n",
      "Dataset '2025.10.25.18.39.18.926524' already exists. Deleting it.\n",
      "Dataset 'mnist-test-set' already exists. Deleting it.\n",
      "Dataset 'mnist-train-set' already exists. Deleting it.\n",
      "Dataset 'mnist-train-val-set' already exists. Deleting it.\n",
      "Dataset 'mnist-validation-set' already exists. Deleting it.\n"
     ]
    }
   ],
   "source": [
    "dataset_names = {\n",
    "        \"train-val\": \"mnist-train-val-set\",\n",
    "        \"train\": \"mnist-train-set\",\n",
    "        \"val\": \"mnist-validation-set\",\n",
    "        \"test\": \"mnist-test-set\"\n",
    "    }\n",
    "\n",
    "if DELETE_EXISTING_DATASETS:\n",
    "    for ds in fo.list_datasets():\n",
    "        print(f\"Dataset '{ds}' already exists. Deleting it.\")\n",
    "        fo.delete_dataset(ds)"
   ]
  },
  {
   "cell_type": "code",
   "execution_count": 23,
   "id": "1749bf47",
   "metadata": {},
   "outputs": [
    {
     "name": "stdout",
     "output_type": "stream",
     "text": [
      "Using device: cuda\n"
     ]
    }
   ],
   "source": [
    "device = torch.device(\"cuda\" if torch.cuda.is_available() else \"cpu\")\n",
    "print(f\"Using device: {device}\")"
   ]
  },
  {
   "cell_type": "markdown",
   "id": "95d310fe",
   "metadata": {},
   "source": [
    "# Data Preparation"
   ]
  },
  {
   "cell_type": "code",
   "execution_count": 24,
   "id": "1ac81f81",
   "metadata": {},
   "outputs": [
    {
     "name": "stdout",
     "output_type": "stream",
     "text": [
      "Downloading and preparing dataset 'mnist-train-val-set'...\n",
      "Split 'train' already downloaded\n",
      "Loading 'mnist' split 'train'\n",
      " 100% |█████████████| 60000/60000 [24.5s elapsed, 0s remaining, 2.7K samples/s]      \n",
      "Dataset 'mnist-train-val-set' created\n",
      "Computing metadata...\n",
      " 100% |█████████████| 60000/60000 [23.7s elapsed, 0s remaining, 13.2K samples/s]      \n"
     ]
    }
   ],
   "source": [
    "# Get Train-Val Dataset\n",
    "if dataset_names[\"train-val\"] in fo.list_datasets():\n",
    "    print(f\"Dataset '{dataset_names['train-val']}' already exists. Loading it.\")\n",
    "    train_val_dataset = fo.load_dataset(dataset_names[\"train-val\"])\n",
    "else:\n",
    "    print(f\"Downloading and preparing dataset '{dataset_names['train-val']}'...\")\n",
    "    train_val_dataset = foz.load_zoo_dataset(\"mnist\",\n",
    "                                            split='train',\n",
    "                                            dataset_name=dataset_names[\"train-val\"],\n",
    "                                            persistent=True)\n",
    "    train_val_dataset.compute_metadata()\n",
    "    train_val_dataset.untag_samples([\"train\", \"validation\"])"
   ]
  },
  {
   "cell_type": "code",
   "execution_count": 25,
   "id": "cbf690ef",
   "metadata": {},
   "outputs": [
    {
     "name": "stdout",
     "output_type": "stream",
     "text": [
      "Tag counts after split:\n",
      "{'train': 51000, 'validation': 9000}\n"
     ]
    }
   ],
   "source": [
    "if not dataset_names[\"train\"] in fo.list_datasets() or not dataset_names[\"val\"] in fo.list_datasets():    \n",
    "    # Create random 85%/15% split using tags\n",
    "    four.random_split(train_val_dataset,\n",
    "                    {\"train\": 0.85, \"validation\": 0.15},\n",
    "                    # The seed makes the split reproducible\n",
    "                    seed=SEED)\n",
    "\n",
    "    # Verify the split by counting tags\n",
    "    tag_counts = train_val_dataset.count_sample_tags()\n",
    "    print(\"Tag counts after split:\")\n",
    "    print(tag_counts)\n",
    "\n",
    "    # Separate validation and train FO datasets\n",
    "    train_dataset = train_val_dataset.match_tags(\"train\").clone()\n",
    "    val_dataset = train_val_dataset.match_tags(\"validation\").clone()\n",
    "\n",
    "    # Set names for FO datasets using the 'name' property\n",
    "    train_dataset.name = dataset_names[\"train\"]\n",
    "    val_dataset.name = dataset_names[\"val\"]\n",
    "\n",
    "    # Define persistency\n",
    "    train_dataset.persistent = True\n",
    "    val_dataset.persistent = True\n",
    "\n",
    "    # Verify no overlap between train and validation\n",
    "    train_ids = set(train_dataset.values(\"id\"))\n",
    "    val_ids = set(val_dataset.values(\"id\"))\n",
    "    overlap = train_ids.intersection(val_ids)"
   ]
  },
  {
   "cell_type": "code",
   "execution_count": 26,
   "id": "e388199c",
   "metadata": {},
   "outputs": [
    {
     "name": "stdout",
     "output_type": "stream",
     "text": [
      "Downloading and preparing dataset 'mnist-test-set'...\n",
      "Split 'test' already downloaded\n",
      "Loading 'mnist' split 'test'\n",
      " 100% |█████████████| 10000/10000 [4.9s elapsed, 0s remaining, 2.7K samples/s]      \n",
      "Dataset 'mnist-test-set' created\n",
      "Computing metadata...\n",
      " 100% |█████████████| 10000/10000 [4.3s elapsed, 0s remaining, 7.0K samples/s]      \n"
     ]
    }
   ],
   "source": [
    "# Get Test Dataset\n",
    "if dataset_names[\"test\"] in fo.list_datasets():\n",
    "    print(f\"Dataset '{dataset_names['test']}' already exists. Loading it.\")\n",
    "    test_dataset = fo.load_dataset(dataset_names[\"test\"])\n",
    "else:\n",
    "    print(f\"Downloading and preparing dataset '{dataset_names['test']}'...\")\n",
    "    test_dataset = foz.load_zoo_dataset(\n",
    "        \"mnist\",\n",
    "        split=\"test\",\n",
    "        dataset_name=dataset_names[\"test\"],\n",
    "        persistent=True\n",
    "    )\n",
    "    test_dataset.compute_metadata()"
   ]
  },
  {
   "cell_type": "code",
   "execution_count": 27,
   "id": "2d4115b2",
   "metadata": {},
   "outputs": [
    {
     "data": {
      "text/plain": [
       "{'0 - zero': 0,\n",
       " '1 - one': 1,\n",
       " '2 - two': 2,\n",
       " '3 - three': 3,\n",
       " '4 - four': 4,\n",
       " '5 - five': 5,\n",
       " '6 - six': 6,\n",
       " '7 - seven': 7,\n",
       " '8 - eight': 8,\n",
       " '9 - nine': 9}"
      ]
     },
     "execution_count": 27,
     "metadata": {},
     "output_type": "execute_result"
    }
   ],
   "source": [
    "# Get Label Map\n",
    "dataset_classes = sorted(train_dataset.distinct(\"ground_truth.label\"))\n",
    "label_map = {string_label: index for index, string_label in enumerate(dataset_classes)}\n",
    "label_map"
   ]
  },
  {
   "cell_type": "code",
   "execution_count": 28,
   "id": "6a675648",
   "metadata": {},
   "outputs": [],
   "source": [
    "# Custom PyTorch Dataset class for MNIST training data\n",
    "class CustomTorchImageDataset(torch.utils.data.Dataset):\n",
    "    def __init__(self, fiftyone_dataset,\n",
    "                 image_transforms=None,\n",
    "                 label_map=None,\n",
    "                 gt_field=\"ground_truth\"):\n",
    "        self.fiftyone_dataset = fiftyone_dataset\n",
    "        self.image_paths = self.fiftyone_dataset.values(\"filepath\")\n",
    "        self.str_labels = self.fiftyone_dataset.values(f\"{gt_field}.label\")\n",
    "        self.image_transforms = image_transforms\n",
    "\n",
    "        if label_map is None:\n",
    "            self.label_map = {str(i): i for i in range(10)}\n",
    "        else:\n",
    "            self.label_map = label_map\n",
    "\n",
    "        print(f\"CustomTorchImageDataset initialized with {len(self.image_paths)} samples.\")\n",
    "\n",
    "    def __len__(self):\n",
    "        return len(self.image_paths)\n",
    "\n",
    "    def __getitem__(self, idx):\n",
    "        image_path = self.image_paths[idx]\n",
    "        try:\n",
    "            image = Image.open(image_path).convert('L') # Convert to grayscale\n",
    "        except Exception as e:\n",
    "            print(f\"Error loading image {image_path}: {e}\")\n",
    "            return torch.randn(1, 28, 28), torch.tensor(-1, dtype=torch.long)\n",
    "\n",
    "        if self.image_transforms:\n",
    "            image = self.image_transforms(image)\n",
    "\n",
    "        label_str = self.str_labels[idx]\n",
    "        label_idx = self.label_map.get(label_str, -1)\n",
    "        if label_idx == -1:\n",
    "            print(f\"Warning: Label '{label_str}' not in label_map for image {image_path}\")\n",
    "\n",
    "        return image, torch.tensor(label_idx, dtype=torch.long)"
   ]
  },
  {
   "cell_type": "code",
   "execution_count": 29,
   "id": "da9033f3",
   "metadata": {},
   "outputs": [],
   "source": [
    "# Define image transformations\n",
    "IMAGE_TRANSFORMS = transforms.Compose([\n",
    "    transforms.ToImage(),\n",
    "    transforms.ToDtype(torch.float32, scale=True), # Scale to [0, 1]\n",
    "])"
   ]
  },
  {
   "cell_type": "code",
   "execution_count": 30,
   "id": "2d27de41",
   "metadata": {},
   "outputs": [
    {
     "name": "stdout",
     "output_type": "stream",
     "text": [
      "CustomTorchImageDataset initialized with 51000 samples.\n",
      "CustomTorchImageDataset initialized with 9000 samples.\n",
      "CustomTorchImageDataset initialized with 10000 samples.\n"
     ]
    }
   ],
   "source": [
    "# Create a PyTorch Dataset for the train set\n",
    "torch_train_set = CustomTorchImageDataset(train_dataset,\n",
    "                                          label_map=label_map,\n",
    "                                          image_transforms=IMAGE_TRANSFORMS)\n",
    "\n",
    "# Create a PyTorch Dataset for the validation set\n",
    "torch_val_set = CustomTorchImageDataset(val_dataset,\n",
    "                                     label_map=label_map,\n",
    "                                     image_transforms=IMAGE_TRANSFORMS)\n",
    "\n",
    "# Create a PyTorch Dataset for the test set\n",
    "torch_test_set = CustomTorchImageDataset(test_dataset,\n",
    "                                      label_map=label_map,\n",
    "                                      image_transforms=IMAGE_TRANSFORMS)"
   ]
  },
  {
   "cell_type": "code",
   "execution_count": 31,
   "id": "3b341fdc",
   "metadata": {},
   "outputs": [
    {
     "name": "stdout",
     "output_type": "stream",
     "text": [
      "Train DataLoader created successfully.\n",
      "Train DataLoader has 797 batches.\n",
      "Validation DataLoader created successfully.\n",
      "Validation DataLoader has 282 batches.\n",
      "Test DataLoader created successfully.\n",
      "Test DataLoader has 313 batches.\n"
     ]
    }
   ],
   "source": [
    "# Create a PyTorch DataLoader for the train set\n",
    "train_loader = create_deterministic_training_dataloader(\n",
    "    torch_train_set,\n",
    "    batch_size=64,\n",
    "    shuffle=True,\n",
    "    num_workers=NUM_WORKERS,\n",
    "    pin_memory=True\n",
    ")\n",
    "print(\"Train DataLoader created successfully.\")\n",
    "print(f\"Train DataLoader has {len(train_loader)} batches.\")\n",
    "\n",
    "# Create a PyTorch DataLoader for the validation set\n",
    "val_loader = torch.utils.data.DataLoader(\n",
    "    torch_val_set,\n",
    "    batch_size=BATCH_SIZE,\n",
    "    shuffle=False,\n",
    "    num_workers=NUM_WORKERS,\n",
    "    pin_memory=True\n",
    ")\n",
    "print(\"Validation DataLoader created successfully.\")\n",
    "print(f\"Validation DataLoader has {len(val_loader)} batches.\")\n",
    "\n",
    "# Create a PyTorch DataLoader for the test set\n",
    "test_loader = torch.utils.data.DataLoader(\n",
    "    torch_test_set,\n",
    "    batch_size=BATCH_SIZE,\n",
    "    shuffle=False,\n",
    "    num_workers=NUM_WORKERS,\n",
    "    pin_memory=True\n",
    ")\n",
    "\n",
    "print(\"Test DataLoader created successfully.\")\n",
    "print(f\"Test DataLoader has {len(test_loader)} batches.\")\n"
   ]
  },
  {
   "cell_type": "markdown",
   "id": "c5946d6f",
   "metadata": {},
   "source": [
    "# Model Definition"
   ]
  },
  {
   "cell_type": "code",
   "execution_count": 32,
   "id": "03a1c549",
   "metadata": {},
   "outputs": [],
   "source": [
    "class ModernLeNet5(nn.Module):\n",
    "    \"\"\"\n",
    "    Modernized version of LeNet-5 with ReLU activations and max pooling.\n",
    "    Often performs better on MNIST than the original version.\n",
    "    \"\"\"\n",
    "\n",
    "    def __init__(self, num_classes=10):\n",
    "        super(ModernLeNet5, self).__init__()\n",
    "\n",
    "        self.conv1 = nn.Conv2d(1, 6, kernel_size=5)\n",
    "        self.conv2 = nn.Conv2d(6, 16, kernel_size=5)\n",
    "        self.conv3 = nn.Conv2d(16, 120, kernel_size=4)\n",
    "\n",
    "        self.pool = nn.MaxPool2d(kernel_size=2, stride=2)\n",
    "\n",
    "        self.fc1 = nn.Linear(120, 84)\n",
    "        self.fc2 = nn.Linear(84, num_classes)\n",
    "\n",
    "        self.dropout = nn.Dropout(0.5)\n",
    "\n",
    "        self.relu = nn.ReLU()\n",
    "\n",
    "\n",
    "    def forward(self, x):\n",
    "        x = self.pool(self.relu(self.conv1(x)))\n",
    "        x = self.pool(self.relu(self.conv2(x)))\n",
    "        x = self.relu(self.conv3(x))\n",
    "\n",
    "        x = x.view(x.size(0), -1)\n",
    "        x = self.relu(self.fc1(x))\n",
    "        x = self.dropout(x)\n",
    "        x = self.fc2(x)\n",
    "\n",
    "        return x"
   ]
  },
  {
   "cell_type": "code",
   "execution_count": 33,
   "id": "642d1fdd",
   "metadata": {},
   "outputs": [],
   "source": [
    "model = ModernLeNet5().to(device)\n",
    "\n",
    "ce_loss = nn.CrossEntropyLoss()\n",
    "optimizer = Adam(model.parameters(),\n",
    "                 lr=0.003, betas=(0.9, 0.999),\n",
    "                 eps=1e-08, weight_decay=0)"
   ]
  },
  {
   "cell_type": "code",
   "execution_count": 34,
   "id": "f99b7a45",
   "metadata": {},
   "outputs": [],
   "source": [
    "def train_epoch(model, train_loader):\n",
    "  batch_losses = []\n",
    "  correct = 0\n",
    "  total = 0\n",
    "\n",
    "  model.train()\n",
    "  for images, labels in tqdm(train_loader, desc=\"Training: \"):\n",
    "\n",
    "      images = images.to(device)\n",
    "      labels = labels.to(device)\n",
    "      # Forward pass\n",
    "      logits = model(images)\n",
    "      loss_value = ce_loss(logits, labels)\n",
    "      # Clear gradients from previous iteration (PyTorch accumulates by default)\n",
    "      optimizer.zero_grad()\n",
    "      # Computes the gradients with backpropagation\n",
    "      loss_value.backward()\n",
    "      # Updates the weights\n",
    "      optimizer.step()\n",
    "\n",
    "      batch_losses.append(loss_value.item())\n",
    "      preds = logits.argmax(dim=1)\n",
    "      correct += (preds == labels).sum().item()\n",
    "      total += labels.size(0)\n",
    "\n",
    "  train_loss = np.mean(batch_losses)\n",
    "  train_acc = correct / total\n",
    "  return train_loss, train_acc\n"
   ]
  },
  {
   "cell_type": "code",
   "execution_count": 35,
   "id": "fc84b1c1",
   "metadata": {},
   "outputs": [],
   "source": [
    "def val_epoch(model, val_loader):\n",
    "  batch_losses = []\n",
    "  correct = 0\n",
    "  total = 0\n",
    "\n",
    "  model.eval()\n",
    "  with torch.inference_mode():\n",
    "    for images, labels in tqdm(val_loader, desc=\"Validation: \"):\n",
    "      images = images.to(device)\n",
    "      labels = labels.to(device)\n",
    "\n",
    "      # Forward pass\n",
    "      logits = model(images)\n",
    "      loss_value = ce_loss(logits, labels)\n",
    "\n",
    "      batch_losses.append(loss_value.item())\n",
    "      preds = logits.argmax(dim=1)\n",
    "      correct += (preds == labels).sum().item()\n",
    "      total += labels.size(0)\n",
    "\n",
    "  val_loss = np.mean(batch_losses)\n",
    "  val_acc = correct / total\n",
    "  return val_loss, val_acc"
   ]
  },
  {
   "cell_type": "markdown",
   "id": "7ed75631",
   "metadata": {},
   "source": [
    "# Training"
   ]
  },
  {
   "cell_type": "code",
   "execution_count": 28,
   "id": "dc38bd28",
   "metadata": {},
   "outputs": [
    {
     "name": "stderr",
     "output_type": "stream",
     "text": [
      "Training: 100%|██████████| 797/797 [00:46<00:00, 17.28it/s]\n",
      "Validation: 100%|██████████| 282/282 [00:07<00:00, 38.25it/s]\n"
     ]
    },
    {
     "name": "stdout",
     "output_type": "stream",
     "text": [
      "Epoch 1/10 - Train Loss: 0.3016 - Train Acc: 0.9095 - Val Loss: 0.1015 - Val Acc: 0.9690\n",
      "Found and saved better weights for the model\n"
     ]
    },
    {
     "name": "stderr",
     "output_type": "stream",
     "text": [
      "Training: 100%|██████████| 797/797 [00:34<00:00, 22.88it/s]\n",
      "Validation: 100%|██████████| 282/282 [00:07<00:00, 37.50it/s]\n"
     ]
    },
    {
     "name": "stdout",
     "output_type": "stream",
     "text": [
      "Epoch 2/10 - Train Loss: 0.0997 - Train Acc: 0.9736 - Val Loss: 0.0809 - Val Acc: 0.9760\n",
      "Found and saved better weights for the model\n"
     ]
    },
    {
     "name": "stderr",
     "output_type": "stream",
     "text": [
      "Training: 100%|██████████| 797/797 [00:36<00:00, 21.87it/s]\n",
      "Validation: 100%|██████████| 282/282 [00:07<00:00, 37.90it/s]\n"
     ]
    },
    {
     "name": "stdout",
     "output_type": "stream",
     "text": [
      "Epoch 3/10 - Train Loss: 0.0748 - Train Acc: 0.9807 - Val Loss: 0.0575 - Val Acc: 0.9829\n",
      "Found and saved better weights for the model\n"
     ]
    },
    {
     "name": "stderr",
     "output_type": "stream",
     "text": [
      "Training: 100%|██████████| 797/797 [00:34<00:00, 23.25it/s]\n",
      "Validation: 100%|██████████| 282/282 [00:07<00:00, 39.75it/s]\n"
     ]
    },
    {
     "name": "stdout",
     "output_type": "stream",
     "text": [
      "Epoch 4/10 - Train Loss: 0.0583 - Train Acc: 0.9839 - Val Loss: 0.0400 - Val Acc: 0.9883\n",
      "Found and saved better weights for the model\n"
     ]
    },
    {
     "name": "stderr",
     "output_type": "stream",
     "text": [
      "Training: 100%|██████████| 797/797 [00:37<00:00, 21.52it/s]\n",
      "Validation: 100%|██████████| 282/282 [00:07<00:00, 37.19it/s]\n"
     ]
    },
    {
     "name": "stdout",
     "output_type": "stream",
     "text": [
      "Epoch 5/10 - Train Loss: 0.0505 - Train Acc: 0.9871 - Val Loss: 0.0634 - Val Acc: 0.9838\n"
     ]
    },
    {
     "name": "stderr",
     "output_type": "stream",
     "text": [
      "Training: 100%|██████████| 797/797 [00:35<00:00, 22.41it/s]\n",
      "Validation: 100%|██████████| 282/282 [00:07<00:00, 35.72it/s]\n"
     ]
    },
    {
     "name": "stdout",
     "output_type": "stream",
     "text": [
      "Epoch 6/10 - Train Loss: 0.0457 - Train Acc: 0.9875 - Val Loss: 0.0452 - Val Acc: 0.9882\n"
     ]
    },
    {
     "name": "stderr",
     "output_type": "stream",
     "text": [
      "Training: 100%|██████████| 797/797 [00:36<00:00, 22.08it/s]\n",
      "Validation: 100%|██████████| 282/282 [00:07<00:00, 38.32it/s]\n"
     ]
    },
    {
     "name": "stdout",
     "output_type": "stream",
     "text": [
      "Epoch 7/10 - Train Loss: 0.0416 - Train Acc: 0.9884 - Val Loss: 0.0577 - Val Acc: 0.9843\n"
     ]
    },
    {
     "name": "stderr",
     "output_type": "stream",
     "text": [
      "Training: 100%|██████████| 797/797 [00:34<00:00, 23.15it/s]\n",
      "Validation: 100%|██████████| 282/282 [00:07<00:00, 35.88it/s]\n"
     ]
    },
    {
     "name": "stdout",
     "output_type": "stream",
     "text": [
      "Epoch 8/10 - Train Loss: 0.0375 - Train Acc: 0.9895 - Val Loss: 0.0561 - Val Acc: 0.9837\n"
     ]
    },
    {
     "name": "stderr",
     "output_type": "stream",
     "text": [
      "Training: 100%|██████████| 797/797 [00:34<00:00, 22.93it/s]\n",
      "Validation: 100%|██████████| 282/282 [00:07<00:00, 36.78it/s]\n"
     ]
    },
    {
     "name": "stdout",
     "output_type": "stream",
     "text": [
      "Epoch 9/10 - Train Loss: 0.0357 - Train Acc: 0.9905 - Val Loss: 0.0528 - Val Acc: 0.9868\n"
     ]
    },
    {
     "name": "stderr",
     "output_type": "stream",
     "text": [
      "Training: 100%|██████████| 797/797 [00:34<00:00, 22.84it/s]\n",
      "Validation: 100%|██████████| 282/282 [00:07<00:00, 38.01it/s]"
     ]
    },
    {
     "name": "stdout",
     "output_type": "stream",
     "text": [
      "Epoch 10/10 - Train Loss: 0.0316 - Train Acc: 0.9913 - Val Loss: 0.0623 - Val Acc: 0.9870\n"
     ]
    },
    {
     "name": "stderr",
     "output_type": "stream",
     "text": [
      "\n"
     ]
    }
   ],
   "source": [
    "num_epochs = 10\n",
    "train_losses = []\n",
    "val_losses = []\n",
    "train_accuracies = []\n",
    "val_accuracies = []\n",
    "\n",
    "best_val_loss = float('inf')\n",
    "best_model = None\n",
    "\n",
    "# Define the path to save the model within your hard-drive\n",
    "model_save_path = MODEL_PATH / 'best_lenet.pth'\n",
    "\n",
    "for epoch in range(num_epochs):\n",
    "    train_loss, train_acc = train_epoch(model, train_loader)\n",
    "    val_loss, val_acc = val_epoch(model, val_loader)\n",
    "    train_losses.append(train_loss)\n",
    "    val_losses.append(val_loss)\n",
    "    train_accuracies.append(train_acc)\n",
    "    val_accuracies.append(val_acc)\n",
    "\n",
    "    print(f\"Epoch {epoch+1}/{num_epochs} - Train Loss: {train_loss:.4f} - Train Acc: {train_acc:.4f} - Val Loss: {val_loss:.4f} - Val Acc: {val_acc:.4f}\")\n",
    "\n",
    "    if val_loss < best_val_loss:\n",
    "        best_val_loss = val_loss\n",
    "        best_model = model\n",
    "        # Save the best model\n",
    "        torch.save(best_model.state_dict(), model_save_path)\n",
    "        print('Found and saved better weights for the model')"
   ]
  },
  {
   "cell_type": "code",
   "execution_count": 29,
   "id": "c9ce0562",
   "metadata": {},
   "outputs": [
    {
     "data": {
      "image/png": "[encoded data removed]",
      "text/plain": [
       "<Figure size 1000x500 with 1 Axes>"
      ]
     },
     "metadata": {},
     "output_type": "display_data"
    }
   ],
   "source": [
    "plt.figure(figsize=(num_epochs, 5))\n",
    "plt.plot(train_losses, label='Training Loss')\n",
    "plt.plot(val_losses, label='Validation Loss')\n",
    "plt.xlabel('Epochs')\n",
    "plt.ylabel('Loss')\n",
    "plt.legend()\n",
    "plt.title('Training and Validation Loss')\n",
    "\n",
    "# Find the epoch with the best validation loss\n",
    "best_epoch = np.argmin(val_losses)\n",
    "\n",
    "# Add a vertical red line at the epoch with the best validation loss\n",
    "plt.axvline(x=best_epoch, color='red', linestyle='--', label=f'Best Val Loss Epoch {best_epoch}')\n",
    "plt.legend()\n",
    "\n",
    "plt.savefig(\"training_validation_loss.png\")\n",
    "plt.show()"
   ]
  },
  {
   "cell_type": "markdown",
   "id": "9f5861bc",
   "metadata": {},
   "source": [
    "# Evaluate the best Model"
   ]
  },
  {
   "cell_type": "code",
   "execution_count": 36,
   "id": "63e601da",
   "metadata": {},
   "outputs": [
    {
     "name": "stdout",
     "output_type": "stream",
     "text": [
      "Model loaded successfully from /sc/home/josef.pribbernow/HPI-Applied-Hands-On-Computer-Vision-2025-Josef-Pribbernow/Assignment-01/models/best_lenet.pth\n",
      "Model is on device: cuda:0\n"
     ]
    }
   ],
   "source": [
    "# Define the path where the best model was saved\n",
    "model_save_path = MODEL_PATH / 'best_lenet.pth'\n",
    "\n",
    "# Instantiate a new model with the same architecture\n",
    "loaded_model = ModernLeNet5()\n",
    "\n",
    "# Load the saved state dictionary into the new model instance\n",
    "device = \"cuda\" if torch.cuda.is_available() else \"cpu\"\n",
    "loaded_model.load_state_dict(torch.load(model_save_path, map_location=device))\n",
    "\n",
    "# Move the model to the device\n",
    "loaded_model = loaded_model.to(device)\n",
    "\n",
    "# Set the model to evaluation mode\n",
    "loaded_model.eval()\n",
    "\n",
    "print(f\"Model loaded successfully from {model_save_path}\")\n",
    "print(f\"Model is on device: {next(loaded_model.parameters()).device}\")"
   ]
  },
  {
   "cell_type": "code",
   "execution_count": 37,
   "id": "90cdf91f",
   "metadata": {},
   "outputs": [],
   "source": [
    "def apply_model_to_evaluate(model, loader, dataset, set_name=\"\"):\n",
    "    # Lists to store predictions and logits\n",
    "    predictions = []\n",
    "    all_logits = []\n",
    "\n",
    "    # Run inference on the test set\n",
    "    print(f\"Applying best LeNet model to the {set_name + ' set'}...\")\n",
    "    with torch.inference_mode(): # Disable gradient calculation\n",
    "        for images, _ in tqdm(loader):\n",
    "            images = images.to(device)\n",
    "\n",
    "            # Forward pass to get logits\n",
    "            logits = model(images)\n",
    "            all_logits.append(logits.cpu().numpy()) # Store logits\n",
    "\n",
    "            # Get predicted class indices\n",
    "            _, predicted = torch.max(logits.data, 1)\n",
    "            predictions.extend(predicted.cpu().numpy()) # Store predictions\n",
    "\n",
    "    # Concatenate logits from all batches\n",
    "    all_logits = np.concatenate(all_logits, axis=0)\n",
    "\n",
    "    print(f\"Inference on {set_name + ' set'} complete.\")\n",
    "    print(f\"Shape of collected logits: {all_logits.shape}\")\n",
    "    print(f\"Number of collected predictions: {len(predictions)}\")\n",
    "\n",
    "    # Store the predictions and logits back into the FiftyOne dataset as Classification objects\n",
    "    print(f\"Storing predictions and logits as FiftyOne Classifications for the {set_name + ' set'}...\")\n",
    "\n",
    "    for i, sample in enumerate(dataset):\n",
    "        # Get the predicted class index and corresponding class name\n",
    "        predicted_idx = predictions[i]\n",
    "        predicted_label = dataset_classes[predicted_idx]\n",
    "\n",
    "        # Get logits for this sample\n",
    "        sample_logits = all_logits[i]\n",
    "\n",
    "        # Calculate confidence scores (softmax applied to logits)\n",
    "        confidences = Fun.softmax(torch.tensor(sample_logits), dim=0).numpy()\n",
    "        predicted_confidence = float(confidences[predicted_idx])\n",
    "\n",
    "        # Create FiftyOne Classification object with prediction\n",
    "        classification = fo.Classification(\n",
    "            label=predicted_label,\n",
    "            confidence=predicted_confidence,\n",
    "            logits=sample_logits.tolist()  # Store raw logits\n",
    "        )\n",
    "\n",
    "        # Store the Classification object in the sample\n",
    "        sample[\"lenet_classification\"] = classification\n",
    "        sample.save()"
   ]
  },
  {
   "cell_type": "markdown",
   "id": "7c2c55ac",
   "metadata": {},
   "source": [
    "## Evaluate on Test Set"
   ]
  },
  {
   "cell_type": "code",
   "execution_count": 32,
   "id": "355dc7b1",
   "metadata": {},
   "outputs": [
    {
     "name": "stdout",
     "output_type": "stream",
     "text": [
      "Applying best LeNet model to the test set...\n"
     ]
    },
    {
     "name": "stderr",
     "output_type": "stream",
     "text": [
      "  0%|          | 0/313 [00:00<?, ?it/s]"
     ]
    },
    {
     "name": "stderr",
     "output_type": "stream",
     "text": [
      "100%|██████████| 313/313 [00:08<00:00, 36.50it/s]\n"
     ]
    },
    {
     "name": "stdout",
     "output_type": "stream",
     "text": [
      "Inference on test set complete.\n",
      "Shape of collected logits: (10000, 10)\n",
      "Number of collected predictions: 10000\n",
      "Storing predictions and logits as FiftyOne Classifications for the test set...\n"
     ]
    }
   ],
   "source": [
    "## Apply best_model to the test set, store logits and confidence\n",
    "apply_model_to_evaluate(\n",
    "    model=loaded_model,\n",
    "    loader=test_loader,\n",
    "    dataset=test_dataset,\n",
    "    set_name=\"test\"\n",
    ")"
   ]
  },
  {
   "cell_type": "code",
   "execution_count": 33,
   "id": "529ef0bf",
   "metadata": {},
   "outputs": [
    {
     "name": "stdout",
     "output_type": "stream",
     "text": [
      "              precision    recall  f1-score   support\n",
      "\n",
      "    0 - zero      0.997     0.989     0.993       980\n",
      "     1 - one      0.984     0.997     0.991      1135\n",
      "     2 - two      0.988     0.992     0.990      1032\n",
      "   3 - three      0.990     0.991     0.991      1010\n",
      "    4 - four      0.993     0.985     0.989       982\n",
      "    5 - five      0.992     0.987     0.989       892\n",
      "     6 - six      0.986     0.984     0.985       958\n",
      "   7 - seven      0.982     0.987     0.984      1028\n",
      "   8 - eight      0.991     0.993     0.992       974\n",
      "    9 - nine      0.982     0.977     0.980      1009\n",
      "\n",
      "    accuracy                          0.988     10000\n",
      "   macro avg      0.989     0.988     0.988     10000\n",
      "weighted avg      0.988     0.988     0.988     10000\n",
      "\n"
     ]
    }
   ],
   "source": [
    "lenet_evaluation_results = test_dataset.evaluate_classifications(\n",
    "    \"lenet_classification\",\n",
    "    gt_field=\"ground_truth\",\n",
    "    eval_key=\"lenet_eval\")\n",
    "\n",
    "lenet_evaluation_results.print_report(digits=3)"
   ]
  },
  {
   "cell_type": "markdown",
   "id": "3e991df6",
   "metadata": {},
   "source": [
    "## Audit Train and Validation Data"
   ]
  },
  {
   "cell_type": "markdown",
   "id": "ae973200",
   "metadata": {},
   "source": [
    "We will use the trained model against its own training and validation data to create a feedback loop. Thus enabling a quality control mechanism for the data used for training."
   ]
  },
  {
   "cell_type": "code",
   "execution_count": 38,
   "id": "cdda0a10",
   "metadata": {},
   "outputs": [
    {
     "name": "stdout",
     "output_type": "stream",
     "text": [
      "CustomTorchImageDataset initialized with 60000 samples.\n",
      "Train DataLoader created successfully.\n",
      "Train DataLoader has 938 batches.\n"
     ]
    }
   ],
   "source": [
    "# Create a PyTorch Dataset for the train_val set\n",
    "torch_train_val_set = CustomTorchImageDataset(train_val_dataset,\n",
    "                                               label_map=label_map,\n",
    "                                               image_transforms=IMAGE_TRANSFORMS)\n",
    "\n",
    "# Create a PyTorch DataLoader for the train_val set\n",
    "train_val_loader = create_deterministic_training_dataloader(\n",
    "    torch_train_val_set,\n",
    "    batch_size=64,\n",
    "    shuffle=False,\n",
    "    num_workers=NUM_WORKERS,\n",
    "    pin_memory=True\n",
    ")\n",
    "print(\"Train DataLoader created successfully.\")\n",
    "print(f\"Train DataLoader has {len(train_val_loader)} batches.\")"
   ]
  },
  {
   "cell_type": "code",
   "execution_count": 39,
   "id": "4182d1c6",
   "metadata": {},
   "outputs": [
    {
     "name": "stdout",
     "output_type": "stream",
     "text": [
      "\n",
      "Could not connect session, trying again in 10 seconds\n",
      "\n",
      "Session launched. Run `session.show()` to open the App in a cell output.\n"
     ]
    },
    {
     "name": "stdout",
     "output_type": "stream",
     "text": [
      "\n",
      "Could not connect session, trying again in 10 seconds\n",
      "\n"
     ]
    }
   ],
   "source": [
    "session = fo.launch_app(train_val_dataset, auto=False, port=6969)"
   ]
  },
  {
   "cell_type": "code",
   "execution_count": 40,
   "id": "09b7bd5c",
   "metadata": {},
   "outputs": [
    {
     "name": "stdout",
     "output_type": "stream",
     "text": [
      "Applying best LeNet model to the train_val set...\n"
     ]
    },
    {
     "name": "stderr",
     "output_type": "stream",
     "text": [
      "100%|██████████| 938/938 [00:46<00:00, 20.27it/s]\n"
     ]
    },
    {
     "name": "stdout",
     "output_type": "stream",
     "text": [
      "Inference on train_val set complete.\n",
      "Shape of collected logits: (60000, 10)\n",
      "Number of collected predictions: 60000\n",
      "Storing predictions and logits as FiftyOne Classifications for the train_val set...\n"
     ]
    }
   ],
   "source": [
    "## Apply best_model to the train_validation set, store logits and confidence\n",
    "apply_model_to_evaluate(\n",
    "    model=loaded_model,\n",
    "    loader=train_val_loader,\n",
    "    dataset=train_val_dataset,\n",
    "    set_name=\"train_val\"\n",
    ")"
   ]
  },
  {
   "cell_type": "markdown",
   "id": "3360ae39",
   "metadata": {},
   "source": [
    "### General Evaluation"
   ]
  },
  {
   "cell_type": "code",
   "execution_count": 41,
   "id": "8c12adf4",
   "metadata": {},
   "outputs": [
    {
     "name": "stdout",
     "output_type": "stream",
     "text": [
      "              precision    recall  f1-score   support\n",
      "\n",
      "    0 - zero      0.998     0.990     0.994      5923\n",
      "     1 - one      0.991     0.998     0.994      6742\n",
      "     2 - two      0.991     0.992     0.992      5958\n",
      "   3 - three      0.992     0.988     0.990      6131\n",
      "    4 - four      0.994     0.987     0.991      5842\n",
      "    5 - five      0.994     0.985     0.990      5421\n",
      "     6 - six      0.993     0.994     0.994      5918\n",
      "   7 - seven      0.986     0.995     0.990      6265\n",
      "   8 - eight      0.985     0.987     0.986      5851\n",
      "    9 - nine      0.982     0.986     0.984      5949\n",
      "\n",
      "    accuracy                          0.990     60000\n",
      "   macro avg      0.991     0.990     0.990     60000\n",
      "weighted avg      0.990     0.990     0.990     60000\n",
      "\n"
     ]
    }
   ],
   "source": [
    "lenet_evaluation_results = train_val_dataset.evaluate_classifications(\n",
    "    \"lenet_classification\",\n",
    "    gt_field=\"ground_truth\",\n",
    "    eval_key=\"lenet_eval\")\n",
    "\n",
    "lenet_evaluation_results.print_report(digits=3)"
   ]
  },
  {
   "cell_type": "code",
   "execution_count": 44,
   "id": "43666c8e",
   "metadata": {},
   "outputs": [
    {
     "name": "stdout",
     "output_type": "stream",
     "text": [
      "Misclassified samples: 574 samples\n"
     ]
    }
   ],
   "source": [
    "# Create a view showing only LeNet's misclassifications\n",
    "misclassified_view = train_val_dataset.match(\n",
    "    (F(\"lenet_classification.label\") != F(\"ground_truth.label\"))\n",
    ")\n",
    "print(f\"Misclassified samples: {len(misclassified_view)} samples\")"
   ]
  },
  {
   "cell_type": "code",
   "execution_count": 45,
   "id": "91fc69b8",
   "metadata": {},
   "outputs": [
    {
     "data": {
      "text/html": [
       "\n",
       "<style>\n",
       "@import url(\"https://fonts.googleapis.com/css2?family=Palanquin&display=swap\");\n",
       "\n",
       "body, html {\n",
       "  margin: 0;\n",
       "  padding: 0;\n",
       "  width: 100%;\n",
       "}\n",
       "\n",
       "#focontainer-7b09c48d-1955-409c-9444-d466f4fc7b7c {\n",
       "  position: relative;\n",
       "  height: 800px;\n",
       "  display: block !important;\n",
       "}\n",
       "#foactivate-7b09c48d-1955-409c-9444-d466f4fc7b7c {\n",
       "  font-weight: bold;\n",
       "  cursor: pointer;\n",
       "  font-size: 24px;\n",
       "  border-radius: 3px;\n",
       "  text-align: center;\n",
       "  padding: 0.5em;\n",
       "  color: rgb(255, 255, 255);\n",
       "  font-family: \"Palanquin\", sans-serif;\n",
       "  position: absolute;\n",
       "  left: 50%;\n",
       "  top: 50%;\n",
       "  width: 160px;\n",
       "  margin-left: -80px;\n",
       "  margin-top: -23px;\n",
       "  background: hsla(210,11%,15%, 0.8);\n",
       "  border: none;\n",
       "}\n",
       "#foactivate-7b09c48d-1955-409c-9444-d466f4fc7b7c:focus {\n",
       "  outline: none;\n",
       "}\n",
       "#fooverlay-7b09c48d-1955-409c-9444-d466f4fc7b7c {\n",
       "  width: 100%;\n",
       "  height: 100%;\n",
       "  background: hsla(208, 7%, 46%, 0.7);\n",
       "  position: absolute;\n",
       "  top: 0;\n",
       "  left: 0;\n",
       "  display: none;\n",
       "  cursor: pointer;\n",
       "}\n",
       "</style>\n",
       "\n",
       "<div id=\"focontainer-7b09c48d-1955-409c-9444-d466f4fc7b7c\">\n",
       "   <div id=\"fooverlay-7b09c48d-1955-409c-9444-d466f4fc7b7c\" style=\"display: none;\">\n",
       "      <button id=\"foactivate-7b09c48d-1955-409c-9444-d466f4fc7b7c\" >Activate</button>\n",
       "   </div>\n",
       "   <img src='data:image/jpeg;base64,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' style=\"width: 100%; max-width: 950px;\"/>\n",
       "</div>\n",
       "\n",
       "<script type=\"text/javascript\">\n",
       "   (function() {\n",
       "     var container = document.getElementById(\"focontainer-7b09c48d-1955-409c-9444-d466f4fc7b7c\");\n",
       "     var overlay = document.getElementById(\"fooverlay-7b09c48d-1955-409c-9444-d466f4fc7b7c\");\n",
       "     fetch(`http://localhost:6969/fiftyone`)\n",
       "     .then(() => {\n",
       "        overlay.addEventListener(\"click\", () => {\n",
       "          fetch(`http://localhost:6969/event`, {\n",
       "            method: \"POST\",\n",
       "            body: JSON.stringify({\n",
       "              event: \"reactivate_notebook_cell\",\n",
       "              data: { subscription: \"7b09c48d-1955-409c-9444-d466f4fc7b7c\" },\n",
       "              subscription: \"7b09c48d-1955-409c-9444-d466f4fc7b7c\"\n",
       "            })\n",
       "          })\n",
       "        });\n",
       "        container.addEventListener(\"mouseenter\", () => overlay.style.display = \"block\");\n",
       "        container.addEventListener(\"mouseleave\", () => overlay.style.display = \"none\");\n",
       "     });\n",
       "   })();\n",
       "</script>"
      ],
      "text/plain": [
       "<IPython.core.display.HTML object>"
      ]
     },
     "metadata": {},
     "output_type": "display_data"
    }
   ],
   "source": [
    "view(session, misclassified_view, train_val_dataset)"
   ]
  },
  {
   "cell_type": "markdown",
   "id": "3b9b30eb",
   "metadata": {},
   "source": [
    "### Confidence"
   ]
  },
  {
   "cell_type": "code",
   "execution_count": 87,
   "id": "f5b5b0eb",
   "metadata": {},
   "outputs": [
    {
     "data": {
      "text/plain": [
       "[0.9999991655349731, 1.0, 1.0, 1.0, 1.0]"
      ]
     },
     "execution_count": 87,
     "metadata": {},
     "output_type": "execute_result"
    }
   ],
   "source": [
    "# Compute quantiles of confidence\n",
    "confidence_quantiles = train_val_dataset.quantiles(\"lenet_classification.confidence\", [0.5, 0.75, 0.95, 0.99, 0.999] )\n",
    "confidence_quantiles"
   ]
  },
  {
   "cell_type": "code",
   "execution_count": 89,
   "id": "51a204d3",
   "metadata": {},
   "outputs": [],
   "source": [
    "# Create a view showing only highly suspicious samples based on confidence\n",
    "suspicious_confidence_train_val_view = train_val_dataset.match(\n",
    "                             F(\"lenet_classification.confidence\") < confidence_quantiles[0]\n",
    "                             ).sort_by(\"lenet_classification.confidence\", reverse=False)"
   ]
  },
  {
   "cell_type": "code",
   "execution_count": 90,
   "id": "740531b2",
   "metadata": {},
   "outputs": [
    {
     "data": {
      "text/html": [
       "\n",
       "<style>\n",
       "@import url(\"https://fonts.googleapis.com/css2?family=Palanquin&display=swap\");\n",
       "\n",
       "body, html {\n",
       "  margin: 0;\n",
       "  padding: 0;\n",
       "  width: 100%;\n",
       "}\n",
       "\n",
       "#focontainer-3fb15982-4177-4599-be3b-1ede6f9d82c0 {\n",
       "  position: relative;\n",
       "  height: 800px;\n",
       "  display: block !important;\n",
       "}\n",
       "#foactivate-3fb15982-4177-4599-be3b-1ede6f9d82c0 {\n",
       "  font-weight: bold;\n",
       "  cursor: pointer;\n",
       "  font-size: 24px;\n",
       "  border-radius: 3px;\n",
       "  text-align: center;\n",
       "  padding: 0.5em;\n",
       "  color: rgb(255, 255, 255);\n",
       "  font-family: \"Palanquin\", sans-serif;\n",
       "  position: absolute;\n",
       "  left: 50%;\n",
       "  top: 50%;\n",
       "  width: 160px;\n",
       "  margin-left: -80px;\n",
       "  margin-top: -23px;\n",
       "  background: hsla(210,11%,15%, 0.8);\n",
       "  border: none;\n",
       "}\n",
       "#foactivate-3fb15982-4177-4599-be3b-1ede6f9d82c0:focus {\n",
       "  outline: none;\n",
       "}\n",
       "#fooverlay-3fb15982-4177-4599-be3b-1ede6f9d82c0 {\n",
       "  width: 100%;\n",
       "  height: 100%;\n",
       "  background: hsla(208, 7%, 46%, 0.7);\n",
       "  position: absolute;\n",
       "  top: 0;\n",
       "  left: 0;\n",
       "  display: none;\n",
       "  cursor: pointer;\n",
       "}\n",
       "</style>\n",
       "\n",
       "<div id=\"focontainer-3fb15982-4177-4599-be3b-1ede6f9d82c0\">\n",
       "   <div id=\"fooverlay-3fb15982-4177-4599-be3b-1ede6f9d82c0\" style=\"display: none;\">\n",
       "      <button id=\"foactivate-3fb15982-4177-4599-be3b-1ede6f9d82c0\" >Activate</button>\n",
       "   </div>\n",
       "   <img src='data:image/jpeg;base64,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' style=\"width: 100%; max-width: 1154px;\"/>\n",
       "</div>\n",
       "\n",
       "<script type=\"text/javascript\">\n",
       "   (function() {\n",
       "     var container = document.getElementById(\"focontainer-3fb15982-4177-4599-be3b-1ede6f9d82c0\");\n",
       "     var overlay = document.getElementById(\"fooverlay-3fb15982-4177-4599-be3b-1ede6f9d82c0\");\n",
       "     fetch(`http://localhost:6969/fiftyone`)\n",
       "     .then(() => {\n",
       "        overlay.addEventListener(\"click\", () => {\n",
       "          fetch(`http://localhost:6969/event`, {\n",
       "            method: \"POST\",\n",
       "            body: JSON.stringify({\n",
       "              event: \"reactivate_notebook_cell\",\n",
       "              data: { subscription: \"3fb15982-4177-4599-be3b-1ede6f9d82c0\" },\n",
       "              subscription: \"3fb15982-4177-4599-be3b-1ede6f9d82c0\"\n",
       "            })\n",
       "          })\n",
       "        });\n",
       "        container.addEventListener(\"mouseenter\", () => overlay.style.display = \"block\");\n",
       "        container.addEventListener(\"mouseleave\", () => overlay.style.display = \"none\");\n",
       "     });\n",
       "   })();\n",
       "</script>"
      ],
      "text/plain": [
       "<IPython.core.display.HTML object>"
      ]
     },
     "metadata": {},
     "output_type": "display_data"
    }
   ],
   "source": [
    "view(session, suspicious_confidence_train_val_view, train_val_dataset)"
   ]
  },
  {
   "cell_type": "markdown",
   "id": "898634d0",
   "metadata": {},
   "source": [
    "### Hardness"
   ]
  },
  {
   "cell_type": "code",
   "execution_count": 91,
   "id": "e0858af4",
   "metadata": {},
   "outputs": [
    {
     "name": "stdout",
     "output_type": "stream",
     "text": [
      "Computing hardness...\n",
      " 100% |█████████████| 60000/60000 [1.4m elapsed, 0s remaining, 813.4 samples/s]      \n",
      "Hardness computation complete\n"
     ]
    }
   ],
   "source": [
    "fob.compute_hardness(train_val_dataset,\n",
    "                     label_field='lenet_classification',\n",
    "                     )"
   ]
  },
  {
   "cell_type": "code",
   "execution_count": 92,
   "id": "c953f661",
   "metadata": {},
   "outputs": [
    {
     "data": {
      "text/plain": [
       "[1.3866502339659279e-05,\n",
       " 0.000537466229402114,\n",
       " 0.11681623246704548,\n",
       " 0.8050221055441451,\n",
       " 1.6303105875711106]"
      ]
     },
     "execution_count": 92,
     "metadata": {},
     "output_type": "execute_result"
    }
   ],
   "source": [
    "# Compute quantiles of hardness\n",
    "hardness_quantiles = train_val_dataset.quantiles(\"hardness\", [0.5, 0.75, 0.95, 0.99, 0.999] )\n",
    "hardness_quantiles"
   ]
  },
  {
   "cell_type": "code",
   "execution_count": 93,
   "id": "86c98e92",
   "metadata": {},
   "outputs": [],
   "source": [
    "# Create a view showing only highly suspicious samples based on hardness\n",
    "suspicious_hardness_train_val_view = train_val_dataset.match(\n",
    "                             F(\"hardness\") > hardness_quantiles[-1]\n",
    "                             ).sort_by(\"hardness\", reverse=True)"
   ]
  },
  {
   "cell_type": "code",
   "execution_count": 123,
   "id": "a0f80c4e",
   "metadata": {},
   "outputs": [
    {
     "data": {
      "text/html": [
       "\n",
       "<style>\n",
       "@import url(\"https://fonts.googleapis.com/css2?family=Palanquin&display=swap\");\n",
       "\n",
       "body, html {\n",
       "  margin: 0;\n",
       "  padding: 0;\n",
       "  width: 100%;\n",
       "}\n",
       "\n",
       "#focontainer-f0d59975-2f1d-4baa-8abb-8533d78f4de9 {\n",
       "  position: relative;\n",
       "  height: 800px;\n",
       "  display: block !important;\n",
       "}\n",
       "#foactivate-f0d59975-2f1d-4baa-8abb-8533d78f4de9 {\n",
       "  font-weight: bold;\n",
       "  cursor: pointer;\n",
       "  font-size: 24px;\n",
       "  border-radius: 3px;\n",
       "  text-align: center;\n",
       "  padding: 0.5em;\n",
       "  color: rgb(255, 255, 255);\n",
       "  font-family: \"Palanquin\", sans-serif;\n",
       "  position: absolute;\n",
       "  left: 50%;\n",
       "  top: 50%;\n",
       "  width: 160px;\n",
       "  margin-left: -80px;\n",
       "  margin-top: -23px;\n",
       "  background: hsla(210,11%,15%, 0.8);\n",
       "  border: none;\n",
       "}\n",
       "#foactivate-f0d59975-2f1d-4baa-8abb-8533d78f4de9:focus {\n",
       "  outline: none;\n",
       "}\n",
       "#fooverlay-f0d59975-2f1d-4baa-8abb-8533d78f4de9 {\n",
       "  width: 100%;\n",
       "  height: 100%;\n",
       "  background: hsla(208, 7%, 46%, 0.7);\n",
       "  position: absolute;\n",
       "  top: 0;\n",
       "  left: 0;\n",
       "  display: none;\n",
       "  cursor: pointer;\n",
       "}\n",
       "</style>\n",
       "\n",
       "<div id=\"focontainer-f0d59975-2f1d-4baa-8abb-8533d78f4de9\">\n",
       "   <div id=\"fooverlay-f0d59975-2f1d-4baa-8abb-8533d78f4de9\" style=\"display: none;\">\n",
       "      <button id=\"foactivate-f0d59975-2f1d-4baa-8abb-8533d78f4de9\" >Activate</button>\n",
       "   </div>\n",
       "   <img src='data:image/jpeg;base64,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' style=\"width: 100%; max-width: 1154px;\"/>\n",
       "</div>\n",
       "\n",
       "<script type=\"text/javascript\">\n",
       "   (function() {\n",
       "     var container = document.getElementById(\"focontainer-f0d59975-2f1d-4baa-8abb-8533d78f4de9\");\n",
       "     var overlay = document.getElementById(\"fooverlay-f0d59975-2f1d-4baa-8abb-8533d78f4de9\");\n",
       "     fetch(`http://localhost:6969/fiftyone`)\n",
       "     .then(() => {\n",
       "        overlay.addEventListener(\"click\", () => {\n",
       "          fetch(`http://localhost:6969/event`, {\n",
       "            method: \"POST\",\n",
       "            body: JSON.stringify({\n",
       "              event: \"reactivate_notebook_cell\",\n",
       "              data: { subscription: \"f0d59975-2f1d-4baa-8abb-8533d78f4de9\" },\n",
       "              subscription: \"f0d59975-2f1d-4baa-8abb-8533d78f4de9\"\n",
       "            })\n",
       "          })\n",
       "        });\n",
       "        container.addEventListener(\"mouseenter\", () => overlay.style.display = \"block\");\n",
       "        container.addEventListener(\"mouseleave\", () => overlay.style.display = \"none\");\n",
       "     });\n",
       "   })();\n",
       "</script>"
      ],
      "text/plain": [
       "<IPython.core.display.HTML object>"
      ]
     },
     "metadata": {},
     "output_type": "display_data"
    }
   ],
   "source": [
    "view(session, suspicious_hardness_train_val_view, train_val_dataset)"
   ]
  },
  {
   "cell_type": "markdown",
   "id": "81b9b93c",
   "metadata": {},
   "source": [
    "### Mistakeness"
   ]
  },
  {
   "cell_type": "code",
   "execution_count": 95,
   "id": "66288350",
   "metadata": {},
   "outputs": [
    {
     "name": "stdout",
     "output_type": "stream",
     "text": [
      "Computing mistakenness...\n",
      " 100% |█████████████| 60000/60000 [1.2m elapsed, 0s remaining, 928.7 samples/s]      \n",
      "Mistakenness computation complete\n"
     ]
    }
   ],
   "source": [
    "fob.compute_mistakenness(train_val_dataset,\n",
    "                         pred_field=\"lenet_classification\",\n",
    "                         label_field=\"ground_truth\")"
   ]
  },
  {
   "cell_type": "code",
   "execution_count": 96,
   "id": "9e90e186",
   "metadata": {},
   "outputs": [
    {
     "data": {
      "text/plain": [
       "[4.172325134277344e-07,\n",
       " 2.2709369659423828e-05,\n",
       " 0.01099976897239685,\n",
       " 0.29712042212486267,\n",
       " 0.9874500632286072]"
      ]
     },
     "execution_count": 96,
     "metadata": {},
     "output_type": "execute_result"
    }
   ],
   "source": [
    "# Compute quantiles of mistakeness\n",
    "mistakenness_quantiles = train_val_dataset.quantiles(\"mistakenness\", [0.5, 0.75, 0.95, 0.99, 0.999] )\n",
    "mistakenness_quantiles"
   ]
  },
  {
   "cell_type": "code",
   "execution_count": 97,
   "id": "9a7d12db",
   "metadata": {},
   "outputs": [],
   "source": [
    "# Create a view showing only highly suspicious samples based on mistakenness\n",
    "suspicious_mistakenness_train_val_view = train_val_dataset.match(\n",
    "                             F(\"mistakenness\") > mistakenness_quantiles[-1]\n",
    "                             ).sort_by(\"mistakenness\", reverse=True)"
   ]
  },
  {
   "cell_type": "code",
   "execution_count": null,
   "id": "3c827976",
   "metadata": {},
   "outputs": [
    {
     "data": {
      "text/html": [
       "\n",
       "<style>\n",
       "@import url(\"https://fonts.googleapis.com/css2?family=Palanquin&display=swap\");\n",
       "\n",
       "body, html {\n",
       "  margin: 0;\n",
       "  padding: 0;\n",
       "  width: 100%;\n",
       "}\n",
       "\n",
       "#focontainer-4c28dd52-02f9-4cb7-ae87-646879cbff2f {\n",
       "  position: relative;\n",
       "  height: 800px;\n",
       "  display: block !important;\n",
       "}\n",
       "#foactivate-4c28dd52-02f9-4cb7-ae87-646879cbff2f {\n",
       "  font-weight: bold;\n",
       "  cursor: pointer;\n",
       "  font-size: 24px;\n",
       "  border-radius: 3px;\n",
       "  text-align: center;\n",
       "  padding: 0.5em;\n",
       "  color: rgb(255, 255, 255);\n",
       "  font-family: \"Palanquin\", sans-serif;\n",
       "  position: absolute;\n",
       "  left: 50%;\n",
       "  top: 50%;\n",
       "  width: 160px;\n",
       "  margin-left: -80px;\n",
       "  margin-top: -23px;\n",
       "  background: hsla(210,11%,15%, 0.8);\n",
       "  border: none;\n",
       "}\n",
       "#foactivate-4c28dd52-02f9-4cb7-ae87-646879cbff2f:focus {\n",
       "  outline: none;\n",
       "}\n",
       "#fooverlay-4c28dd52-02f9-4cb7-ae87-646879cbff2f {\n",
       "  width: 100%;\n",
       "  height: 100%;\n",
       "  background: hsla(208, 7%, 46%, 0.7);\n",
       "  position: absolute;\n",
       "  top: 0;\n",
       "  left: 0;\n",
       "  display: none;\n",
       "  cursor: pointer;\n",
       "}\n",
       "</style>\n",
       "\n",
       "<div id=\"focontainer-4c28dd52-02f9-4cb7-ae87-646879cbff2f\">\n",
       "   <div id=\"fooverlay-4c28dd52-02f9-4cb7-ae87-646879cbff2f\" style=\"display: none;\">\n",
       "      <button id=\"foactivate-4c28dd52-02f9-4cb7-ae87-646879cbff2f\" >Activate</button>\n",
       "   </div>\n",
       "   <img src='data:image/jpeg;base64,/9j/4AAQSkZJRgABAQAAAQABAAD/4gHYSUNDX1BST0ZJTEUAAQEAAAHIAAAAAAQwAABtbnRyUkdCIFhZWiAH4AABAAEAAAAAAABhY3NwAAAAAAAAAAAAAAAAAAAAAAAAAAAAAAAAAAAAAQAA9tYAAQAAAADTLQAAAAAAAAAAAAAAAAAAAAAAAAAAAAAAAAAAAAAAAAAAAAAAAAAAAAAAAAAAAAAAAAAAAAlkZXNjAAAA8AAAACRyWFlaAAABFAAAABRnWFlaAAABKAAAABRiWFlaAAABPAAAABR3dHB0AAABUAAAABRyVFJDAAABZAAAAChnVFJDAAABZAAAAChiVFJDAAABZAAAAChjcHJ0AAABjAAAADxtbHVjAAAAAAAAAAEAAAAMZW5VUwAAAAgAAAAcAHMAUgBHAEJYWVogAAAAAAAAb6IAADj1AAADkFhZWiAAAAAAAABimQAAt4UAABjaWFlaIAAAAAAAACSgAAAPhAAAts9YWVogAAAAAAAA9tYAAQAAAADTLXBhcmEAAAAAAAQAAAACZmYAAPKnAAANWQAAE9AAAApbAAAAAAAAAABtbHVjAAAAAAAAAAEAAAAMZW5VUwAAACAAAAAcAEcAbwBvAGcAbABlACAASQBuAGMALgAgADIAMAAxADb/2wBDACAWGBwYFCAcGhwkIiAmMFA0MCwsMGJGSjpQdGZ6eHJmcG6AkLicgIiuim5woNqirr7EztDOfJri8uDI8LjKzsb/2wBDASIkJDAqMF40NF7GhHCExsbGxsbGxsbGxsbGxsbGxsbGxsbGxsbGxsbGxsbGxsbGxsbGxsbGxsbGxsbGxsbGxsb/wAARCAMgBIIDASIAAhEBAxEB/8QAGgABAAIDAQAAAAAAAAAAAAAAAAIDAQQFBv/EAEUQAAICAQIEAwUFBQcDBAICAwABAgMRBBIFITFRE0FhIjJScZEUM4GSsRVTcsHRIzRCYoKh4QYkVBY1Q3NjokST8PEl/8QAGQEBAQEBAQEAAAAAAAAAAAAAAAECAwQF/8QAJREBAQACAgMAAwEAAwEBAAAAAAECEQMSEyExMkFRYQQUM3Ei/9oADAMBAAIRAxEAPwDkAAAAAAAAAAAAAAAAAAAAAAAAAAAAAAAAAAAAAAAAAAAAAAAAAAAAAADeER3P0AkCO5+g3P0AkCO5+g3P0AkCO5+g3P0AkCO5+g3P0AkCO5+g3P0AkCO5+g3P0AkCO5+g3P0AkCO5+g3P0AkCO5+g3P0AkCO5+g3P0AkCO5+g3P0AkCO5+g3P0AkCO5+g3P0AkCO5+g3P0AkCO5+g3P0AkCO5+g3P0AkCO5+g3P0AkCO5+g3P0AkCO5+g3P0AkCO5+g3P0AkCO5+g3P0AkCO5+g3P0AkCO5+g3P0AkCO5+g3P0AkCO5+g3P0AkCO5+g3P0AkCO5+g3P0AkCO5+g3P0AkCO5+g3P0AkCO5+g3P0AkCO5+g3P0AkCO5+hJc0AAAAAAAAAAAAAAAAAAAAAAAAAAAAAAAAAAAAAAAAAAAAAAAAAAAAAAACdMVK6EXzTkkwLtN7NU5JJvKXNF6qhRaltUpvzlyj8kYsSjO1RSSU48kbsoxnFxksp+RiT3W7fUak6Kr20l4Vvbuad1FlLxNcvJrodCylxX7yHwyfNfJkIWuUHtxdD4Ze8v6jtr8jrv8XNBO3b4ktqxHPIgbYAAAAAAAAAAAAAAAAAAAAAAAtu09tG3xYOO5ZXPqgKgSjCc87ISlhZeFnBiMXKSjFNt9EgMAzKLjJxkmmuqaMAAWz09sKY3Sg1XP3ZdyoAAAALtPprNRv8NJ7FueX5FIAAlGMpyUYRcm+iSyBEGWnFtNNNdUzAGJdDNcVJvdnCWXgxLoSr6Wfw/zQDNXwT/Ov6DNXwT/ADr+hWAJyjHapRyk3jDIFj+4X8T/AERWBOME1lmdi9TMPdRICGxeo2L1JgCGxeo2L1Jhpp4aafqBDYvUbF6kwBDYvUnGqGyUpbnhpcngEl91L5r+YEdlXwz/ADL+g2VfDP8AMv6AAFCptLbP8y/oZnXVGTjibx57l/QR95fMzZ95L5gR2VfDP8y/oNlXwz/Mv6AAYlCDT2qSa583kpL10fyf6FAE4RTUpSziK6LzM5q+Cf51/QQ+7s+S/UrAszV8E/zr+hicUkpRzh9yBZL7qHzYFZOME1lkC6PuoCOxeo2L1JgCGxeo2L1JgCGxeo2L1JgCGxeo2L1JgDFdUZTUW3hmdlXwz/Mv6EqvvERAbKvhn+Zf0Gyr4Z/mX9AAGyr4Z/mX9Bsq+Gf5l/QABsq+Gf5l/QbKvhn+Zf0AAbKvhn+Zf0Gyr4Z/mX9AAGyr4Z/mX9Bsq+Gf5l/QABsq+Gf5l/QlZTVBpe28rPvL+hEsu95fICvZV8M/zL+g2VfDP8y/obdPD53U+LG6hRSy90ucfma1kNk3HdGWPOLymBHZV8M/zL+g2VfDP8y/oDMouLxJNP1ARrqk3ymsJv3l/Qxtq+Gf5l/QlD/F/CzNNUr7Y1wwpS6ZAr219pfm/wCDG2HaX1/4L7tNKvkpwsfmoPLRGuiVkJyX+Dy82BTiHaX1MYj2f1JOLTw00zDTT5rAGMR9fqYwvU3IaCexTtshUn03PmVanSWadKTxKD/xR6Aa5JdCJJdAABkADAAyDAAyDAAyDAAyDAAyDAAyDAAyDAAyDAAyAPIDABmMXKSjFZb5IDALIwWLN72yiuSfm89CLhKMIyaajLo+4EQDYq0d9sN8Y+z5ZfUDXBtLQalpvZjHk2uZryi4ScZLDXJoCILaKJ32KEPxb8jfhw/TOCfiuWfNNYA5YNvU6NVRc6pqcE8PujUAA3I8OvlBSThzWUskKNFddFyjhJPHtMDWBZdVKmxwnjK7FYAAACzT/wB4r/iX6lZOmSjdCT5JSTYG5b95d/HE3zRtT3TlFbozlFqUea5G5OcYRzOSS9TM/bVvxyrtTZa2m8R7Irqz4scNrmuhbDT+zvul4cez6sshPdiNUFCtNbpSJ236i9de6alw8NqbTsUsJ+fXzNMsukp3TkujeSsuOOkyy7NzhdFep1ka7VmLT5ZwbV/7KounVLT3OUXhtS/5KeB/+4x/hZZxOzROy6MaJq/Pv55Z+pplG3T6aekqenqu8Wb6uLxj9Db1ei01NUKIaecrJrlYk3h+pKVs6eE6OdbxLMVnBPiWrvo1mnrrntjPGVhPPMDl67h09LbGEN9uV1UfM03CanscZb84245nd4rrrdNraoxl/Z8pOOEXvRxnxOGrX3ezc/mByNBw2eouauUqoQWZZWGbUY8Hnd4ChNNvCnl4z9TZ0971VGulD3m2l8scjgVpu2Kj7zawBs67QT02q8KClYpLMcLLaKI6a+SbjRY0urUGeiva/amki/eUXkojrr3xr7PuSqTxtx6AcGMZSltjFuXZLmTsouqWbKrILvKLR6HS01w1ustW1STwm/LkRjbXKi2vVa6i5TXLDSwB5sGXybRgDv11aZT0tL01cvGrzKTXPoRVOmvrnjTwh4Vqitvms+ZzPt9/iVTzHNS2x5eQhr761NRcfblvfLzA6s6dNZbqtMtNCHhw3Ka65MzjpI2U+OoKTqWzf7ufU5K4herrbcx3WrEuROPFNTGUX7DxHbhx5YA61S8FalS01UF4e72HykjU0FGnhq4Ww1FU5SfKvDysmpHimqVzscovK27XHlg11fNajx44jPdu5LkB2ZLTznrbbNNCTqf1M6XT1WKEbdNpoRtTaW72/wAORzbeJ6i2M4tVpWLEsR6maeK6mmuMIuD2rCbjlpAdOnTUuvTVygpR3yWH+JRKrTarS3Yqhp/Cs2qa7epox4nqY7MOPsNtcu5WtXaqbasrba90uXmB0KNFprKLaK7a7rWt0ZJYa9C6WnqrslCvT6dxpglOdrwsnG099mmuVtTxJF1XENRVbZYnFux5kpLKYHZjp6qr7XUoxVlOXt6fgaGm02hpujO7VV3R6bcck/UolxXUzk5Nwy47fd8jW0+os01viV4z05rIHbhoq7dVGdlFCrjFyTrfszJ6f7L49UoLT+Nlpqp8sdzky4pqpWxsU1HZ0jFYQnxPUTshP2IuDylGOOYFevnGesscYKGG1hefqaxdqdRPVW+JNRTxj2VgpAxLoSr6Wfw/zRGXQlX0s/h/mgIRSckm8LuSsrlXLEvwa8zEXtknhPHkxOcrJbpPLAk/uF/E/wBEVlj+4X8T/RFYFsPdR2NDXTZwyULmoqVmFLs8HHh7qL1qJrTOjlsct3TzA692nptp09dcZSqi3zi0s488sV6HS1SnLa5xlW5JNqWPkzmVa++qEIxcdsM4TXXPcn+1NR4in7HJOO3bywBdPT6TTKnd4sp2YlFprC7GxxDT0Xz1ElvVtcVJvPJmh+0r9jj7DXlmK5eiIy110pWtuObVtly8gNY6Om08I6ZWtRy+bclnC9DnG1p9ZKqvw5R3R8sPDQEtbRGNMLVFQlLlKKXLoaq+7l81/Mt1WqlqGsrbFdEVL7qXzX8wIgFvjR8GNfhQypZ345v0Arj7y+Zmz7yXzL46mHjyn9nqxJYUccl6lFn3kvmBfpIRsVkbIpV4zKz4O3/+vMjrIqFqhCCjBL2X13Lvkp3Pbty9uc4zyyG20k22l09AMLo/k/0KC9dH8n+hQBZD7uz5L9SMIqUknJRz5slD7uz5L9SMJOElJJNruAnCVcnGS5kpfdQ+bIyk5ycpPLZKX3UPmwKy6PuopLo+6gOto7vE0ten096puWcxcMqf4iHD6F4UL3Y7rs849Is1KdfdRWoQVfLpJxWV+JmviWprg4qSfXDkstZ7Ab+n0OlpvpjYp2TnFvDw48iemnVVpG42uqHjYzKO7Pocta+/xKp7lurWFy/UsjxS+OUo1JN5xs5ZA3b+G136iUo5i9/tJYwo90ci5QjdONbbgnhN9TZr4jZDxpTzOy1Y3Zwl+BpgbegojbKUpJPb0T6Nl9lEbKrd0YJw6Sisc/NGlptRLTz3JZT6ruXXa52VOEI7VLq28ga1X3iM0V+NdCvONzxnsYq+8Rmmx1XQsSy4vOAOi+GaeKk3qZYhLbL2PMn+zUqnS51r+0S3uHPGO+TUlxCco2x2L+0mp9ehOzikrE1OmDTkpNNgbFfDdNC2yFk5y2wziUGsevqVVcMjbp3ZC2baWVmtpMx+1pbo4oj4ai47dz559R+1mo4WnhnbtTy+SAv1+gU5wmpKG5RjCKj1ZGfBcbVG6Wc4k3D9CmXFrJZzXHDSws9GvMj+0V4sbfs1atTzKSzz/oBauFVzx4WobxPZJuHRmP2VGzb4F+5b3CTccYaK6eJzqziuLzZv6ka+I2VQ2wjFPxHPL/QDafBVvji6Si8p7o4f4EIcKrnOxeNPEPLw/a+hQ9bX4kZrSVLq3zeWy39q5u8SWng2klH2nlfiBoWRUZyinlJ4y1gld7y+Ri613XTskknJ55GbveXyA29FJLh+rTaTaWFk3KdSq46CHiJQcfa/kcQAehp8PTwhG+UE/Ek17S5Z6GjxayU4VqyEVJN4asUnj6HMAEof4v4WX8OaWuqbaSz5/Ioh/i/hZADpUWKzW2NbIOOcKHLfz9TZsltjOcdu/Cys9Dj12Sqk5RxnGE35GK7Z1Wb4vn558/mB0bJRVkZTkk3nEW00mUL+01dMbIpc/iyaLeW2IycZKUXhp5QHc1Ma1F22Q3uKwo9epDwfD4fKuzDxFt+hTHiNdle2xzhLzcSnW8QVsHXUmovq35gaD6GV0IskugAyYMgYAAAAAZNi3TQr9nxW5tJqKh1NY39RKN23bqYRikuTXPIGmqrG2lXJtcny6FlemsdsIWRlBSfVo3VfXbZXGFnOM1nK9/1MK6uqzbO1Tbs3efsoDR8Cx7nGEpRi8ZSIqqxpNVzw+jx1N6F9bdcvG2KtvdH4gtXXGyl7vYUWmuzA0pVThNRnFxb7osu08K5OEbXOxctqgT1N251pzrkovPsZ5fUutshPURs+0QcIyTUccwNSOmucox8OS3dG0Y+z2+JKCrk3HrhG3XqYJzcrP/lTXyJRvhHxIK2Dk5blKTeMfgBoKqxptVzaX+VmZUWxScq5rPJZRtz1CnGCU1udvNRyk0W22wqtsU7VJymsR+HAGj9nn4blKM1JNJR2PmRdFqkouuSk+ix1NxamObX4qTdicW+fIn49MLE98d0otNptxQHOnCVcts4uL7NGPIv1dm+UVuhLasZhn+ZR5AYJ1xg1Jys2NLksZyQJRaUk2tyT5ruB19JRVLTRlKMZyksybWW2c++Fattj4rShyhHDf4GIWvFrVjr81GLws5KpTUoRW1JrOZdwMVx32Rj8TSO3fb9njWoVuSb24XkcSEnCcZLrF5RvS4nNwW2CU0+fmmBvWXuF9darclPrLsaHFa1G6M1/iXP8BHidm9b4x2+e1cyjV6qWpmm4qKj0QGzw9OOkvnFe3zx9DnGxpdQ6ZNNtRl1a8vUauUXanHw3yzmCxn5gbXDFuovjJew/6czmnS1OrqrodOnxlrDceiOaB6Cj7iv+FfoV6L7mX8cv1NeviVUK4RcJ5SS8jFWtqojseZNtyzHpzA1uJf3yXyX6GqXaq5X3ysimk8dSkAAAAAA2tG2lJxsUZcuT6NFquhK7CmnL45dPwNAGLju+25lqeo2LNsZN2S8WeeifLqVTslZjL5Lol0RAG2AAAbXD9THSapWzi5JJrCK9Var9TZbFNKTykykAdGziFc9BRp1CW6tpt+TwR4hr46q+q2uMo+Gv8RoADqa3X6bW086JrUYwn5I3HdZpeBLxcxsa2xT6nAjJxkpReGnlMt1Gqu1LTusc8dALNBrZ6K7clui+Uo9zfjxHh1drur0k1a+eXjGfqcYAb9XEX+0Vqrk2um2PkjEdbBcVer2y2OWcefQ0QB048V8PXW3Rg3VZ1g+pi3VcN8Oaq0kt8l1b6f7nNAAAynh5wn8wMAs8T/JD6DxP8kPoTdXUVgs8T/JD6DxP8kPoN01FYLPE/wAkPoPE/wAkPoN01FYLPE/yQ+g8T/JD6DdNRWCzxP8AJD6DxP8AJD6DdNRWCzxP8kPoPE/yQ+g3TUVgs8T/ACQ+g8T/ACQ+g3TUVgs8T/JD6DxP8kPoN01FYJ+J/kh9CAKxLoSqx7SbSysLJGXQj+D+hUWeFLvD86/qPCl3h+df1K/wf0H4P6AWT9muMcpvLbw8lY/B/Qfg/oBZBrb1JZXdFP4P6D8H9ALsruhld0U/g/oPwf0Auyu6GV3RT+D+g/B/QC7K7oZXdFP4P6D8H9ALsruicGnXJbo5yurS7mt+D+g/B/QDY2/5ofnQ2/5ofnRr/g/oPwf0A2VHDT3Q/OjNiTm3GUGv4kav4P6D8H9ANjb/AJofnQ2/5ofnRr/g/oPwf0A2JezFtuL5Y5STNcfg/oPwf0Asr5xnHKTa5ZeB4Uu8Pzr+pX+D+g/B/QCzwpd4fnX9RZyjGOU2st4eSv8AB/Qfg/oALYtbVzKvwf0H4P6AXZXdDK7op/B/Qfg/oBdld0Mruin8H9B+D+gF2V3Qyu6Kfwf0H4P6AXZXdDK7op/B/Qfg/oBs1Sj4kcySWe5jb/mh+dGv+D+g/B/QDY2/5ofnQ2/5ofnRr/g/oPwf0A2Nv+aH50Nv+aH50a/4P6D8H9ANjb/mh+dDb/mh+dGv+D+g/B/QDY2/5ofnQ2/5ofnRr/g/oPwf0A2Nv+aH50Nv+aH50a/4P6D8H9ANjb/mh+dFlqUpJxnB8uftI0/wf0H4P6AbG3/ND86G3/ND86Nf8H9B+D+gGxt/zQ/Oht/zQ/OjX/B/Qfg/oBtQSTeZQ5p/4kR2/wCaH50a/wCD+g/B/QC/b/mj+ZGNvrH8yKfwf0H4P6AW49Y/mRjHqvqiv8H9B+D+gE8eq+pj6fUj+D+g/B/QDJJdCH4P6E10QAyYAGQYAGQYAGQYAEoycZKUXhro0Yby23zbMADIMADIMADIMADKeGmuTRmUnKTlJ5b6tkQBkGABkGAAAAAAAAAAAAAAAAAAAAAAAAAABHLGWBIEcsZYEgRyxlgSBHLGWBIEcsZYEgRyxlgSBHLGWBIEcsZYEgRyxlgSBHLGWBIEcsZYEgRyxlgSBHLGWBIEcsZYEgRyxlgSBHLGWBIEcsZYEgRyxlgSBHLJZ5ZAAjljLAkCOWMsCQI5YywJAjljLAkCOWMsCQI5YywJAjlk1zAwCWEMICIJYQwgIglhDCAiCWEMICIJYQwgIglhDCAiCWEMICIJYQwgIglhDCAiDLRgAAAAAAAAAAAAAAAAAAAAAAAAAAAAAAAAAAAAAAAAAAAAAAAAAAAAAAAAAAAAAAAAAAAAAAAAAAAAAAAAAAAAAAAAAAAAAAAAAAAIGVzMGV5/JgOXZ/Ucuz+pWALOXZ/Ucuz+pWALOXZ/Ucuz+pWALOXZ/Ucuz+pWALOXZ/Ucuz+pWALOXZ/Ucuz+pWALOXZ/Ucuz+pWALOXZ/Ucuz+pWALOXZ/Ucuz+pWALOXZ/Ucuz+pWALOXZ/Ucuz+pWALOXZ/Ucuz+pWALOXZ/Ucuz+pWALOXZ/Ucuz+pWALOXZ/Ucuz+pWALOXZ/Ucuz+pWALOXZ/UeqKycfdfzAGfIwZ8gMG/pdHVdXTKavzOUk9kcrkn0NA3tNq6qoUxnG5uEm3tsazleXPkBVqaYVVUygrMzjl7ly/A1jY1F0La6YxU04Rw90m1+HY1wLVp7nX4ipsdfXdtePqVHSgvtsIwfiVWwqwn/AIZRX6E/sVa00/EhXGyEIy9iUm+ffPL6AcoHVuq0tf2rGmT8Bxxmcuee/MzdpdPTG+yOn37djjFyfLK59GBy1CTg5KL2p4bxyRE7UtLVGNlCeyEra8rPu5XQrnToI2YnHDjY04w3vKx55X6AckGzralXODjCEYTjmLg20/XnzNYAWQ6FZZDoBk2dLVTZGbus2tdOZrG1fqKrPC2Upbeq7+gGsYL9XdXdYpVw2pLD9SgCbqsjHc65qPdxeCBs6pR8Zc3uwsrHLp3JTjVHxcVL+zkkvafP5gauHjOHjuYNycY1wtShujui8NvllGXTVDfJ7cbksSb5cs+QGmll4XUYe7bh5zjBtQhXBwlGPiKVmE3nkS2xjdGWzc5WtZy+XMDUcZJZcWl6oibbrg55lHOXNvn1wI11yhGzZj2ZPam+eANQG040rZKUFHdBvHPGc/Uoui4WNOKj6J8gIAAC3wJuaisNNZUl0x3K2sNpNPHmvM2FfCMPBWXW/efm2a7wm8PK7gYZEzLyMACy2vw5JZzmKf1RiFk63mEnFvzRbfqZ2eypy27Umm+rwBrgADenNuX9lbRGHkml/Q19S05xw4t7facVybNid26WYavZHyjiXI19TNTnHE97UcOWOrApNjTSSjZiUIzeNrmvqa5saaxQjYvE8OUsYlh/yAsc3sn4ltMlteFFLOfLyNM3HbiE9+q8ROLSjh9fxNMAAAAAAAAAAAAAAAAAAAAAAAAAAAAAAAAAAAAAAAAAAAAAAAAAAAAAAAAAAAAAAAACUISnJRist9EWW6a2qO6ceXdMlo7Y1X7p9GsZ7G5rNRV4EoxlGTlySTyBywWUJO+tNZTkuTJwin4+UuUXj05gUA2JaeKU0rMyjFSa28sfMxZp1CcYqUpZfVQ5P5c+YFANmWlaaWZJyi2lKOHy8hHSOSzmTxFNqMcvmBrA2JaZV7nZNximkmo83n0I6qKjqZqKSS7AYorjPe5tqMI5eFz6lz09MU5uc9ijGXJLPMhp03XeksvZ/NGzHMI7s2Jxqhyh1fUDSvrVVm2LbWE1n1RWX6xYveXJ5SftdehQAAAEDK8/kzBlefyYFYA8wLY6a6VfiRrk49yo9BC+qVSnGcVDHfocK6UZ3TlH3XJtAQBuW0VxejxHHiRTlzfPmTt4fuutcLKqqo2utb5Pr/uBoA3J8OtqhKVtldaUnFbm+bXyRCvRuypzhdU9qUpRy8xXrywBrA3P2bfvsh7OYSUOvvN9h+zrXKCrsqsUpOGYt4i13ygNMG9qdLXTw+uyMoWTlY05wbxj8St6C1Ze6G1V+Luy8Y+nUDVBvT4fN2T3SopipKHvSw21nC6sR4XqJWwr9jM3JZzyjjrkDRBddpp0VxnNpbm0l58nhlIAAAAAAAAAAAAAAAAAAAAAAJx91/NECcfdfzQAz5GDPkAAJKDfXkBEE/D9R4fqBn7Rd4fh+NZsxjbuePoHqL3BQd1jiuW3c8EXBrpzIgSdtkt2bJPf72X1+ZfXrra6bIKc982vb3vKS8jVJKLYGXbY007JPc8vL6vuTeq1DcW77Xt6e2+RHw/UeH6gYssnbLdZOU5d5PLIknX2ZFrHUAZjLCImUm+gEt/oN/oZ8P1Hh+oGN/oN/oZ8P1INNdQLXqbHHa7JtdtzIu1vOW+fXn1KzKWegFq1FieVOafdSMRvnFtxlJN9Wn1IqvuzPh+oEo3zjnbKSz1w+oWonHO2clnrh9SPh+pFxaAn40vil5+fczC/bKLe7EeiUsYKTIGxZq5SlFxc47VjO7L+pU7HJ5eW35tl9WgnNZnJQ9OrLP2cv3r/ACnO8uE/bpOLO/pp7/Qb/Q3P2cv3r/KV26CcFmElP06MTlwv7LxZz9Nff6Df6ETB0c0nLOBuLqNJZct3ux7sv/Zy/e//AKnO8mMurXSceVm5GluG43f2cv3r/KYnw6SXsWJvs1geXD+r4c/409w3CcJQk4yWGiJ0cktw3GEm+hPw/UCO4biXh+o8P1AjuG4w011MAS3DcIQlZJRgm2zchw6TXt2JPslkzlnjj9axwyy+Rp7huN79nL94/oP2cv3j+hjzYf1vw5/xo7huN39nL96/yldugnBZhJT9OjLOXC/tLxZz9NbcNxgwdHNLcNxEAS3DcRAEtw3EQBLcNxEAS3DcRAEtw3EQBLcNxEAS3DcRAEtw3EQBLcNxEAS3DcRAEtw3EQBLcNxEAS3DcRAEtw3EQBLcNxEAS3DcRAEtw3EQBLcNxEAS3DcRAEtw3EQBOM3GSa5Nc0Wz1LlGSUIx3e84rqa4Aveok5Tlhe3Ha/8A/PwJR1bjhQhCKTzhZ5+Xc1gBe9TLdBxjGOx8kh9pk5Tcoxkp9YvoUAC+OowpLw4OLedrzhf7kbLXbY5ySy+xUALI2Sg8wk4vungl9ot3OXiTy/PcykATlNybcm235tmNxEAS3AiABlefyZgyBWCWz1Q2eqAiCWz1Q2eqA269bXspV2n8SVPutT25XZrBCetlOtqccyd3itp+nQ19nqhs9UBvricPFts8CebG8x8T2X81jmHxTOmdXhSWa/DwrPZXqo46mhs9UNnqgN2XFLGtO1BKVLy3n33jH6GXxSXjQsirmlJtxsuck010XLkaOz1Q2eqA2L9VXZpoUVUuuMZOXOe7r+CMvXSfD1pdvR+/nnjrj6mts9UNnqgOh+1ZN2JxsjGclJeHa4tcsdcc1yK4cSshTdBJt2SzGcpZcf6mns9UNnqgNjX6x6y1T2bEljbnPzZqktnqhs9UBEEtnqhs9UBEEtnqhs9UBEEtnqhs9UBEEtnqhs9UBEEtnqhs9UBEEtnqhs9UBEEtnqhs9UBEEtnqhs9UBEnH3X80Y2eqMpYWABnyMGfICVa55LCFfQmAJWVyqltmsPGcFmknCFyc/wAH2fchdCcLWrOcuue/qBArsXPJYQs6ARisyLSqD9otA2dNpvEi5y5/DHONzNmejreE61VHbly3dH2HDpVzqUWlvg21+JbqtRTW/Dtg5ZWcY5AcqyDrslCXVPBXNZWexbdY7bZTaxufQrk8RYFRalhYKlyZcBvaGrfTJxjBy3pPes8jav0lVsMRjGEvJpGho9T4EsS5wfX0OtGSlFSi8p+YHCsrlVNwmsNEGsrBu8RuhZNRgk3HrI0wKSyCws9yt82WxeYoCddbtsUI4y+5J7YxjmMZZi/Pmn3J6L+9Q/H9CLipRim8bYv/AA+fYDD2yhJqMY4xjnzKyx7YQlFSTyl/hKwKpLEjb4dUpTlZJZ29Pmak37RvcNktk4+aeTny2zC6deKS5zbdNiSqoahKvxJY9pt4wa5e7KrEnbGe9LGY45njxezJG6EYuMoe7JZWfIqNm1K6tTq6QWHDzS7msMpqmN3HP4jUozjZFY3dfmUaWpW3xi+nVm1xKS2Qh5t5KNBJR1KT/wASaPTjb49vLnJ5dOolhYXQnGvdt9uC3Z6vp8yBfXKK8PMoLGc5hnH9Ty46t9vVluT0x9nf72n85XOOyTjlPHmnlG34lf72r/8AqNW5p2NpprulhfQ3lJJ6Zxtt9tPX1KdLnj2o/ocw6+rkoaabfmsHIXJnfgt6vPzydlqWFgv0umeolJJ7Ul1KTb4c643OU5bWlyz0O7g2Ps1HheBuh42Ovnk0tVpnp5RTluUl1Nz7IvtH2jxV4ed5r8RdcrlKE9za54eUBqNZWCouKXzYHT0FShSp49qX6GyV6d509ePhRYfPzu8rt9HCaxkjKTabSeF1fYKLabSbS6vsSqsdUsrmnyafRolbapR2Vx2V9cd2TU0bu1QAI05/EalGcbIrG7r8zSOlxJrwYrz3fyOce3iu8Hh5prNgGQdXJgGQBgGQBgFtVErYyllRhHrKXQzTprLouUcKKeMt4ywKQTdc1Z4bi96eMEvs92/Z4U93bAFQLI0XSk4xqm2uvs9BKi6Md0qppZxloCsF32e1OO+ucVJ4y0Zs0titnCuMpqDxlICgFiptcHNVycV54IAYYDMgEm2kllvyNqzhmsrqdk6WoJZbyuRr1WOq2FiWXGSeDrTro4o7baLbK7tuZQl0aA4xlJt4Sy2egVGmhqq9D9mhJSry7Gvaz8yOzT6SrSv7PCyc57d7+fUDhThKuW2cXGXZrDLNRprdM4q1JOS3LDzyNzjs4y18oqCi49ZLzOnc6rdXRprdPCanV77XNAeaB6CvQae/wZxhFRqlKNuPPHc4mpnCeoslXFRg5ckumAKgZAGC2qidvOKSXdlR0YS20wUfhRzzyuM9OnHjMr7alumsqW54a7opOnCWXh88l6qrx93D8qOfm19dfDv5XFB2vBq/dw/Kh4NX7uH5UP8AsT+H/Xv9cUG5xCFcJQ2JJvqkah2xy7Tbhlj1umC2iieom4VpNpZ5srNjROCufiWyqW3rF4NMo/ZbfC8TC2529fPOCN9E9PNQsSTazyZsZq+zJfaJ7t/u7uWM9SvWuDuXh2ytW3rJ5A1gZAGAW6ZRlqIKfu58zrbILpCP0OWfL0utOvHxd5vbiFtVE7ecUku7Os4R+FfQoslh4XIx5rfkdPBJ9rRt01lS3PDj3RSdOEsvD55NXXRhC1bEllc0jeHJbdVjPjkm41gZB1cVtWmsthvjtUc4zKSWSf2K34q/zok9n2Ojem47pdOpVCMJp7YzbjDL5rk+/wAgMXUTpxvxiXRp5KjZu/uWm+c/1RrgYBkAYAAAAu+zXfA/qBSC2WntjFylBpIqAAAAAAAAAAAAAAAAAAAAAAAAAAAAAAAAAAAAAbFGld0HLdtWcdANcHQnTTclGqUVKPXCNO6vwrXDOcAVmfIwZ8gMweGWlBJSa6MC0Nt9W2Vb2N7AtKpvLDk31ZEDJZGafXkyoAXqW15jLD7pmZ2yseZzcn05s1wBc5JeZXKW75EQAJxnjkyAAuyu6LI6iyFbrjPEX1RqgC7K7ohKeeSIAASjLb8iIAvjPDUoyw10Zb9ru/ev6mmANidjslunLL7shKaXTmyoAZJ02ypsU4/iu5WCWb9VZde469WqqsXvKL7PkWeJD44/U4gOF4J+q7z/AJF/cdxWwXSyK/Eqt1VVa95SfaPM5AE4J+6X/kX9RZdbK6xzl+C7EE2mmnhroYB3k1NOFtt26dGthOKVjUZevRmx4lfxx+pxAcbwS307Tnsnt2/Eh8cfqRlfVBZdkfqcYE8E/q/9i/xsarUu+SS5QXRdzXAO8kxmo4ZZXK7qcZ45Mnld0UgqNv7RZ4Phb/Y7YRVld0UgCcp55IgAB0NBetvhSeGvd9TdOGXQ1d8VhTyvVZPPnw7u49HHzamq6wOX9uv+JfQfbr/iX0OfgydPPi6g6HL+3X/EvoV2ai21YnN47LkWcGX7Lz4/pZrb1dYlH3Y9H3NYA9WMmM1HkyyuV3QAFQAAAAAb+jvjHT+H4sa5KWXuWcozKdF8HCNiqUbHJZXVHPAG3LUKXEPFhJRWeTkuRsOen8XPiR3uPxS2ZOYAOnqNTW4WeHZze3GM8+4lqITtuXiZUlFR+ZzDKeHldQOpfZCq23fbu3tYhz9kPV1tyULK4tTbzPOGvwOZOcpycpPMn1ZEDoq+FlE1bbDHPG3Ka/qjnAAGAAJQk4TUovDi8o3bOL6qytwzCO7k3GOGzSjtz7Sb+TwSzV8M/wAy/oTa6ba4vq40+GpR5LClt9rHzKJ6y6dVVbaxU8xeOZXmr4Z/mX9Bmr4Z/mX9Bv8Aw1/q3V623WbXaoZj5xWGy/8AbOr2bU4LlhS280aeavhn+Zf0Gavhn+Zf0G/8Nf63qNZXp+G2wjbKV9z5rHu/ic0szV8M/wAy/oYk4Y9mMk/V5/kNmkAAVAtrvlCO1rK8ioEsl+rLZ8XT1EpLEVtz5le6XxP6kQJjJ8Llb9S3S+J/UbpfE/qRBdJtnqYAAF+l1D01jmoqWVjDKABtfbH4HhbF727OfXJDVah6mxTcVHCxhFAAAAAT8Wz95P8AMyAGjek/Gt/eT/MycNRKKxL2vm+ZSCXGVqZWLp6iUliK258yowBJJ8S236AAqNivURjUq7KY2JNtZbWDPj0f+LH87NYAXX3K2MIxgoQhnCTz1KQAAAAAAAW1+G1iUJSl/lZUZTaeU8P0Ass8NLEYSjL/ADM2dPFfYnNRp3b+tmOmDSbbeW8ss8Z/Z/Bwsbt2QN2uuubobrh7UJNrBraKS8eNcq4SUnz3LLQr1koOv2Ivw4tfPJj7RFWwshTCDi88s8wNqvbY9R/ZURdfKLccLr5kdOvEjfJVUymmklhbTXr1Tg7M1xkrOqYlqfYnCFcYKeM49AM66EK79sEk8Lcl0TNYtuudzi5JbksNrzKgAAAAAAAAAAAAAAAAAAAAAAAAAAAG5o3XGue6eG+TyzTAHQp08dPPfOxY6LyNTUbfHlseVnqYnbOyKU5ZS6FYAz5GDPkAIuaTwZK5+8wJeIuzHiLsysAWeIuzHiLsysAWeIuzHiLsysAWeIuzHiLsysyBPxF2Y8RdmVgCzxF2Y8RdmVgCzxF2Y8RdmVgCzxF2Y8RdmVgC1ySSfcx4i7MxP3YkALPEXZjxF2ZWALPEXZjxF2ZWALN69R4i7MrAFniLsx4i7MrAFniLsx4i7MrAFniLsx4i7MrAFniLsx4i7MrAFniLszKkmmyonH7tgZ8RdmPEXZlYAs8RdmPEXZlYAs8RdmPEXZlYAs8RdmPEXZlYAs8RdmN69SsAWeIuzHiLsysAWeIuzHiLsysAWeIuzHiLsysAWqSbwY3r1I1+8YfVgT8RdmPEXZlYAs8RdmPEXZlYAs8RdmPEXZlYAs8RdmPEXZlYAs8RdmPEXZlYAs8RdmPEXZlYAs8RdmPEXZlYAs8RdmN67MrC6oC2UlF4MeIuzI2e8RAs8RdmPEXZlYAs8RdmPEXZlYAs8RdmPEXZlYAs8RdmPEXZlYAs8RdmPEXZlYAs8RdmPEXZlYAs8RdmPEXZlYAs8RdmZckkmVE392gM+IuzHiLsysAWeIuzHiLsysAWeIuzHiLsysAWeIuzHiL1KwBZ4i7MeIvUrAFniLsx4i7MrAFniLsx4i7MrAFniLsx4i7MrAFsZbiRXX5kwMgwABlLLwYJQ95AHFoxgnLqRAxgYMgDGBgyAMYGDIAxgYMgDGBgyAMYGDIAxgYMgDGBgyAMYGDIAxgYMgDGBgyAMYGDIAxgYMgDGBgyAMYGDIAxgYMhgRM+Rgz5AYK5+8ywrn7zAiAAAAAA3tLwyzU422RWY7uZZZwe2E3F2w5fMDmg3p8NshjNkeZrTpcG02uTAqBlrDMAAAAAAAAATn7sSBOfuxIAAAAAAAAAAAAAM5AwAAAAAE4/dsgTj92wIAAAAAAAAAAAAAMmAAAAAAACVfvGH1Zmv3jD6sDAAAAAAAAAAAAAAAAAAABdUAuqAlZ7xElZ7xEAAAAAAAAAAW10uxZTS54AqB1auBXWyaV1awvUr1PCLdPGcpWQexZeMgc4AAAAAJv7tECb+7QEAAAAAAAAAAAAN7S8Ms1MISjZFb3hZ+eANEHR1vCLdHs32Qlvz0z5HPktsmuzwBgAAAABOvzJkK/MmAAAAlH3kRJR95ASl1NvR3WKm2KlyhDMeS5GpLqZhZKtSUXyksMDoaODsqlZYlJ2vDfJYXchGMtNQlGShOU3GU2umDSnbOagm+UFhYLVrLU5N7ZKXVSjlAbKm6ZzhZco2yw1Yo5yuxp6mM4XyVjTl1yvMmtXbucmoSb7xXIpsslbNzm8yYEQAAAAAAAAAAAAAAAAAAAAAAAAAAAAAAACcKp2Z2QlLHXCyQMptdG18gJyoujFylVNJdW0Vslvk/8AE/qRYETPkYM+QGCufvMsK5+8wIgAAAAPRcGtpTipTjlV9/kdST0knmTg38zyGm1L089yipcsdTZ/asv3S+oHplTpLekYSx6ld3DdJKEnGiLk/mcOjjNlW7GnTz6nc0etneqt1W3fHPy5Aef4hw+2F9kq9PJVRWcpcly5nOaPcautT01yzjMGv9jyGs06o2Ylu3ZA1QAAAAAAATn7sSBOfuxIAAAAALKK/FthBvG6SQFeAegr/wCn4Tz/ANxJY/yk/wD03X/5Mvygec5lq09z6Vyf4He/9N1/+TL8puQ4VGH/AMr+gHlvst/7qX0MrR6h9KZv8D1X7Nj+8f0Jw0MYLHiP6AeW/Zmt/wDFt/KVWaW+pN2VSjt65XQ9yuRzOKaJS019m98+eMeoHkwW31+FJLOcoqAE4/dsgTj92wIAAAAAAMpNvCTb9C2nTzttjBxkk/PAFahKXupstho9TY8QpnJ+iOzoODRnXJu2S5/CdbTaJaexSU3LljoB5T9ma7/xbfyj9ma3/wAW38p7UAeGlotTHnKia/AlDh+rnHdHT2Nd0j1tukViac2ueehbTSqavDTz6geJnprq2lOqUW+6Kj2Gp4XHUSi3a44WOhytdwKOmodsbpTecY2gcQE7a/Dnt5/iQAlX7xh9WZr94w+rAwAX6eiNsW3PbhgVqqx9IMz4NnwM9JVweDhF+O+aXkWfsaH76X5QPLeDZ8D+hFwlHqmj1f7Gh++l+U0tRwaOx4tl1+EDgE1VN9Is6keDLK/tJdfhOhVwaOX/AG0vygecVFrfKuX0LYcP1dkd0NPZJd0j0keDwi8+NL8pu6elaerYpbuecgeQ/Zmu/wDFt/KU26e6nPi1yjjrlHuuhwuPURWnstVmZOS9kDzoAABdUAuqAlZ7xElZ7xEAAAAAAEoQlN4hFt+hhJvomdjhOgc75qTlH2e3qBRpOHXTdcpaebg3zeDu6bh+lhX7dEU8555NmG3TaXbuT2Lz5HJ1vGZVW7I1RktvXcB046jR1vKtrjn1MaqurU6K2VcVY5weGvM8utS7vZ2YxzPUcL/9up+T/VgeY1HD9RDG3TzXfkaR7q+pTg3nGEzwoAAACb+7RAm/u0BAAAAAAAAAAAbWgod9so7HPEc4PUcP09dWlqTgozWeT+Zy+AadK9z3da/5o6ctRs1apST9pLOe4EeKwjN1blnGf5HlL0lfYl03P9T1nElzr/H+R5PUf3i3+N/qBWAAAAAnX5kyFfmTAAAASj7yIkoLdJILJu6iUk2+Rja+xJ1pPqzGxeol2ZY3G6rG19htfYzsXqNi9QjG19htfYzsXqNi9QMbX2G19jOxeo2L1AxtfYbX2M7F6jYvUDG19htfYzsXqNi9QMbX2G19jOxeo2L1AxtfYbX2M7F6jYvUDG19htfYzsXqNi9QMbX2G19jOxeo2L1AxtfYbX2M7F6jYvUDG19htfYzsXqNi9QMbX2G19jOxeo2L1AxtfYbX2M7F6jYvUDG19htfYzsXqNi9QMbX2G19jOxeo2L1AxtfYxJNLmS2L1MSiksoCBnyMGfIDBXP3mWFc/eYEQAAAAF1GnldLCaXLPM3KeEWzlBqyHN+pscAqrt1TU4prw8/wC6PQx09UMbYJY6Acqjg9sN2bIPPzOpH+w08VLnsik8GbnJY2ficTX6jXRhbtlNRT5cvUDa1vF6oRtpdc29rWeXmjzmovjdtwmsdyNt1s5t2Sbk+uSoAAAAAAAACc/diQJz92JAAAABdpZbdRV/Gv1KTMW4yTTw08oD2uksVjlhNYwXuaTxg8ppeI31uWb2s/Irs4rrPElt1EsZ5ckB6m7Vxqkk4t5WeRQ+K1/u5/7HmJ8Q1U3mV0m/kiH2q794wPVftWr93P8A2IT4xVF/dz/2PMfabv3jLK1qr05RU5pcspAeuovjbLCTXLJjiCzobV6fzK9HXOM05Ra9nzHEroR0Vy3pNL+YHltdHFkfkapfq7FOcWpZ5FAAnH3GQJx+7YEAAAB1OGaSF19Ksq3Ql1z5ne/ZGg/8aP1YHH4PoZx1alvjhwZ6SEdsFHsiuFFFD3Rio+WSu/XaeuEl48FJeoGyZPP6zislOPg6lYxzxg5r4vr8vGpl9EB6+2xVVym1lLsan7Sr+CR5mXFddOLjLUSafVYRV9s1H7xges/aVfwSEeI1yklslzeDyf2zUfvWb2ieqtjCa3SW7rgD1RG2DnDCeCNG9xfiZz6ljkorLeEB5HjsHDiMot59lHOOn/1A1LikmnlbUcwCVfvGH1Zmv3jD6sDBlGAB6PRcWqThHw55UceRvLidbf3cjyMLJweYyaZNau9P7xge2qtVqbSawTPIV8T1UE8ahr6E/wBrav8A8l/7AesMTmormeT/AGtq/wDyX/sYnxXVNf3hv6Aeqhapy2pMs6HN4fZOdkHJ5zHP+x0mBqa7WQ00IylGTy8cjy/ENTG++xxi1l55nb43VdOitVwlJ7ueF6HnrqbYSbshJd8oCkAAAuqAXVASs94iSs94iAAAAyll4MG1w6rxtXGG3dlPkB0OFcPndp1YpxSU+jPRXWqqKbTeXjkUcPpVGmcdmzm3g5vGtZKOnr8K3nv54+QGnxTXQlqL61CWXy/2OQSsnKybnN5k+rEYuTWFnmBucLrdt00njEf5nqtIvC0cE+e1M5nCtC6r5udDinHHP5nT1T8LQ2uPs7YPHoBRrOJV6eKjKEnuT6Hjjc1uptscM2N4yaYAAACb+7RAm/u0BAAAAAAAAAylkwb3DaI3KzdDdjH8wOrpY/ZtPVbLmpQSwvkUxmrOK1zSwnZH+RdxJuHD6Y08pJpNLyWDGgok6qr7IPKeXJ+jA3+J83X+P8jyWo/vFv8AG/1O7xrWLNPhWr/FnH4HAm905Sby28gRAAAAATr8yZCvzJgAAAJ1feIgTr99Evxvj/Of/VsupdCFUaFZZGUnKTXJ4wUy6l0/7lX/ABsmPxrm/wDSm7TfurPzENRXGu3Ec7Wk1n1Ky/Wfer+CP6GnJQDa0uhnqap2+JCEIvDcu5Krh07q5SruqlJZ9lMDTB0I8JsaWbqlJx3bcvp3MfsqxyW22pwcd2/LxgDQB1KeHKEbt+y1OvNcovkUX8MtpplY5wk485RXVAaQN6OhhLQRv8aKnKWPalhfp1EuFW+x4c67FN4ynyQGiDofsmyTj4d1U4t4ym+TNXVaf7PZs8SE/wCHy+YFIAAAAAAAAAAAAAAAAAAAAAAXU2x2+Fas1vmmusX3ApIWe7+Jfdap4jBba4+6v5sos938QKzPkYMgYK5+8ywrn7zAiAAAAA6HC9c9Je5KCl7G3m/kei0uvd9cJOtR3PHX1PHJtdHglG62KxG2aS7SYHusbjX1GjV9coubW70PKU626vO6215/zM6Gm4zGE4blbLC58+vICWr4LCLsn40uSzjb6HJtpVePazk9VRxCm+EX4T9rlzSL1TRZ/wDDXy7xQHiGgek4lwzGnusj4aWcrC6czz91Tqkotp5WeQFYAAAACc/diQJz92JAAAAAAAAAAAb+l4bZqN22cFjuBqUQ8S6MM4yej4Po1Giftv3u3oW6PhiqjU5KtuK58up0IqNawopZ7IDM5bI5xk8xxPXynZfT4aS3NZz6m3r+LQlTtjGxNS65ODbPxLJT5+088wIAAATj92yBOPuMCAAA9NwmpeHp55/w5wdDVat6ecYqCllZ6nmK+IKvTxrW9NLGUzXv1Vlsk/EnyXnIDtarjc1W/wCwj1+I42o1TvlOTglufcocm+rb/EwAAAAtqqVibzjBu8M4bPUuu1Shty1hnotLoIUwkpwrll590DhaXg0dRYou5xys+6dvRcOjpKVWrHLDzlrBuKEIvMYRT9EZk9sXLssgDQ12sddDexPnjqa2t4zXVOK2Wc15M87ZfZZKTdk2m84cmBZxC536pzaxyXI1g231eQBKv3jD6szX7xh9WBgAAAAAAAAAAd/hOtc9TCvYliPXPod+EtyyeErslXLdGUk/RnS0fFHWowk7JNy67gPT21+Iks4wcXjmkVeknbvb9pcsHZrlubOd/wBQf+2z/iX6geVAAALqgF1QErPeIkrPeIgAAAOlwD/3Sv5S/Q5pbp7XTcpptY7MD3D5wfyPL8VjimHP/F/I6PDOJx+zYnGcm5Pm2dG2iu5JeHDlz5xA8T5nT4dolfUrHNrEsYwd9aCrOfDq/KjYqprrjhQgvPkgJpFHEP7hf/Ay9Syaut1MKqLlKLklF59QPIXdUVG3rtTVqHB117MZzyRqAAAAJv7tECb+7QEAAAAAAAAZistLud3gGmUlf7T/AMPl8zj6SO7V0x7zS/3PW6KpU78Jc8dEBoXR8SyVfTbJ8zZ8TweFzglnbCXP6lVeht+2XWOxOMm2lz5cyeqvhRpbaZwcpRg8tfIDzmqtdu3KxjJrl2otjbt2x24KQAAAAACdfmTIV+ZMAAABOv7xECdcZTmow6sl+NYXWUq2XUsr1E64bVtaznDWSqyu2EsSayQxPuhj8Xku87W19rs+Gv8AIiqyyVk3Kby2VYn3QxPuisOhw/WV6Xc5qxtv/DLk/Ro2a+L1Riv7KcWspRjL2eZxsT7oYn3QHV/acPFU/DljwtnUu0etplT4dnsqFTi8yS3fI4mJ90MT7oDrLikIRcK6pKChthl/qQ1XEI6iqXK6M5LDXieyvwOZifdDE+6A6Wl11VWmjXZXKThPfHD5fibK4rCc4RrjLO/Lds+Xy9DiYn3QxPugO7ffpaKIRhLP9o5NV2JtfijQ4hq4aqyDhGS2rDlLq/maOJ90MT7oCYIYn3QxPugJghifdDE+6AmCGJ90MT7oCYIYn3QxPugJghifdDE+6AmCGJ90MT7oCYIYn3QxPugJghifdDE+6AmCGJ90MT7oCZCz3fxGJ90YkpebAgZMGQMFc/eZYVz95gRAAAAAAAAMptPKMADYp1d1bio2NJM6ul4nJbt+oS6Yzg4QA9rXdRqaIwlOM3OKys9Ti8b0ahcnVU1FV5bX4lfBtW5a7T1bFjDWc+jO7xChWaa2e7GK5cvwYHiwWWR245lYAAATl7sSBOfuxIAAMgAAABmMZTkoxTbfRIwdbhvD1O2mzxGsrOMegGOH8PdlUnbRJtS80eio0lNSeytRyuZnTUKqDSlnLz0LwIyarg23hI43FeITqvgqr0k488Y7lnEeJyhG6rwk9rxnPqee1d71E1Jx24WOoFc7JTzulnmQAAAAATj92yBOP3bAgAAAAAAAAd3hvC1O9faNM/Dcc88pHCPeU/cV/wAK/QCNGlp08VGmtRS5pIuBocQ4g9FZCKrU9yzzeANq3U0VR3WWxiumWzzvFuK3LWSjpNTmnavdw16mtreJy1dTqdSj7Wc5yc8Cdls7WnZLc0QAAAACVfvGH1Zmv3jD6sDAAAAAAAAAAAlBZljGTtcL0FdtEbJU7mpdeZpcO0a1GpjBzccpvOD1Gh0y0un8NS3c284wBeoxj0WDl/8AUH/ts/4l+p1Jy2o89xvXOyFum8NJKS9rIHCAAALqgF1QErPeIkrPeIgAAAAAFld9taxCbSzk3IcU1zfs3yf4I55v8I0y1V84uTjiOenqB6Lhtt9ukpna22+ra9TYulNTxHOMGdJV4OmhWnnaupOUcvOQI17k3u5L1PP8Y1M1qdRWrPZ6Y/A7muvenrjJR3ZeOp5PiNzt1tssYy/5AagAAAAATf3aIE392gIAAAAAAAA6XDKFK/TzcM+2uf4nq1CK6I4fB6U6NPPd/izj8Tqa3VvS7MQUt2fMCnX6uqitOFsYz3YfM85rdZbbfZi3dCXLl58hr9U77JpwUfbb6mmAAAAAAAABOvzJkK/MmAAAAu0n94h+P6FJdpf7xH8f0M5fjWsfyi/V/er5GK6N1e+VkYJvCz5mdV97+Bmf9yr/AI2Tj/GLyflTwK//ACK/oyu2t1TcW0/PK8yBfq/vV/BH9DbCgGzTpfF0llybcoySUUupmjQ2T1MKrozqUvNoDVBdbpbq7VB1Ty37PLqXUaCcrJxuUq9sHJZXUDTBfTpLrqJ2wjmMPnl/IjLTXwgpyqmovo2gKgXS0mogk5UWJP8AysjbRbTjxa5Qz0ygKwAAAAAAAAAAAAAAAAAAAAAAAAC6qNdsPDfs2ZzGT6P0ApIWe7+Jfd4ccQr9pr3p936FFnu/iBWZMGQMFc/eZYVz95gRAAAAAAb2n0juUdlTk9ueRC/QaiNksaeaS9ANQE5U2QxuhJZ7oxsl5JgRBbDTXzxtqm89MI3NLwzUPd4uls8sZiwJcJ0l322m1RW15aefRnorn4ejuVj/AMEn38jGmoq0+nqnKKg4xWW/LkaXFtZXtnCF0farfJPr1A4GqshNR2eWc8jXAAAACc/diQJy92JAAAABKEXOajHq3hEqIxlbFSWUzvcL0WlnDfOpOSnyeWBTwzhtqlZ4tUHyWM4Z3aaY1wgtkU0vJFkYQr91JZKdTqqqqZvxYxkvXoBe2kea1/EM7VXdNYbzhtGddxW5WR8HU8sc8YOPKTk/aeQJWWynKTc5PL82VgAAAAAAAnH7tkCcfu2BAAAAAAAAA9hoLlNwjub9noeShVZYswg5Jdkev0VHhuEnBr2eoEuLSlHhl8oScWo8mnh9Tx07rZvM7Jya7ybPUcatxpL693WPQ8oAAAAAAAABKv3jD6szX7xh9WBgAAAAAALYaa6x4hVKTfZAVF2mrdkmkk8LzNmnh17S3aafXsztaDhtcLJOen2przyBt6TTRrjXLw4p7VzSXY2uiGVCK8kuRoazW11SlHx4xe3pkDW41qlCitxnKPteWV5HnbbHZZKTk3nuyeo1Nt8UrLHJJ5RQAAAALqgF1QErPeIkrPeIgAAAAAGUstLuei4JobtNqLJWwSThhc0/M5eh08bYKTr3e11PXxhGPNLABLCwZ6JthtJZfJHN12vjVY4q+MfZ6ZQGnxnW1z08FCbzv7PscCyW6bec5JTussWJyykVgAAAAAAm/u0QJv7tAQAAAAAC3T0zvm4wSbSyVHc4Hpf+6n4lbxs8/mgOlw2mVXD6t8UnFNv6s5v/AFBc80bZNe9/I7tsdmksUFhqLwjyvFHa3V4mfPGV8gNFvLyYAAAAAAAAAAnX5kyFfmTAAAAXaX+8R/H9CknXNwmpJZwTKbli43VlbOq+9/AQtr8FV2Qk8PKaeCmy52Sy44Ib/QmM1JFyu8rW1v0/7uf5iF1ni2bksLCSRRv9Bv8AQ0y6eguphpZwuntzNPk+eDd+2URdSd0PZk3ybeFj1PP7/Qb/AEA7tetpo2Qnd4rcm9yy9qY+2QWYzupa2Sxsz+rOFv8AQb/QDpaC6K019UrfDcsYbeDdWr09dTUbIyjywstyfzycDf6BTaeUgPQym4V3W+NylNOO5P2fwNHidtVsYSjYpWZ5qEm4/wDBz56m2xYnOcl2cmyG/wBAJghv9Bv9AJghv9Bv9AJghv8AQb/QCYIb/Qb/AEAmCG/0G/0AmCG/0G/0AmCG/wBBv9AJghv9Bv8AQCYIb/Qb/QCYIb/Qb/QCZGz3TG/0MSlnyAiZMGQMEfDnZNqEW8diRtaH/wCT5osm6xnl1x21Ps137tj7Nd+7Z1gb6x5/Pl/HJ+zXfu2Ps137tnZ8G3bu8OeOudrIDrF8+X8V8N1NulszKnkobct/I6UtbTOKd041Oa6ZzhdMnOt5Uz/hZy1JyWW2/mXHjmWWnXj5LlPbuX08Pu2518Vj/KVLR8PTz+0V+U5AO3gx/re3oqJaChQxrYva89Dd/amiXTUQZ5NVWOp2qD8OLw5eRAngx/pt39dxmE6ba64xlzwmn15nC1FrukpOOMLBEDwT+m1YAPK0AACbTkopLLfkiX2a792y3Sff1/J/odE1MduHJy3C6jk/Zrv3bH2a792zrElXOUXKMJOK6tLkjXWOfny/jlV0XQmpeG+R3eE2QhTLxpKuW/KT8+RqgdYefL+OpreIxphCVajYpNrr0OBq+ISv8SPhpKT65McQk14aTfNs1DeHFMt7d8c+2MqDTfkMPsTB08GP9a2hh9hh9iYHgx/ptDD7DD7EwPBP6bVgA8jQTj92yBOPuMCS09zWVXLA+zXfu2dYHTrHk8+X8cn7Nd+7Y+zXfu2dYlOEoY3RaysrI6w8+X8cf7Nd+7ZKvSWSsSnFxi+r7HUA6w8+X8X8L4dBwnFXc85xg6k9fo6X4c9RBSjyaz0NHhX96f8AC/5Hn7/v7P4n+prDjmVrvhncsdulxjW1XTsjVJTi4rmjjbX2Jg6+DH+tbQw+ww+xMDwY/wBNoYfYYfYmB4Mf6bVgy+rMHls1Wkq/eJRqssy4QbWepGv3jp6T+7R/H9RJtz5M+k3HP+zXfu2Ps137tnWBvrHDz5fxyfs137tj7Nd+7Z2Nktm/a9qeMkR1h58v45S013wM73Dqq43V5tWduMeprE6fvofxInVZz3+Oxddp9K0rr4wb5pPqQlxXRrpqIM4n/UP/ALl/oX8zlnbHhlkr07eh1fGq/CarjGTz8RxNXqZam7xNm3ljGSkGvBj/AFNoYfYYfYmB4Mf6bQw+xgsIz6nPk4pjNxZUQuqAXVHBVjhKc8Qi28eRn7Nd+7ZtaH3rPkv5m4011TRuY7jz58txy1HJ+zXfu2Ps137tnWBesY8+X8cn7Nd+7ZKGltcsSg0u51ZRlF4lFr5oyoScHNRbiurHWL58v4s4XVVVpttlyjLc3ho7V19VNe+2yMI+Tb6nnyHFdZTfptPTXJudXKax05CYS2R04+S5fXS1XGKI12RrlGfLlz6nntXqJaq7xHDbyxjJUDv4Mf66bQw+ww+xMlOudeN8JRysrKxkeDH+m1WH2D5EzE+hjPhmOO4u0AAedQm03CKSy2yBsab72r5hLdTaH2a792x9mu/ds62HjOHjuDp1jy+fL+OT9mu/dsfZrv3bOsZ2y27tr298ch1h58v45K012fu2ej0F1dd0nOaitvmaUISslthFyfZGOg6w8+X8d+dkJ6ec4zTiovnk8vxe6u51eFNTxnOPwNyWspp4ffROTVli9lYfM4pvDimW9vRjluSoYfYYfYmDp4Mf6u0MPsMPsTA8GP8ATasGX1Zg8tmq0AAgnX5kyFfmTAAAASh7yIko+8gJS6kSUups06VXaRyj97uwufX0A1AdFaOqNlEGtzknu59WirFUb412aXa28e+wNMG74VM9W61XshXlye5vKRmOmrjqrIyjurUHOKz1QGiDanVXbQraYODUtrjnJPUUVUqE4x3xT2zWfMDSBuXwpUa4104lZFNPc+RjWaeFSjKrmvdl8wNQAAAAAAAAAAAAAAAAAAAAAAAAAAAAADAYETJgyBg6PBZQjqW7GlFPnn5HOJ0aizTWudVijL1Sf6ljOU3Hf1qc64WKcZVuTSahjBrzhVDa4WqznzjtaOddxHU3JKd0cLolFJFX2q396vojUycMuK27epscJOalF4jWnykyv7Hp1JZXKyS2c3yWDzz4jqnnOo6rD5LoYev1MlFO94j7vJcibdLhb9jscShp1pZ+Gts1lYSeH9TkcMuVN3OVcN3+OcN20xfr9TqIbLdQ5R7ciGm1NmlcvCnFbuqcU8/U1jlI1jjpvcXqq+315ca4Tgm7FHk/XCI6GFFXFKFXatRFvrtccP8AE0tRqLNTZvut3SxjolgrhJwmpwsxJPKaOk5Z101p6Kc6o6fVOWnUo+Ok4uTw33IXcP0VKk3TnNiivba25OPbrtTcmrNQ5JtN9PIxbq77YuNl7km8tPuYmcNO1douHuxadR2TjJJNKXP5vGDW4pToa6JxqjstrlhYjLn821g589bqbKlXPUzcF0WTF2s1F9art1EpwXk2Wcmv3TTUBPbH4htj8RxVAE9sfiG2PxAbGjTlqK0ur/oeklpPC0U4qG6zCbeDy0W4OMoy2tdGbK4lqlXKHj8pdcpFlc8sN3bowrqde6VyjL4drf8Aub2mUJ6KuDjhSnh4kzzf2q396voif27UKCgr8RTylhdTVyjnjxZR6Jaam186dm2e3q/aRGnSUyXtV/8AyNdX0ODPiWrnt3alvb05Iy+K61tN6l8vRE234/8AEuLuDuhshsim1jOexuaTUzr4XO6+FbilsrWxZkzj2zldLdZZlk7NRZbVXVO1OFfurCWDeOc+VrHGyaTqp086nOzVKufP2PDb/wB0b/C6NNfpZKVSne20t7aT+TXmcjl8RfRrdRp4OFOolCL8kby5ZZ6a07L0egoohC6v2pxcnLEm0/wIw4dopRV+3+xsjFRW58pN8zkQ1uprrdcdTNQfVZIO+x1Krxn4cXlRz0Znyf7TTu26ThztjQq9s4zUcJT5/N9DW1un0z0d8qqFXKizYmpN5XqaD1+qcYp6qbUHlcyuWotlCcJXNxm90l3YnJo01gT2x+IbY/EcVQJx9xjbH4jKS2tZ5Aem4fOM/wCzk615bdnOX4msq63Oast8LD5La2c6vimqqrUIXRwuSbisr8Sl6q5vLtWX6I32ee8V1I7+i2KrULap4XXmso2LIV2yhXOvL8LKlnmjzdWv1NLbrv2t+iM/tLVbt32jnjGcLoTbU47JqvQrTafxlDw+kNze58xGjSTbsUeUY5ccSx8zzz4hqXNT+0PcuSeEZfE9W5qb1L3Lz5DZ4/8AI69t9Oj1CspainHDUk0v9zX4XfPbdOxV/Z68ybcVlt+WTlajU26pp33OeAtRYtN9nVv9lnOMLqaxyk+t446i2Cp1N1k7r46fLylsbX+xs8Lp0k7bY2pWNcoSkmov59jmcviLtPqrtM26L3DPXHmdcuWWajWnbjodHp63PUUxTlNxxmUtvosFdeg0NkFfBf2Ne5WJtrOOnyOVDXaquUpQ1U0585c+pBai1QnDx5bbHmSz1MeT/aadvUaTh9VbqcNsnDcpJSbz8+mCN+j0n/cUQ06i6q1NT3NvJyVrdSqfBWpn4fbJh6u9ynJ3vM47ZPuhOT/aaar6swT2x+IbY/Ecr7qsV+8drhNihVFOUI5z7Uo5xzOPFJPk8mxptZdpVKNVkUn1Tin+ol0xnjcvjt62uH2tJtQjJJ7kuX0MaSNcNbWoyVqfnhrDONbrtRbPdZcm/kiMdZdCSlG7DXR4Rrt6cvFe23pXKCpnuqTi7cbW/wDcxPS6eHWvOZ7U9z5Hn58S1c/e1GeeeiMT4jqprEtRlZz0XUm27hXoZ6fSymqktslJLknz/Er1EdNDa4JQlCa8njH4nDlxLVzioy1LaXToRu1+pvr8O3UOUe3IbS8f+R07tTK/jWNI67FOKi21uSXmavEradTxDZujVXD2XNRzl98I0dPfZpnJ02KLksN4T5FfL4jrjyYz666blVWljrq4Std9L95xi1/t1Ot+z9K7na6YeFGDlHbKTUvmjz9dkqpqddjjJdGi+ev1U7Y2S1Ut8eSaeBlyy/DTq/YtBq5Shp47bWlL/El154yWLScOrhKx1Jx37Oe6XT5ZOI9bqXd4z1MvExjdnyMU6u/TuTq1Eo7uuH1J5P8AaadiGl0NcaXGjxVda4KUm1hfI4uvqjTrLa4e7GTSJPV3vbnUSe2W5ZfR9yqxu2bnOzdKXNtkyz3NCoLqie2PxDbH4jkrp8FW7WYwnzXX8Tsa9qelk05PbPrJYa+R5mFk6bN9dmyRdbxHVXJKzUbkvRGpXLLC3ev26Uq6lXujcpS+Ha1/ubro0tdMYzXOUc7sNv8A2POfarf3q+iLI8S1ca9kdS1HtyLcmMeKz7p6K2muMXZKDscYxSTbZmcKqKbUq04Zi9rbPPR4pq4y3K/LxjohbxPVW53XrDxlJIm2+j0F1dVWltjGrllPGWec07qXFE78eHv9rJL9p6xbv+5ftLD5I1P8W7fl9eZccpKsx1du7xSEZ8Od03TKSsxXKv4exyrKdPGhThqlOzl/Z7Gv9yOo1Vup2q23KisRSSSX0KeXxHXHlkjener0mjbpoenTdtO9z3PKZZdptOq3bbW7fCojJKU3/U4i1d6lGSveYx2xfZdhLWaiUXGWok047WvTsZ8n+mnbWg0UVLUyqSj4cZbHlpZ+XM43FIaeGp/7bKg0nhprD/ExHW6mM4zjqZKUVtXPyKbrJ32Od1rnJ+bZLn6ppSCe2PxDbH4jkqBsab72r5lW2PxElySaljDymEs3NPXrHhKvnu8P3ceycuuuqUG53KEu21s537S1ar8P7S9vbCKvtVv71fRGpdOOfHctO/o6qfs7ttSk92OeeX0L46emcIxjucN75Ntfhg85VxDU1PNeo257JEv2lqsrOobw8+XUbWceprT0Wnrr3QtjV4cm2msszp41NxtjUoye5dTz8+L6ySSd6WPNJZK48R1UMbdRja8rkhtemmeKNPVLEdq7djZ1eyXBdNONcIPe09q6nOvtnqLXZbZum/MsnrdRZT4M9RJ19Nrwbxzkaxx1NM2U6eNCnDVKdnL+z2Nf7nWp0Om200vT7/Frc3dl8mcHl8RfDWaiul0w1MlW/wDDk3lyy/GtOz9i0e9af7Osyp3+JueckdTpOH0ad1Sjifh7lNKTefpjByPtl+9T+0S3KO1P07D7bqfA8H7TPw+mMmfJ/tNNV9WYJ7Y/ENsfiOVu6qAJ7Y/ENsfiIFfmTMRSWcPJkAAABKPvIiSj7yAlLqWRvcdOq45UlLduTK5dSIG3Xq1Dwcxb8POefXJW7KVZCddck1LLzLOSgAbS1bi7ZVpxnY+T7InHXJ4dsHKW1xck+qZpADbjq663GNdTUIvdhvLbIvWTsqnC321Lp6M1gBtLVRVlU3Bvw4YXPzMS1c7KZ125nnmn2NYAAAAAAAAAAAAAAAAAAAAAAAAAAAALK7XXnEYvPxRTKwBdLUSlFxcK1ntBIpYDAiZMGQMFc/eZYVz95gRAAAAAAAAAAAAAAAAAAAAATn7sSBOfuxIAAAAAAAAAAAAAAAAAAAAJx+7ZAnH7tgQAAAAAAAAAAAAAAAAAAAAASr94w+rM1+8YfVgYAAAAAAAABkwAAAAAAAAAC6oBdUBKz3iJKz3iIAAAAAAAAAAAAAAAAAAACb+7RAm/u0BAAAAAAAAAAAAAAAAAAAAABOvzJkK/MmAAAAlFNySXUiTq+8RL8WTdScZp4yjGJ90Wz94nXRur3ysjBN4WfMS7hlNXTXxPuhifdG14Ff8A5Ff0ZXbW6puLafnleZUU4n3QxPuiYAhifdDE+6JgCGJ90MT7omAIYn3QxPuiYAhifdDE+6JgCGJ90MT7omAIYn3QxPuiYAhifdDE+6JgCGJ90MT7omAIYn3QxPuiYAhifdDE+6JgCGJ90MT7omAIYn3QxPuiYAhifdDE+6JgCGJ90YluxzZYQs938QKzJgyBgrn7zLCufvMCIAAAAAAAABZ4fsbs+QFYJ7OWcl2k0i1O7M9u3HlkDWB07uFKqh2eM3hLltOfZDY8ZzyAgAAAAAnP3YkCc/diQAAAAAAAAAAG5pNEtS5J2OO3HlkCrS0TtvhHw5SUvJLqeg0HCdNKqX2jTe1u5ZbXIaDh6ptqn4je3yx6HYwB5TiOijp6N8aXD2sZ5nLPXcZo8XRKO7Htp9PmeUth4dso5zh4AgAABOP3bIE4/dsCAAAAAAAAMowC2irxrNuccsgVA7el4BHUUKx6hxy8Y2f8mbv+n41tL7S3n/J/yBwwSnDZJrOcPBEAAAAAAlX7xh9WZr94w+rAwAAAAAAAAAAAAAAAAAAAXVALqgJWe8RJWe8RAAAAAAABdpqfHm47tuFnoAr0motipV0WST6NR6kpaHVx97TWr5xZ6fhlPh6Slbs49PU27698ZPOPZA8KCUo4XUiAAAAAACb+7RAm/u0BAAAAAAAAAAAAAABdp6PG3e1jHob+m4Qr7Yw8Zx3ee30A5QN3W6BaS+ytWOWxdcYzyyaQAAATr8yZCvzJgAAAJ1feIgTq+8RL8XH7F0/eLZ/3Kv8AjZVP3iyFtfgqu2EpYbaaeCY/Fz/KqS/Wfer+CP6Ddpv3Vn5iF9ni2bksLCSRpkq09133VU5+qRKel1FcN86ZxjnGXE2dHqI1aC2PibZuaaWeeDdlrqfG1DdqlHbHas9fkBy4aHUylBeDOO94Ta5CWh1KtlWqpScering6tmvgpqcb6XXKS5Ylu/4ELdPHUWzepg5OSkszeFH+oHK02juvtUVXNRziUtvQzdobo2WKuuc4QeNyidWWr09li26mNars3PqtyM1arSxslNXwXtNy3Sf4YXQDk2aDUQhXLw3LxFyUU218yqdFtdirnXJTfRY5s7Hj6e3wJT1KUYJpx3NPPl08jF91M50Tjqqozq7JtMDnV6G1ylG6M6sR3L2G8lT0uoUdzotS7uDOxLUaZTcnfDfKuSe2TcSKvppoqjHVRnGDUpptty9AORbp7qYqVtUoJ9G0XaTRvU03Ti25QxiKXU39VdDUwlX9p06rm8rlLK+fPkQ00aaKLqlra91iWJLKwBzZ6e6Gd9U44eOcX1LZaDUR0/jSraWcbWnk69Opq1F86udlUIJueOWUU166uynfO1RcbXJxb5tegHLnpNRDbupmt3T2epC2i2hpW1yg30yjs265b04ajTqMp5XsybXz5mnxWdNkq5V2KU8e0oybivkBzwAAAAAAAAAAAAAupjXbDw3iNmcxk+j9CkAWXKuOIV+0170+79PQos938SZCz3fxArMmDIGCufvMsK5+8wIgAAAABbVp7LnFQjlyeFzKju8J06dNFrg+Us7vkwKtLwbVx3eJTHyxmSZ3aNHVGmuM6K8qKT9lPmTs1NFeN1sI57s4+q4rZGdir1McKTxjHcDs/ZNN/49X5EZjRp4e7TXHPaCPLz4xrdz26l4+S/oQfF9d/5D/Kv6AescaZew4Rfo4lNuipl009XT4UeYjxbWqWftD+i/odbhWvvvivFu3PfjounICer4XKaj4VFfLOcYRxdXobqVZKcElF88Ndz2WUjzvF7oOGogpxb3dM+oHCAAE5+7EgTn7sSAAAAAAAAAEowlJZSPXcO0fgqTnVFbksckee4fXGdUnJZ9o9PqbvBhX7ajnuBPUyhTp5zeIqK6pdCnR6qF1cpRm3h455OHr+I3z8arx8xbxjl3Nv8A6fcpaWxy5+3/ACQHQ4q1HSJv4keR1DzqLH/mZ6TjlzWhWJrO9fzPMSbcm35gYAAAnH7tkCcfcYEAAAAAAnXXK2xQgsyfQt0unndbtjXKbxnCR6PR8M01dVVllG2xLLbbWGBzNFwu+UJbqovn5tHXr0tWnxO2muKxjO1MnbqNPpmoxthDPPDkcHV8U1E4OK1GVu5YSA7dvEdJQnFT2peSiyek1mn1MJSjLdh45xZ5Kd9tjbnPOfQ3eG6h1VzXiKOX5gdXW8NlZU/Cohubz5I4Gs089Pe67IqMkk8JntYe1XF9cpHD4zRVLVTlKOZbeufQDzwAAAACVfvGH1Zmv3jD6sDAAAAAC2rT2XJuuOcdeZ2+G8LshqIzvog4bfPDNThFcpV2ey3zR6Oyap08ZSkoJJLLArnoaWnjT1dPgRyr+E3uK20w690dD9oVbl/3EPqjbqurtbUZxljswPGT0lynJbVyfc2NNw7UWRUlWms90eneg0rbbqWX6snDT01LbCKS69QNTR8OjXOTu09eGuWYpmrxvSQr0k5wphH2lhqKR2zicdul9nshu5KS5AecksMwZbyzAALqgF1QErPeIkrPeIgAAAALqNPZbNKNcpZ7ICqMXJpLzO5wnh19V83bXHDjy5p+ZnRcMTrTt00t27zTO63VR7UnGCfLLYGaobK4xwk0Sl7j+Rp/a1LUqELYtN4STRt89jz2A8nxGEY1R2xS9ryRzjpcT+5h/Ec0AAAAAAE392iBN/doCAAAAAAATjVOTwoSfyQEAWrT3NpKqbfyN/h/Dp2KzxtPN4xjKaA5ii5dC+nRX2OLjBNN8uaPRabhWm3e3p8cvNs3a9Fpq8bKksdObA53B9BOlW+PVHnjGcPudWMK60moRTXmkTUVHosHN4rqp06O2VVmJprHTugNLi11Hi6iLxv2/D6HALbb7bpudk90pdXgqAAACdfmTIV+ZMAAABKDakmllkS3Tffx/H9CX4s+synLPODRHc/hZsaj7z8CMKbLFmEJSXdIT4X6p3P4WNz+Fmx9lv8A3UvoVyjKEnGSaa8mVFe5/CxufwsmAIbn8LG5/CyYAhufwsbn8LJgCG5/CxufwsmAIbn8LG5/CyYAhufwsbn8LJgBG+2EXGLnGMuqTaTIbn8LJgCG5/CxufwsmAIbn8LG5/CyYAhufwsbn8LJgCG5/CxufwsmAIbn8LG5/CyYAhufwsbn8LJgCG5/CxufwsmAIbn8LMSk31WCwhZ7v4gVmTBkDBXP3mWFc/eYEQAAAAA7Gi4o9PoI0qpS2p892PNnHM5eMZeAN3U8Qd+3+zUdufM0pPMm+7MAAB1eEbmj0V2o37IKW3GctAU6ajx74V7tu7zx6HoeGcNVNe7xW9s8+78i7SaOOnhVO2mC2xWXhPyGv4hpqK51qbhOUHhKL6gZ4lxB6RV4rUt2fPB5jVX+NdbPbjfJvGenMX6idu3Nk5Y7tlAAAATn7sSBOfuxIAAAAAAAAyuoHU4TXvom849r+R1+Mfd0/j/I0OBXU16axWYzv7Z8kdbXw3xr5J9QPI3f3if8TOvwS/wdPYtuczz19CqGht/aHiSri69zfNr9Cetsr01kYr2MrOIrAGtr+IPU0+G61HEs5zk5xmTy3zMAAAAJx+7ZAnH3GBAAAZNnTaRXxct+3Dx0NvhvD7Z3U2yqjKt8+bXNHo6dLVCLXg1rn5RQGpw7hi0tytVrl7OMbcGNfxF1Qth4Se3lncbOvjY9PiptSyujwea1dWo3WOTk1nnmQFOs1b1E4y2bcLHXJqkpRcfeIgCyvoyssr6MD3FP3Nf8K/Q5nFKt1lks49j+R06fua/4V+hRrYp1WtpZ2P8AQDxQAAAACVfvGH1Zmv3jD6sDAAAAADs8Fv2VW+zn2l5nd1Wn+2aRVuWzOHnGTyWluVUZJyay/I72n4vpY7d90sJfCwI/sCO7P2l/k/5N/SaJaacpKzdlY6YNezjOjedtz6fCzlajialFeHqLM554bQHotZf9n07s27sNLGcHM/bD8WMfBXNr/F/wcJXarUTcFdZPPPDmzucI0kvsqd1cZT3Pm8Ngdo8zxu7Nt1e3pJc8ne1lqphFyk1l+R5LiNjs1trUm02BqgAAF1QC6oCVnvESVnvEQAAAlCO94zg9NwfRKNNN3ieT5YPNVSUW8nSo4hGumMfGnHHksgeob2Rfn5nB4pxN2UwXhJe18Ro38QlKXs6izGPiZoOcpe9Jv5sDr8On4mpoljGZI9LLlCXyPL8K+/0/8S/U9RZ93L5MDx+uu8SuK2459zRLLIzilvzj5lYAAAAAAJv7tECb+7QEAAAAAGVzaPTUcGUZt+O3y+H/AJPMx95fM9p9v0vlP/8AVgUw4WozUvFbw8+6btVXh555ya8uI6ZRb8R8l8LOZxDiEbXX9numsZ3YygO454eMGU8rJz9BXe1GdjbjKCazLJ0F7MMvyASeDzHFNU5+PVsx7bWc9mdDjWrUHTsslHO7OMrsebtm52Tbk3lt82BAAAAABOvzJkK/MmAAAAt0/wB/H8f0Ki3T/fx/H9CX4s+r9R95+BKTa0VeG17bI6j7z8CcNlmmjB2Rg4yb5jH4X6o3y+J/Uu1n3y/gj+g8Cv8A8iv6Mjqpxnb7Dykks9+RUVA6XD9tehtt8OEpqaSco5xk3rYUznfVOquNcFGSajhrPUDgRTk0optvokJRcZOMk011TR6KXhV2xitM0oyShPw0or8ckIVSequsnVDDmopKrLa7gcGuErbIwgsyk8IW1yqslXP3ovDPQRpjTYvs1MHm3E3ty4ozXRGVs98ITjZOWf7NPHzYHnZQnFJyi0pdG11MHoJ1yu+zKNdexJ83DOMeSIX6RWanTWRoWOticUuXqgOEWeBZ4Hjbf7POM58ztSnGNc5KmnMLlWvYXJFq01Cnt8GtrxXycV2A84DvQsjKFMnTTmdjrfsLoTjVRVXivTuxOUlJRgpfq+QHnkm3hLLZmUZQk4zi4teTWDeq0d9eqjbHTy8JSytyXJHRsphqdXbVdVCLypRntw5JdeYHnwd+tRnWp6fTVNStcX7C90lGvT1Qfg0eKnNqShBS/Dm+QHngTv2q6eyLjHc8J9UQAAAAAAAAAAAAWwp8Spyg8zj1j547lRmE5QkpRbTXmBO2rwlFSl7b5uPYos938Sbbbbby2Qs938QKzJgyBgrn7zLCufvMCIAAAAAAABmMXJ4im32QSydLh2gVuoqfiY3LPT0Ao02gvslW/Bt2uSy1H1PQ6HS1aNz3ylDdj33jJt0UfZ9Oo7t23L6YOVxjXutU/wBnnOfP5AWcQ4nGui2FVlUpReEs5fU8/qdVZqZqU1HKWOSK7J+JZKWMbnkgAAAAAATn7sSBOfuxIAAAAAAAAyllgdThUYyonuePa/kemlXGyMd2eXY4PBdIrtNZLfjE8dPQ7t1vgxjyzkDT1ktPRTZKNsfEj5OSPOcQv+0WxlmLxHHIs4jqvE1F8NmMyfPPqaAAAAAAAJx+7ZAnH7tgQAAHc4ZxHY6KpzrjBLDbO2tbpn//ACKvzI8TF7ZJl0dRtXu/7gexnqNNOOHfDH8SNazSaK7P9s3u7SR5v7c/3f8AuXV8VcMf2KeP83/AHWnwTRTefEs/CS/oa9vA6oxzBXN5/wD88imHHWl/d1+f/g3qeNuySj4CXL4/+AORqeGW1bnCm1xS6uJpyjOrlKLjnuj1cta76XHw9u7l1OJxOnNsPa8uwHodJfKcYReMbUZ1n3Nv8D/Qp0KxKH8JdrPubf4H+gHiQAAAAEq/eMPqzNfvGH1YGAAAAAAypMwAJb2RAA6nCNI56yO+M1FxfM9LRVGmras468zX0GjVUard+cwXLHoX6i3ZGS259nPUDmcb1aVFeyUG938jzts3OyUnjL7F2p1f2iKjs24eeuTWAAAAF1QC6oCVnvESVnvEQAAAAAAAAOtwr77T/wAS/U9RY/7OXyZ5fhX32n/iX6np7Pu5fJgeGstlNJPBWZZgAAAAAAE392iBN/doCAAAAAAbX2+3tD6GqANl662UWmo8/Q6PA9LXr1d4zktm3G1465/oceuO+yMc4y8Hpf8Ap7T+Ar/a3Z2+XzA61dcaoRhHOIpJZNPX6x01XKMoboxbSfyNuc9izjJ5vi+pzqr4beqxnPoBoarW26rb4iitucYRrAAAAAAAE6/MmQr8yYAAACymShbGT6IrLdNFTvjGSyuxL6gsuthOeU+RXvj3L9VXCFuIxSWOxThdkTG7m4tY3x7jfHuZwuyGF2RpBW4WFJpPyMu5vOZy59eb5mMLshhdkBnxm4qLnLC6LL5EvtM858WecYzlkMLshhdkBJXyTbVkk315vmFqJLOLZLPXm+ZHC7IYXZASWoklhWSSTzjLD1E28u2efmyOF2QwuyAz4z+OXXPXzM+PL95L6sjhdkMLsgM+M+Xtvk8rmFfJZxZJZ64b5mMLshhdkBL7RPGPFnjtll1PELKlLDUpSW3dLLaXoa+F2QwuyAu+3TWlWnTSinnKzllUbnDO2bjnrh4MYXZDC7IDG+Pcb49zOF2QwuyAxvj3G+PczhdkMLsgMb49xvj3M4XZDC7IDG+Pcb49zOF2QwuyAxvj3G+PczhdkMLsgMb49xvj3M4XZDC7IDG+PcjOSawieF2RGaSXJAVmTBkDBXP3mWFc/eYEQAAAAAlCDnOMYrLk8IwllnY4Zw+q2FFsnNS3eT5cmA4dwy5+Jvpi+mMtPud6EKdNp4znXCDhFJtR6eROFcaM7W/a7nJ4lxC1VXVpQwnjp6gV8Q4lX4tsa75rMcJLK8jh3WytxunKWO7yYtm7LHKWMvsQAAAAAAAAAnL3YkCcvdiQAAAAASrjusjF9G0gM11TtzsWcep2OG8Mu8amyymLrxl5afkW8M4bTKVmXPovM7NcVVGMI9IrCyBKqmFUWoVxgm84ikinXSUVDd6mzGTa5nI41qZQjVt29WB57WtPWXNdN7KSdsnO2Un1byQAAAAAABOP3bIE4/dsCAAAAAAAAMmVOa6SkvkyIAsV9y6Wz/MzErLJ85TlL5sgTgsoD1ugTTg38JdrPubf4H+hPT1RhXCSznaiGs+6t/gf6AeJAAAAASr94w+rM1+8YfVgYAAAAAAGABv8KqVls1KCliPmsmillo7vAtPF3253e7/MDv1pKqC7JGhxHUVVznCUsS29MG5fN007o45YXM8zxbVTnq3lR91AcsAAAAAC6oBdUBKz3iJKz3iIAAAAAAAAHW4V99p/4l+p6ef3UvkzzHCn/b6f+Jfqens+7l8mB4NmDLMAAAAAAAm/u0QJv7tAQAAAAAADMVlgbOi01tl9MoxzFzXn6nq9DRKlT3RUc46HN4RpoPT6ex7s5z/udzoBy+N6mNemjtm4vxMPGezPM32Oy2UtzlnzZ1eO2OUHHlhWv+ZxQAAAAAAAAJ1+ZMhX5kwAAAF2k/vMPx/QpLtJ/eIfj+hnL8aNjV/ffgSjPwtJGUYxzKTy2skdX99+BJVzt0cFCLlibzgnH+MKj9rs+Gv8iMatJXZSSzFPl8jH2W/91L6EtZyuS81FJ/Q2KAb2i01Fmmndfve2SjiLSzk2rOG6Zuyut2KcMPc2sPIHHB21oNFXdGLnmcZJOLmnu/ArWi01uruzXZGCltzujGKYHI6hpp4awzs16GjSXVym7Jydu2GMcvmSloKtRqLXapxlOb2y3JL8F1A4gOxdo9PJaauNVjbTb27U2l3ZVfoNPDUUJTkq7eXKSeH8wOYDsLg0MR3Tlu3e1zXKPMnbpKrK652TslVXW5JcstZ+QHEaaSbTWegaaxlNZ6HoZV6ayiLlXJxjRmOcNpf1KraNPqVRVPxFN1Zi01hIDhgNYbXYAAAAAAAAAAAAAAAAACXhy8PxMeznGSJZTc6pPkpRfKUX0YEXXKMIzawpdPUqs938S2yyVs90nz7eSKrPd/ECsyYMgYK5+8ywrn7zAiAAAC5vBv8ADtHZf4m2tS24649QN7gugTsVnie9XnGPkd6MfBpxnO1NldEa9Npqt0YwaiovC9Dk8U4hGN11cLpp7cJLK8gM8Z1zSp/s+/n8jz9kt9kpYxltmZ22WY3zlLHTLyQAAAAAAAAAAACcvdiQJy92JAAAAMxW5pHb4LoFbDxfExss6Y69Dl6FJ6utNJrnyfyPTaG2miqSeI5lnlEDoRWCqyPh5t6454MR1lEvdn/szl8U4nQ9PdVXdJWdEkmvMDZ1HEXCaXhZ5fEeVtnvk+WOZmV9snztm/nJlYAAAAAAAAAnH7tkCcfu2BAAAAAAAAAAACyvoys3tBprL65OEFJJ46oD11P3MP4V+hz+Janw5WV7M+x1z6HRrWK4p+SR57jlyjrpxcmntXL8AOGAAAAAlX7xh9WZr94w+rAwAAAAAAF2lpnqLlXXHdLGcAW6OOXDn/iR7KMcPqczhmh8PTJW0w3qTfNJm7rLVVCLcnHL8gNHjl+7QTjt/wAS8/U8xJ5ZbqL7bLLFK2co7nycnjqUAAAAAAALqgF1QErPeIkrPeIgAAAAAABdTrcJ0UrL5qdUZLb54fmA4T99p/4l+p6iSzFr0NWjSRr2f2MItdkuRt9FzA85r+GqNUf7X/F8JxroeFZKGc48z1eu1mkjXHfJYz8LPM66cLNXZOv3G+XLHkBrgAAAABN/dogTf3aAgAAAAAHZ4Jpv+6n7f+Dt6o466nqeFV7NRJuKXs/zQHTqjsrUc5wcrjus+yuj2N27d547HUtkoUzlnCSbPM8duVzo2ycsbuv4Acy2zxLJSxjc28EAAAAAAAAAAJ1+ZMhX5kwAAAF2laWohl4//wBFJKuO+aj3Jl8pvXtt6tp3cn5FSk10bRGdSjLGWR2L1JhNYxJd+1m+XxP6mCGxeo2L1NK2K9TZXTKqONsmm+XmWy198pWSys2JJ4XY0ti9RsXqBvS4jqJJZ2bk0921ZeCX7V1G5yxXz542cs9/mc/YvUbF6gb8eKamMpPMHueecc4foZjxXUxz7jeW03Hp8jn7F6jYvUDfjxPURjFLY9vRuPP5CfE9ROLj7CWMYUehobF6jYvUDefEtS5Tk5LM47Xy8jEOIaiGzEliEdqWOTXqaWxeo2L1A3/2pqPEUvY93bt28sEf2hf4sbPZTjFxXLyNLYvUbF6gTby8ghsXqNi9QJghsXqNi9QJghsXqNi9QJghsXqNi9QJghsXqNi9QJghsXqNi9QJghsXqNi9QJghsXqNi9QJkLOg2L1MSiksoCAAAGxooRk7HKKb5dTXN3hmzfPxFJxyuUepcfrny/iu8OHwR+g8OHwR+huauiEHU64uLmvcb5oh9mnXZBXRcIyeM9Tp6eSzKXTW8OHwR+hKLcM7Htz1xyN+7QQlZJUzxtaTjjpkx+zXua8TllJPb1G4vTNp+NYlnfJ48mzl6myVuolOaSbx0+R3LqIU1+NXY5xhLEuWDTu1el4hxBTlRbOMoqEYppPOTWGu23bilm5XKwMHQ4hpao62Om0cZOeMNOWefYqhw+77XXp7/wCxc+jfM9EuOtuzUwhg7C4LGWpdcbZ7YxzLNfP8O5G/gjgpuu1yaSlGLjhtE74Dk4GDtQ4Em5br5NJ49mHn9SH7GrrcVfqXGU5uEUodWTvgacaXUiXaqp0aidTeXB4yUnl5PyulgADCtnTRU7q1JZWOj+R0PDh8EfoaOj56iv5P9D0d2lpjp5tVpbY5TTe7PqjeN9PNy425enK8OHwR+g8OHwR+hfDT2zr8SMG49y/TaHxqlZKbW54SSya3HGY5X40VCKeVFJ90iWX3Z0Hos1wjJxjtzuko8+RLT6WuD3qe+E4NpuPQm4148nNTa6NnO1qS1PzWWeiq0VGHNzcoOGY8sYPPa9JatJPKx1LNWxvjxymXtRgYRv6/S0U6fTTocn4qy3LzKLtDqdPCM7anGMnhPKPVLjXoa+EMI6r4RDa61qP+4UN7ht5Y+Zmzg9aVkIahyuhFScXDCwyd8BycLsVnb1HBHTpZ2K2UpwW6SccJ/JnEfU4c1xsliwABwUJx9xkCcfcYHVVVaWFCOPkZ8OHwR+hu6LSK97rOUOnzZTCiy2yUaouW1nX08GstbUeHD4I/QeHD4I/Q39DTDxLFclugvdlHODMtFGTx4qVsluUVHCwNxZhlZtz/AA4fBH6FGrrh9nk1FJro0jqfYfb2+J/g3+7/ALGrxXTx0+mkvF3SaTxtxglsXHHKWWuMlyM4OjwzSU26ay62udu1qKrg+fPzI6zh069e9Pp055W5J9Uj045Y/HraGEShZOCxCco/J4Nqjh9k9bHS3Zqk1nmsm/puGVK2FlVsbYNyi1ZXyyvTJbljByftN/76z8zITlKct05OT7t5OrHhFUtilqWrbYuUIqHL9SS4E/s+52vxXHcko+z8sjvgOG+TMGZcpMwePL8q0AAyJV+8dDSVw8BScU228tr1OfX7x3OEUws0rlNSlsTe2PV82axcuWWzUVeHD4I/QeHD4I/Q3NTpdl0I1J+2sqL6orWmsV8KrFscvxN+nlsyl01/Dh8EfoPDh8EfodKvRQVicLFPbLbJSjyMfYoSknK3a5yailHkNxemTneHD4I/Q07M0X2Tqbg9vVcsdDuw4Y3D2ptSecYjyNTVtR4ZKEk3iaz9RNWx04scpfbk/aL/AN9Z+ZmJX2y962b+cmdG+jRLhr1EarK5SeK1KecmlPQ6mFHjyqaqxndlHqlxr0NcYOmuFR+xQu8aTlNLCjDMfk2bEuApRX/cSTWNzcOX4E74DiYGEdargc5PE7tr3uKW3OUvPqTnwJKyOL5RrabblDmseg74GnFkuRA6Gv0cNPTVdTa7K7Ojawznnn5rLdxYBdUAuqOKt7RwjKyblFPCWMm34cPgj9CjhrgrZuyLlHllJ/M6mrqprrr8OMoznzw3nCOmPx5OWW5W7aXhw+CP0Hhw+CP0L56a2va7I7VJ4yzZnw9KUIRsbcvPbyLuOcxyrn+HD4I/QeHD4I/Q6UuGrK22NZ+KPmRr4c5KLlNrllpR5obi9M3P8OHwR+hsaS6WnscoJZaxzNiXD417pTtagsP3eZzONUeBGMFLcm00/wAGS2aawxymU21J6zU2Tc5X2Zbz7zI/ab/31n5mbVGlos4Zfe3J2w8vJFFeh1NtDurqcq1n2so9e8XqUynKSxKTfzZHB0NJw+u3TxuvvdanLZBKOcsvXBq4bVfqXGU5uEVGGeZLljByMIhLkzu1cBcoPfc1JtqO2GVy7nFvg67ZQl1i8M58uWNx9EVgA8rQX0RUp1qSyslBsab72r5ln1nL8a6Phw+CP0Hhw+CP0Nu+muGlqsg5Ny6tlc9PbXXvnBqL8zp6eGzKKPDh8EfoPDh8Efoby0MXFRduLZR3KOORl6CKTirW7Nu7G3lgbjXTNoeHD4I/Qt4s56fS6aVVk4uxZlh48l/U25cOcaXLe96WcY5HP1mv02o+z1TrscaMxmuSzyxy+hcNXKOvFMpbtz3qL2sO6xr+Jlbbl7zb+Z0eJabTU00+DXOFtnPbKWcI1btDqNOoyvrcIyeE20emXGu7XwMI69nBVF1QhdJzsfXZ7P1Jz4CuWy+S6r2oYyyd8DTi4QwdejgjnGDsuabjulFQy0Zs4LXTvnbqJRqik/c58x3wHFkuRE3OJaX7Hf4anvi0pJ4xyZpnm5ddtxYAA5KnX5kyFfmTAAAAWU/exKyyn71Ey+VnL5V1vvlkIVRoVlkZScpNcnjBXb75ZP8AuVf8bJh+MTD8YbtN+6s/MQ1Fca7cRztaTWfUrL9Z96v4I/oabUA2dLopamuVniQrhF4bky6zhVsIy22VznHrFPnh9ANAHTjwee+KnbDGUppPmit8NT1U6oaitKL5ZeWBoA6On4ZJWxeolXGKnt2t+98hPhvjai5U2VxxJqMM8wOcDoXcNjXCnF8FKa9rdLl+HIwtA6dZRC1xsrsfJrzA0AdHU8Mk7ZSolXKLnt2xfuk6+FShdDe4WwbxJKTWGBywdBcKsn/8lUJSy4wbecFt/DY2V0+DKuE/Dy4tvMvUDlA3ddooaaqqcbFJyXNZ/T0NIAAAAAAAAAAAAAAAAAAXU2x2+Fas1vmmusX3ApIWe7+Jfdap4jBba4+6v5sos938QKwAANnQ6t6O5z8JWJ9E3jDNYrm3ufNhLNurqeKq9p/ZlGXm1LqUx1zjJNVPK59Tn7n3Y3Puy9qxeLG3bt/tySt8SOmSk1iXtdSL43a41pVc4POd3U42592Nz7sba6x1tVxaV9Dqhp41qXN4fVmpoNR9judrq3ySe3njD7mpufdjL7sS2LMZFs5TnNzlzlJ5byZpn4VsZuqM0n7sujKdz7sZfdm/Ln/TTrT4za3GMdPBVKLi4OTeV8yqriMqNWrqNNCuKjt2J8n8znbn3Y3PuzPeq6NfErMThfRC6E5b9snjDH7SnilRohFVWOaSfL5HO3Puxl92XvRdqbJ6jUTtcVFyecJlWyXYxufdjL7szbsZ2S7DZLsY3PuxufdkF1U5U2QnFZcTqT43KUJY00VOSxKal1OPJvbHmR3Puy7ZuMrf+2//AIn9TYq4ttqVc9MrIp5ScuhyMvuxufdjtWZxYz47VfG5QUY+AlFZyk85yTnxyKjGNWmaSi44cjhZfdjL7sba6x2q+NyhGEXp04xi4tbupzNRY7tQ7FBRXlHPRFGX3Yy+7G6TGRv6rW/aNPXStNGCr5Rak3hGn7Xb/chl92Mvuzc5cp8XTq/te3w/uK/Gcdjt88EXxW13W2KqKdkFDr0x5nMy+7G592Z71XQ1Gv8AtFb8TS1u5rDsy8/Q0Nkuxjc+7GX3ZLlb9Gdkuw2S7GMvuxufdkGdkuxJRai15kNz7slFvY+YHX03G7KowjOlSjFeTNe3iDsslN1Yy/JnO3Puxufdl3WLx42arqUcUdLninO6OPeLo8bmoL/t4uaW1TzzwcXc+7G592N0mGM+O2uOSUeemTnt27t3kamv18tYn/ZKOUl1z0OfufdjL7sbXpG3oNS9JbvcJy5dIz25+ZDVai3VXytsXtS/2Nfc+7G592anJlF02tHqJ6TURujBSa8mzZ0/FbaIKKpi8Scuvc5mX3Y3PuxeTK/V06a4parqbPBjmqLilnrkxPiLtqxdparJpbYzbfJHN3PuxufdjvRlxk30GyXYxufdjL7sxfYzsl2GyXYxl92Nz7sCUItPmbui1r0rW6uUks+7PaaUG3LmyLby+bCWS/XU1HFJaizfKrHklu6EauIuq2M1Vlxecbjm7n3Y3Puy9qx4sd7dmHG5Qcn9nT3T3e8HxqTlW/s69iTl73U42592Nz7sba6R2XxnesWaWM8Z25l0OdbfbbNt7lW37ilyNfL7sbn3Y3YTGS7but1ctU4KNfh11x2xhnODV59iGX3Yy+7NzlynqLp06eJyo0zqq08Izaw5qT+uO5DUcQeoi3LS1q54zam88jn7n3Yy+7J3u9q6lnF9TO+q3ZFOuO3HlLvkjHiSrs306OuvMXF4b55Obl92Mvuyd6Nu/VTu0lOncElVnDz1NXZLsY3Puxl92S236M7JdgoSz0Mbn3YTeerINvSaj7Nepyr8SHLKzg2L+JSutlN1Pn0W7oc6balyZHc+7LLYxlhjl9b61uH91/ubn7clGEY16ZQw8+9lHE3PuxufdjdJx4z468uLLfGdeljCUXltS6knxqbtlOVCcZrDi5csHG3PuxufdjZ0jry4v/ZzhDSxhGWOkjW4jrZ65x/s1BLHnk0dz7sZfdjazCRv6fW+Do56d6aMlZ70tzWTT59iGX3Yy+7Nzkyn7XToaTiM9PUqp0QthGW6O5+6yc+K3WOpzri5V2Oec9fQ5m592Nz7sne/VdSXFZWpq/S12pNuG5+7n9TmyUpSbwlnyRHc+7G592S5WzQzsfYbJdjG592Nz7syM7JdiyDlBwkllxecFW592SbexcwfXUs4srKI1fZlFR6PeUfbf/xP6mhufdjc+7L2rneLG/Xajxuagv8At4uaW1TzzwY/bUvE3+Bz2bfeONufdjc+7G2ukdezi/iV4npYynjG/cc+mzZqldZXvW7c45xko3PuxufdiZWExkbOr1E9VqJXSWM9FnouxSsp+6Q3Puxufdm5y5T0unVXF7K6Ywo08Kmmm8NtfTyKrNfm2FtWlrqsjLc5Rby2c/c+7G592Z71XTlxW6WpssnVGULI7ZVt8sEJ8Qfg21V6auuFmOUX0wc/c+7G592XvRta7Uz1lsZygo4io4T7Gtsl2MZfdjL7szbsZ2S7DZLsYy+7G592QTgms5JEa23nLJAAAALKfvYlZlNp5TwyX3Es3Gzb75KvUTrhtW1rOcNZNfM5c9wxPuhjNRMZqabX2uz4a/yIqsslZNym8tlWJ90MT7orTdo1UatJZS4tuUlLPyNh8Uj4t041tOcUll9GjlYn3QxPugOtZxSEpKxRu37k3HxPZ+hKPE9PCdjjXalOW5tSSee3yOPifdDE+6A7D4pTZPNtMntnvhh/qShxetPLrsWJNpRlhPPc4uJ90MT7oDrw4nSvDlKqe+GVyaxh/wAzM+J6eU65Sptk6/dcpczj4n3QxPugOpDiar8Vxre6dm9Zf+xP9qVq6Nije+eXGVmV+CORifdDE+6A9Bp9TRNQvulXGcYtL+0Wceq7mouJQV9VnhyxCtw69TlYn3QxPugN/VaqrUaeqOyStgsZzywaZDE+6GJ90BMEMT7oYn3QEwQxPuhifdATBDE+6GJ90BMEMT7oYn3QEwQxPuhifdATBDE+6GJ90BMEMT7oYn3QEyFnu/iMT7oxJS82BAAACufvMsK5+8wIgAAAAABOqPiWwhnG6SWQMKEpe7Fv5IyqbW8KubfojsUcN2bv7XOf8v8AyKq9mpSznDaA5kdDq5LMdNc13UGPsGs/8S//APrZ7HR/3aP4/qXAeClCUJOMouMk8NNc0RNriP8A7hqf/tl+pqgAAAAAE5e7EgTl7sSAAAAAAAAAAAAAAAAAADoABOP3bIE4/dsCAAAAAAAAAAAAAAAAAAAAACVfvGH1Zmv3jD6sDAAAAAAAAAAAAAAAAMmAAAXVALqgJWe8RJWe8RAAAAAABfpaPHm44k8LPslB0eCvGos/g/mBu6bgdNsISn4yz16f0M6jgmmqbUZ29M82v6HZ09n9lBYKdb7z/hA8aAAAAAAAATf3aIE392gIAAAAAAAAAAAAAAAAAAAAAJ1+ZMhX5kwAAAGTBkVKsh0L66N1e+VkYJvCz5lEOhsz/uVf8bJPhPh4Ff8A5Ff0ZXbW6puLafnleZAv1f3q/gj+hVUAsqouu+6rlP1SMz0t9cN86ZxjnGWgKgbENDqZSgvClHe8JtchLRahWyrVUpOPVpPAGuDY02jtvtUdk1HOJS29DN2iujZYq65zhB43YA1gbNmh1EIVy8Ny8ToknlfMqnRbCxVyrmpvosc2BWC2Wl1EFHdTYt3T2ephUXPpVY+eOUX17AVgv+w6rP3FnTPulDTTaaaa8mABs0aG6yytTrnCE3jdtMX6O6q3b4U2m8Re3qBrgtlpb4zUHTPc1lLaZlpdRGai6bNzWcbQKQWvS3xsVbpnvfRY6l1OhnLxlapVyrjuSa6gagLLNPdVFSsqnFPo2isAAAAAAAAAAXVRrth4b9mzOYyfR+gFJCz3fxL7vDjiFftNe9Pu/Qos938QKwAAK5+8ywrn7zAiAAAAAGYtqSaeGnnKMAC/7Vd5X2fmZZopXWayCU5Sbz1l6GodTg9MZa6jLfPP6MD0ehUo6SCn73P9S2y2FeN7xnpyDXhUy2/4U2snD4pxK6CrxGvnnyfp6gcjiElLXahro7JfqaxO2bstlOWMybbwQAAAAAAJy92JAnL3YkAAAAylnkupdVpL7udcM88dUZ0FUb9bXXNtRk3nHyPT6PhtNUXtlZ72ebX9AOFVwjWSz/YJ/wCqP9Tb03CL43QdumjtXXLiz0EIKGcZ5kgNOnh+nUXv0tOc+cEyVmg0zxt0tP5EbLeDSt1lleMKP4oDWt4ZmUtmmrxnlyiaGq4TqXNeHp4pY8nFHo6ZudcZPGWs8iTipdQPDW6a2pbpxws46oqO/wAb0sKdFvi5N711/E4AAAACcfu2QJx+7YEAAAAAAAygMAmo5N+jh9VskpSn0zya/oBzQeko4BpLKlKVl2fSS/oWf+nNH+8v/Mv6AeXB6d/9O6NL7y/8y/oc/WcLooslGErGks82v6AcgGWsGAAAAlX7xh9WZr94w+rAwAAAAAAAAXU6S++TVUNzXN80iWnojbt3N83jkem0XDKaJycJWPKxza/oBraPhbjODu01bjt55UWdGGg0uOelpz/9aL5PZDl5GjqNfbVbsjGDWPNMDYloNI+mlo//AK0cTiukjSrLFTCENyw0kdjR6qd85KaisLPI5/H7G9NZDljcgPOzacvZ6EQAAXVALqgJWe8RJWe8RAAAAAABKFk63mE5Rfo8ESUIqT5gdvhctRKWnbnNxcueZep1dd7z/hKOE6aC0dE8yyuf+5frfef8IHjQAAAAAAACb+7RAm/u0BAAAAAAAAAAAACcYJ46gQBZZBRxjJWAAAAAATr8yZCvzJgAAAMmDIE4dDYhbX4KrshJ4eU08GspY5YG/wBBEja36f8Adz/MQus8WzclhYSSKN/oN/oFdHSaiNWhtj4m2bmmlnng3Ja6rxb27N0XGO1Z6nC3+g3+gHenr4b98bqvDlJcsS3f8GIXURvsm9RFyck1mTwl/U4W/wBBv9AO9LV02TW3UKtQs3Pr7SJVarTRsc1dFZk3Lc3/ALLoef3+g3+gHc+0UWeDKeowo5Tjua5+XTyM2XUTt08paitOrm8ZaZwt/oN/oB24a6peI525/tk158iyvU6epv8At4Pdbv5eSOBv9Bv9AOzHWx8KCd3Pxm3z/wAOSq6qizUyuWqrScs7Tl7/AEG/0A7Ur65ayGoWrWzK/s+fIzXq6ZRmrrnh3ZXN5wcTf6Df6Aeg+2URlXm6GYqXOLeEV6fW1qivfd7aUur5nD3+g3+gHc0+uqjRUp2JzcWm3l4fqPtsVvU7qsqvEXBP+fU4e/0G/wBAOtxG6q3Txfixlbn/AAN4fzXkcwhv9Bv9AJghv9Bv9AJghv8AQb/QCYIb/Qb/AEAmCG/0G/0AmRs90xv9DEpZ8gIgAAVz95lhXP3mBEAAAAAMpZa9TBZp4ueoqilnM0sfiB0OFaD7S7f7Xbtx/hz3PS6enwqq47s7YpZx15GtwzTOh27q4xzjpj1Ny6ShVKWcJAUcQf8A2eoX/wCOX6Hijq8U1k/tVsI32bWktu546HKAAAAAAAAAnL3YkCcvdiQAAGQNrhctnEKZYzhv9Geu0tniVt4xhnh4ylGW6LcWujTwbNOs1EVtWotWX0U2B7C67wkvZzn1ORruMYhbV4HR4zv9fkammhr9S5KM7Z7e9nT6s2LeGamdDXgJza82s/qBxtTqPHmpbNuFjrkoOjbwjWxa/sMf6o/1NeWg1Metf/7IC3ht2NZTHb/v6HqtJLdBvGOZ5nh+g1K1lUnXyz13Lsen0tc64NSWHnuBqcajnRLn/jX8zylqxbJep6Xj82tAsSa9tfzPMN5bbeQMAAATj92yBOP3bAgAAAAAHpuF0Z09Et3WPY8ybml1k6pVp32RjHyUnhAexrhsTWcmZPCycrQcV0/hy8XUNvPLKkzofaqWvfyvkwNHW8S8C9w8LdhLnux/I0reJ+I0/Bxj/N/wdnbpbpZddc5PzcDL02kj1oq//rQGnw/iH2nUKrwtvs5zuz/I6bWU0c6zVcP06cobK5J4zGtp/wCyKlxbTSsilqHzaXSX9AKOM6Dxbq34mMR+E89JYk12Z7mSruedsZY7o8ZqY4snyS9pgUAACVfvGH1Zmv3jD6sDAAAAGUstJAYOxw7hviXRfjYzHPu/8k+F8PlOuzfRCWGuuGdxRp0tanKMYJLGVH+gGdNp/s1Ozduw284wa2s4l9mhGXhbsvHvY/kaXEeJQV8lXqJpbeiyjhWai2xJStnLHeTYFup1fjOa2YzLPUorW6yPlloxGLnLC5s63DdDZOqM3TF4l1eAOtp9P9lk5bt2Vjpg87xWe7X3LH+I73GdRGqmtxm4Zl5ZXkeZvn4l0p5csvqwKwAAC6oBdUBKz3iJKz3iIAAAAAAOjwaO/UWLOPZ/mc9c2dzgumnHUWZgvc9O4Hd00dungs9EaHE9R4dzjtz7HXJ0U1VVmXJRWWeb43qYz1ua7Ht2LpldwOOAAAAAAAATf3aIE392gIAyYAAtoqldJxhHLSydXR8Lukqpy08XHPNtx6ZA5VVXiZ9rGPQ6el4L4tjX2jGFn3P+Ts16bTUZ8SiqOensJkpa3Q0rc5RjnllQf9ANSvgm2Cj9oz/o/wCS2vhOzP8Ab5z/AJP+SdnF9Fsli/y+GX9Dm6ni1ctvhamfnnG5AdmOl2xS39F2LIVbce1nHoeafE5eWqt/NIx+0p/+Vb+aQHp7K9+OeMGtdoPFhKPi4z/lOD+05f8AlW/mkSjxN7lnVWY+cgNrV8G2V2z8fO2LeNnp8zhWV+HjnnJ6XScQ011cKp275ze3Eot5yzU4/p663RsqhHO7O1JdgOCDMvefzMATr8yZCvzJgAAAJQ95ESUfeQEpdSJKXUt8OP2LxMe1vxn0AoBuaXTQtplKfvS5Q+ZPS6aFlEW6XOTnh+1jCA0AdBaatQtcana4zwk5NcjXsrh9lVsY7W5tdc8gNcG6qa1pozhS7cr2pKXuv5GkAAAAAAAAAAAAAAAAAAAAAAACUVlgYUWzOx+hMAQ2P0G1k8Ply69Cy6rwdsZS/tP8Ufh/5A1gSmvMiADAYEQAAK5+8ywrn7zAiAAAAAzFZZ2OGcPqsVF7lPdvzhNY5P5HO0cXO1pfCes4XHbw+tP1/VgbMYqPQ0+K3yp0F04pNrHX5o3ZTUeuThcX4jTZp9Rp1Ge/OMtLHJ/MDhX2yvtdkkk32KwAAAAAAAAAJz92JDJOXuxIAAAAJV/eR+aImU8NMD1HA/eu+S/mdY8vwnX1aaVrnGb3JYwkekoujdVCcU0pLKyBKcFN5eTXnw+qXWU/qv6G0OoFFWkrqlFxcnjuy8ADg8dm5aHDx76/meePUcV0NtumxGUPeT5tnmra3VZKEmsxeHgCAAAE4/dsgTj92wIAAAAAAAAnC2UE0kvxNxcWvSS2V8vR/wBTQM5A6dPGtTBrEKuXo/6ls+O6qTWa6fo/6nGAGxdq7LU1JRWXnkjGn53Vt/Ev1MaaiV9uyDSeM8z03CtLOnRxjJxbUm+QG9p1iL+Z47V/eWfxP9T0vEOI06ayEZxm21nkl/U8rbNTnJrPNtgVgACVfvGH1Zmv3jD6sDAAAEq/vI/NESUHicX6gew4ZFRhPHc0uLa62OlmlGHKS8mbXCbo2V2NJ8mups2UynF4a5geLttldPdJJPpyJ00xsbTb5dj1f2OzcnmP1NyMcPmB57ScJoc4tzs5ruv6HZ02mhptO4Qcmll8zZMTWYSXoB5njN0rKa1JLlLy+Rxzq8XolVTW5NPMvI5QAAAAuqAXVASs94iSs94iAAAAAASgszivU9lpNNCmcpRcm2sczzWhqlKCaa949fFYAo4hNw0F81jKg3zPGXXSunukknjHI9bxS2K0Ophh52P9Dx4GAAAAAAAACb+7RAm/u0BDzM+YEfeXzA7vCeH1PUT9qfud13XodicnpdNJV89kW1uNdSXD/wC1u9qMvZWzmzgcT1UL9ZdOCklLGM/IDb1vGNRmHsVefk/6nOt1tlsVGUYJJ55JmsAJu2TWMLmQAAAAADKOjp+D6i1QnGdSUllZb7fICrhr/wC90y//ACR/U9LxHR16vw/ElJbc42vvghodHZpqK4zcW4PLw/XJbrOI06TZ4kZvdnG1Ly/EDx+pgq9TbBZxGbSz8yst1Vit1d1kc4nOUln1ZUBOvzJkK/MmAAAAlH3kRJR95ASl1Lqr6lp/CthKS3buTwUy6kQNt62UNkaMwhHyfPJJ6umcWpVSxv3LEjSAG5LWV2xmra5NSln2WYV9HheFKqe1SyvaNQAbVV9FMt8K5710zLkazeW33MAAAAAAAAAAAAAAAAAAAAAAAGYvDMADYpUpXQUGt2VjPQ3+LblCpS2za62Jrn6YRyU2hufcDbq1VlVexbXjnBtc4P0KOpXufcZfcDM35Eq7XXnEYvPxRTKwBdLUSlFxcK1ntBIpYDAiAABXP3mWFc/eYEQAAAAHU/6ehGevmpxUl4b5NZ80eojGMKsRSikuiPM/9N/+4T/+p/qj0/WDXoBxuN6mVSp22zhnd0bWeh56yyU5ybk3l55vqd/j1EZqjLfLd/I8/NbZyS8ngCIAAAAAAWUQVl0YSzh9gKwb0tFWn70vqaLAnL3YkCc/diQAAAAShFynGKWW2kkRL9HBS1NWf3kf1A6mg4bdme+iL6dWmdec46bSZm9igknjy+hsUwUM4zz7nF4trLPD1FW2O3OPXqBZPi1Cf95l9JEP2tT/AOTL/wDY8/KTk+ZgDvy4tVh41M//ANjZ0XFNP4cvE1Em8+abPLk4WutYSX4ge69mcVlKS680ec4ro5ReotVUVHOcrHc6ug1ll9ihKMUtueRni9UXw6+WX0/mgPHglOKi+REATj92yBOP3bAgAAAAAAAAAABZXTZam4Ryl6mdNVG7UQrk2lJ4eD0Wh4VRGEsTs691/QDPDtBKm2M7KIqO3ryN67U0UQnByUGk3hJkNfqJ6TSb61FtNL2jzus4ldba3KNaysck/wCoFXENR41kGrHLC88mmZbyYAAACVfvGH1Zmv3jD6sDAAAAADZ0+rtqjJK6yOe0mdSrisFjfqZ9OedxwgB6P9r6f/yZfSRs6LX1aicowucmlnzPKRWZJd2ei4Lo667rGpS5x82B23JKKbfIxujKLaZp63Uzq07cVF4aXMloLZXaN2SSTy+gHJ4//d6v4/5HCOtxe6VtNakksS8jkgAAAC6oBdUBKz3iJKz3iIAAAAlnoC/R1Ru1EYSbSafQDrcG01lml3KCa3vnlHevuhTFOctqbx0NbhNMaNJsi21ub5lfGpOGnra+L+QHI4prIzuvjG6TT5Jc8dDkFupe7UTb82VAAAAAAAAACb+7RAm/u0BAzH3l8zAQHrddbVq6owpanJSy1jH6nB1Wh1HizkqvZ+a7EauJ3VSbjGvmsc0/6nR02onqoQ8RRXicntA4c65143rGSJ6S3g+ntxunasdmv6HE1OnhVBSi5Nt45gawLaK1ZbCLbxJpPBvz4bTHGJT+q/oBzXFpJtcmK4SssjGKy5PCR16uG03exKU0ks8mv6G3p+DaeFtc1O3MZJ9V3+QFPC+GzSt8fTwfTG7D7ndjCumqPsxjtSXJdDNdarztb59zncQ19tVNu2MHteFlPuA13EtPWra1c4zUXhJPrg87qtTO7bm2c8Z6t8iOpvlfdOckk5dvkUAAABOvzJkK/MmAAAAlCLlJKPVkS3T/AH8fx/QRMrqWsyhZB4bRHE+6L9R95+AhU5xymkXXtmZ//mWqMT7oYn3Rs/Z5fEiqcXCTTFlizPHL1KrxPuhifdEwRpDE+6GJ90TAEMT7oYn3RMAQxPuhifdEwBDE+6GJ90TAEMT7oYn3RMAQxPuhifdEwBDE+6GJ90TAEMT7oYn3RMAQxPuhifdEwBDE+6GJ90TAEMT7oYn3RMAQxPuhifdEwBDE+6GJ90TAEMT7oxLdjmywhZ7v4gVgAAVz95lhXP3mBEAAAAB6ngsWo1v/APEv5HWOJwbV0+xDxPajUsrD9DtQkpxUovKYFGr08rtm1pYz1PNarht3j2vdD3n5vv8AI9aUz0lE23KGW3l82B5JcOubS3Q+r/oben4NqbN2J1cu7f8AQ9AtDp08qv8A/Zk1Gqjp7O75sDhfsHVfHT+Z/wBDf0PD7dJTJWSg3u3ey3/Qss4vo65yhK/Di8NbX/Q5+u40nLGl1HsuPP2PP8UB0Z3QrxlPn2NO7iVFe5uM+T8kv6nHt4lqZ4zbnH+Vf0Nad9lialLOevIDa4hrK9VdGdakko45o0QAJz92JAnP3YkAAAAF2keNTV/Gv1KSdMtt0JdpJge10zy5GnxfTylor2nHn/UcL1UbJWbp5wl5G/bXC+lwkt0ZeXQDw9lbraUsc+xA9BxHhlatj4dXLb8X/JwHybQGDKWRCLnJRistnU4fwyd1UpSpy1LHvf8AIHX4bRKu1Sk1jb5GxxWSjw66T6JL9TYrqjBLCw8Y6nL4xraXo9RQrPb6bcPuB5y+xWSTWeS8yoMACcfcZAnH7tgQAAAAADJgAC2it22bY4zjzLNPor9TFyqr3JPD5pHotPwnTVbZypw8c3uf9QK+EaOyNdc244Un5m3rdTDTzipqTbWeRDU6vT6LTzrrnsnFZSw2cDXcRt1E4tW7sLHupfyAr1eqhbGUYqWd2eZpmeryzAAAAAABKv3jD6szX7xh9WBgAAAAAAL9HT496ht3cnyzgDb4dp52QhNOON3mepnYqknJPn2NHhuirq0vtV4ak31KeL65QprddmG5c/ZAq0z8fWyhHk22+Z0ZPwKJwlzeG+RpcMoshqY3TjhOLec9xxTWRrvlDfjMOmAPOTkpLkQAAAAAF1QC6oCVnvESVnvEQAAAHX4B/f6/4X+hyDc4dqlptTGbntST54yB7PqaXE9NPVUwjW4pqWfaGi11d9O7xN3PGduDcljHMDza4JqftSnvqxlPq/6G3PhN7l71f1f9Doy1Omrm1KeJL0Yeu0r/APk/2YHOhwq9P3q/q/6G7p9JOrZucfZfPBZ9u0q/+X/ZmJ8Q0sYOXi9F8L/oBtYGDmPjWkX/API//R/0K7ON6fC2ajn/AAP+gHK4z/7hqPw/RHMNrX6jx9VZYpblLzxjyNUATf3aIE392gIAAAAAGQABKElGSb8mWXWqeMZ5FSWWkuptabQajUbvDq3bcZ9pIDZ4dW9RPZBpNQzz/A9HpYujRxU+bim3j5mlodHVooxsthsbgot5b5leu4rVXG6qu7ElFqK2vrj5AWcQ4lTX4e6M+eeiX9TzN81ZfZNZxKTaz8yV2quvx4k92OnJIpAAAAAAJ1+ZMhX5kwAAAFun++j+P6FRbp/vo/j+hZ9Zy/Grr/vPwJ1ScaspZ58yF/3n4Ga7dkcNZL+3Ky3jmlufF6cod+5Tf94/kT+0L4SqyW+beMFtmk48cpl7npKqi29tVVynjrhGfsuo5/2FvLr7D5G9w179JZTGbrnvUt2HjHbKNriGpjVG2KsxPdF4T5teZh6HHel1EYKbpmovo9pj7PdlrwbMp4a2vkdiWsoTsueo3xnFKNXPKZL7Rpozts+0QfiTjJJdUkBxp6W+uKlOmcU+SzEvegnDRzvtUoSi1iLXU3o66lS1Ep27l4qcVnPL0F06LaLq3rIPxZ7ot59lAczTaS3Uxm61lQWX15+hH7LqMZ8C3H8DOjpI06ZWwWsrfiRwmm0ky1ayqOooi704KpxbzyyBzNPor9Q8Qg0sZUpJpMts4dbHT12QjOcpZ3RUfdN+rUUU+BV9og8RlFyT5ZIrVV1z0kXqFJQb3tPkwOL06gne1K+xxeU5NogAAAAAAAAAAAAAAAAAAAAupjXbDw3iNmcxk+j9CkAWXKuOIV+0170+79PQos938SZCz3fxArAAArn7zLCzT6eN0puTeFjoWTaZZTGbrVB0fsNXef1H2GrvP6l61y82LnA6P2GrvP6j7DV3n9R1p5sWro9RLTWucEm3HHM7Om4veqorZX9H3+Zz56GtQk4uWUuWWaMVlFmFt1G8c5l8erp4hbPOYw5dkzEOJWy1HhuMMZa6P+p5bb6sbfmb8OTW3pdRxW+q6UIwraXdP+pqanjF72+xX5+T/qcXavUbUPDkbLrHbdOcsJyk28EA+oOKgAAAACc/diQL6q1bOEG8J9Ta+w1d5/UslrnlyY43Vc4HR+w1d5/UfYau8/qXrWfNi5wTw0+x0fsNXef1H2GrvP6jrTzYsaDW2Uue2MXnHU9VpZuzS1TeMyim8Hl/sNXef1LI6qOhtgknJxjmOeg61rHkxyuo9LbRG1pybWOxwdVwbT1YcZ2vLfVr+hWuP6tf4avyv+o/9Qaz4Kfyv+p08OTe09Jwqh6iHt2fVf0O5ptLDTQcYOTTeeZwP/UGr+Cn8r/qP/UGs+Gn8r/qPDkbd/V3yop3xSbzjmeS12olbqbtyS3SfQlqdbbqa9liilnPJGrtQ8ORtAGZLDMHKyy6qhOPuMgTj7jIIA6K0FWOcpN/MfYau8/qa61x82DnA6X2GrvL6haKpecvqOtPNi50VlnQ0mhrulWpSmt3XDRuUzdMt0Us4xzNqHEro4TjBpeg6082LZ4foKtNXOMJTabzzaLtddKjT7opN5S5nI4jxhSnD7PB9Oe9f0Zx7LZWJqXm88jWPFllNx122OJaqdt8lJRWUuhoE9qG1GvDkbQBPahtQ8ORtAE9qIyWDOXFljN02wADmqVfvGH1Zmv3jbo0kLK983LLb6Fk2zllMZutIHR+w1d5/UfYau8/qXrXPzYucDo/Yau8/qPsNXef1HWnmxc43+CrPEI/wsl9hq7z+pZRTXpLPGW57U8/Idas5sa9JVy08vxPO6yKvhFS5YeeRY+O2QSjpoR2ebmuefqR/b+r+Cn8r/qbnFlZt027agqtLXKOW1FdTznGbW9c+S91E9TxjU6mp1zjWot55J/1NCb3yy+pfDkbVAntQ2oeHI2gDLWGYOVmrqqBdUAuqIJWe8RNqihX2S3NpRXkX/Yau8/qWY2ueXLjjdVzgdH7DV3n9R9hq7z+petZ82LnA6P2GrvP6h6CrHKUs/MdaebFTpeIW6WvZCMGs59pM3H/ANRat/8AxU/R/wBTlKOepnajWPFllNx122reJ3W2OcoQTfZP+pD7fb8MPoyjahtRrw5G2w9fb8MPoyMtbZODi4xw1gp2oi+TwYy48sZumxvJgAwoAABN/dogW1w8RwhnGWC3XtUDo/Yau8/qPsNXef1Nda4+bFzgdH7DV3n9R9hq7z+o6082LnA6P2GrvP6kbNDDY9knu9XyHWrObG+lGkpjbqKoybSlNJ4+Z6rQ6KvTKeyUnuxnJ56rXXaNQqhGDdfPL558zY/9Qaz4afyv+pucOVm3Tbe43q50aeO2MX/aY5/JnnLrHdZKySSb7FuovlqJSlPGZScngp2ovhyNoAntQ2oeHI2gCe1EWsMzlx5YzdNsAA5qnX5kyFfmTAAAASrlsmpLngiH0LjN3SX4una7Hu2kdz+Fir3fxJOSXVlyx1lokkiO5/Cxufwszvj3RlPPQlln1Uq9RdVnw5WQz12yaIysnOTlJSk31beTIIIbn8LG5/CyYAhufwsbn8LJgCG5/CxufwsmAIbn8LG5/CyYAhufwsbn8LJgCG5/CxufwsmAIbn8LG5/CyYAhufwsbn8LJgCG5/CxufwsmAIbn8LG5/CyYAhufwsbn8LJgCG5/CxufwsmAIbn8LG5/CyYAhufwsxKTfVYLCFnu/iBWAABu8MgrJzi5xgm1zl0NI2+GXaeu6S1MnGPJ8vMs+ufJN46dDUad0qLU1OMlykiuuDssjBdW8E9Zr9LZKEqr87ekcYSKp8RjZKLsti1F55JI6SvLlh7+Nm7Q21SeFujyWeRH7Hfua8PnHrzRcuK6KOolPxt0ZrLWOjRh8a0+2t705ZzMzuul48WvqdNbRU3OKw0+aeTlaDSz1lyqhy8235I6us4hpPsk66bHNzblzXT0OfwnWQ0l0/EclGcdrlHqvU1jlq7dOPHW1erpjp73XFzaXnKO1v8CqEJWTjCCzKTwkb3ENdXY6FRZKyVK+9mubZRLX233VSvtfsPKlCKTX0PTM/To2KuE2xuUdRCWHFteHKOcr5lL4dqt2FU8bd2dyxj55wdN8U0KthY5udm1p2eHh47MplxHSPRvRqdmzb95/m7Y7HOclNOJL3mYD6g81+tAAIAAA29Gs6itdOT/Q7E9Jil2QthPb7yj5HE084wurlN4j0b7HdnrtNHRyqeqhZlLaorGPmblcOTHdapuU6FyVU5PMZvml5I0/2ivC8Lxo7MYxhGzRxHRxppU7sSrlnGM5La44Ye/cLtFbGzEY5i5YXNGFodQ21sSx3kidXFNJHObetm7p5GK+KabbODu2Zm5KW1MbrfjxQhor55xDGHjm8czk8QTjqUmsNRw/9ztx4tppR2y1Di1LKlsTz/Q4ev1Eb9X4kZb13axkS+5trDCS+m++DJaZz8Z71Df7ns47ZOSdyXFtK6G983mvZ4G32U++TlU66+it11WJQfVOKf6o9GGd97dk9LoNRq4uVUFtXLLeFkuXDLJaeG2qzx3NxabW3l/uWaDiNVek+z2WOpqW5TUFL8MM2aeL0JRjKcpyc5ZbSi8NdexMuS79GmvpeD2faVDUx9iUXhxkubIVcF1E71CeIRabUk0/w6m9HW6LSU0xjfvjHd05vma+k4npqqtPCcpey5buXTJnyZfYunI1FcqbpVzWJR5MqLdT4fjy8KbnDPKTWMlRxzu8rVgTj7jIE4+4zA9DTo3ZXGTsjBz91PzNeUXCTjLk08Mv0XE9PCpO22GIc4xcfayULiUY2zshbGLm+fJM6beK4ep6TposvbVcc4688YLo6OSc1ZGWVHK2tYKaOIURV7stW6yOFheZsR4ppFBLxefh7enmLVxwmvauWivhDc4dOqTTZG3SXVV75x5efPoW/tXSK66aszuSwQ1XFNNOqbhqH7X+DYv1G1vHNenF08FqLnG26NS+KS5F+u0P2NVvxo2b1lYWORToPAeqi9RPZWnl8uvoT1etlfrHfF4w/YXZLoduPL1Jt6VEISsnGEFmUnhI25cK1cbIQ8NOUumJJ4+ZXLX233VSvtfsPKlCKTX0Oq+LaOuyE03bNpxlYobXj+ZrLks+GnNt4Xq6lJutOMY7m1JPkZr4VrLMNVpJrOZSSNv8Aatdepq/7iV1OGpp1qKWe2Ca4xTZK6Epyqg5LZNQUsJejM+TI00YcK1k5SXhpbXhuUkuZp6iqdFrrsjtnHqjq38SpsocHbOcvGjJSlFLKXyNHimor1OtnbU24vplGc87cbKrTAB51Sr947XCtP9opw5NKKbeFlvmzi1+8dfhOuo09UoWzcJPK3Jc1zLHPkm5GxqtP9nmkpZTWVlYZVGLlJRist9EWariNE7YSqtTcFje1zZBcSg74WWWxlsfZI6SvNcPbYjobFZBWRe1vD2tZRj7DdLLhDlnkm1lln7W0qsUvtLcXLLjsSwTq1+jsnCyV8YOCaSbXMz2rp48ULNDJ1VyqWW45ll+Zr63STp0bsbzug8+nIu/aekV1UvFWIRaZra/XaW7RJRtzZGLio46jadJ+o5+h0b1UZydka661mU5eRjWaSektUZSUoyWYyXRolwzU+Da4SnXGqaxPxIuSa+RbxDiKu1kLNPiMaliDx/I9GGfybehpVwlbZGEFmUnhI3o8J1EJ1+NW9kpJS2STaKoa+dmspu1M1JVy6qKXL8Dfp4ppYW6iUpSxO1Tjy8i5Z39GmrLhGplOfhV+wm1HfKOWQr4Xq7K3NVYSzybSbx2Ny3immldppKUsV2ylLl5Mm+L0TisXTpcG8YrUty8uvQz5MjTgzTUsPqRJ2y32SlnOXnJA8+d3lWgLqgF1RkdHh0d9s4uSjnHN9F1OjfpvBhGcZxnCXRo5vD7aK9Q1qJOMGlzR0dZrtJYoeFfyj0jjCRuV5uTDdtUpOTSXVm1fobaua9uKWW1jkatnEVakrLotLpySNxcU0aujZ42U47ZRx0LaxjhL9U/ZL9zXh80s9V0FukuqhvnHl54ecF8+M6d15U1v3f7ZKr+JaNU2+HY5SteWmug2t45+nE0mnnqb1VX70n9C3XaaOluVcZTly5uUNuX6Dherjo9YrZp7cNPHVZNniGupsoqqptnbKEnLxJrmvQ7YZ61Hpc5JyaSWW+SOhXwm+N1avg9k3hqEo7l9TWu112ocFdZlReViKTX0OquJ6JSpnOyVtkJe+68SSx59zWWdnw050+G6rxdsKZOLy4tyXRd3nBozWJtdjuPiejVE9Mp2bLFJyn2b7LscKWNzw8o5cmfbH2sYABwUAAA2NN97V8zXLqZqE65S6J8yxnL5Xfehlszvi7Nu7Z54NU2ocVojp907a5WuO1YXNL1Zq18RVcHCF0VF+iZuV5MsJ60up0tt0d0Irb0y2kWLRzdb9iXiqW3GVgpr4hpo6VVuxbt6l+BtftfR72/F5b89PQWtY8c/amWivi4rZnc8cnkxLTSpsh46ShJ83nkWUcV0tUOdmXvb/BmtxHiFNmn2V3uz02JYG1nHPsU3aSi/X2xhqa64pxUU+e7kuhqa3SvR6h0uyM2lzaLOG30U2z1F8lvhHMIY6spjrLYaiV8Z4sbeW0n+p3wy/wBehjT6e3U2qumO6XXrg2FwrVu51qEcpZctyxj5jTa5vXK+++UHjDlCC/Q6D4ro1OyFbcFYlm2Naxu77WXLksvo05lvDtVVznU8btvJp8yxcI1rUn4SWPJyXP5G5TxemGps8ayd1TS2twSeV6IV8Xrspj4l06bINvMa1Ld9ehnyZf4aaVfCtZZXvVaw1lZkss0JpqTT5NHajxTT+NpJynJ+Gpb3t82ce+SndOUejk2jPJnbj7WKwAedU6/MmQr8yYAAAA+gD6Gsfygsq938SNibny7Gavd/ExNS3ZR2l1yVP0iksZl0/Usr9wg1JvLRZBNRwy8t3j9IujRZOidyS2QeG8lZ1OGKEtJZG3Gx2Rzk2pRpndCM9M1ieFJwSjjt15nmVwTMISnLbCLk+yWTt1KnUKMraq1ttcViOPkiyuyC1EP+3cJtNbpQSyvqB58nTVO+2NdazKXTmbMtHqJ6jfOhxg5ZeFhJHQXiQ10IxorjRF+zNR59O4HElFwm4vqnhmDvU0wcJRshCcZ7nlQ6fN9yMoRlp4OOmilFrMJQWZfJgcammy+TjXHc0svn5F32DVbFLwuTWfeXQ60q4O1TdVajsliLrSaMTlC21RnXBpUZztA4JmEJTlthFyfZLJ2Lq5u2uqqilaflibgmbUFCNlc/DjGeXHOxR5AcB0WRpVrjiDeM+pWdymuucYu6mEZ+JLltxl+RmFcJKFl9Fat2y9naunlyA4QN/XuNml092yMZyznasHPAyDAAyDAAyDAAyDAAyDAAyWwp8Spyg8zj1j6dyklCcoSUovDXmBO2rwlFSl7b5uPYos938Sbbbbby2Qs938QKwAAIym08EiufvMDPiPsh4j7IgAJ+I+yG99kQAE/EfZDxH2RAAT8R9kN77IgAJ+I+yHiPsiAAn4j7IeI+yIACfiPsh4j7IgAJ+I+yHiPsiAAslJpJ9zHiPshP3YkAJ+I+yHiPsiAAn4j7IeI+yIACe99kPEfZEABPxH2Q3vsiAAn4j7Ib32RAAT8R9kPEfZEABPxH2Q8R9kQAE/EfZGVJuLZWTj7jAb32Q8R9kQAE/EfZDxH2RAAT8R9kPEfZEABPxH2Q8R9kQAE/EfZDxH2RAAT8R9kPEfZEABPxH2Q8R9kQAE/EfZDxH2RAAWRk28GHN56IxX7xh9WBLxH2Q8R9kQAE/EfZDxH2RAAT8R9kPEfZEABPxH2Q8R9kQAE/EfZDxH2RAAT3vsh4j7IgAJ+I+yG99kQAE/EfZBTeeiIBdUBZKTTwY8R9kYs94iBPxH2Q8R9kQAE/EfZDxH2RAAT8R9kN77IgAJ+I+yHiPsiAAn4j7Ib32RAAT8R9kPEfZEABPxH2Q8R9kQAE/EfZGXJqKZWTf3aAeI+yHiPsiAAn4j7IeI+yIACfiPsh4j7IgAJ+I+yHiPsiAAn4j7IeI+yIACe99kPEfZEABPe+yHiPsiAAn4j7IeI+yIAC2Et2TJCvzJgAAAAJRWZIsursZg0lzZncu5iSSZgW7uxLcu43LuRBBPxMJrc8PyM+NLl7cuXTn0KwBPxHjG5464Mu6TkpOcsro8vkVgC16ib62zf4sx40sJb5YXTn0KwBYrpJYVkku2WPGk4qO+W1dFkrAFrvm3l2Sb6dWY8V/HLpjqVgCzxXt273heWTLvm2m7JNrpzZUALJXSl705Pz5sO6TeXOTfTOWVgCbsyknJ4XRGNy7kQBLcu43LuRAEty7jcu5EAS3LuNy7kQBLcu43LuRAEty7jcu5EAS3LuNy7kQBLcu5iUk1yMGGBgAACufvMsK5+8wIgAAASjHdnIEQdbh3CqdXPbOdi9jd7LXodH/wBN6X97d9V/QDzAO1xDg9Gl8PZZY92c5a9PQ49kds5RXRPAEQAAAAAAAAABOfuxIE5+7EgAAAAAAAAAAAAAAAAAAAAnH7tkCcfcYEAAAAAAAAAAAAAAAAAAAAAEq/eMPqzNfvGH1YGAAAAAAAAAAANmjQarU1+JTU5RzjOUiqitWWKLbS9D1HBalXolFN+8+oHC/Y3EP/Hf5o/1H7G4h/47/NH+p7AAeOfB9fFNvTvC5v2l/U0T3l33M/4WeEkBgLqgF1QErPeIkrPeIgAAAMrqYAHW4bXRPT/2lcJS3PrHJuX8LlKK8PTQznySRxtPrJ0RUYxi1nPM9HoOI26iyUZwgklnlkDhajherjObVGIr1Rp2VTqltnHD6ntpUxug3Jtbl5HO1XBaLZObssTUfJr+gHlwW2VqCTTZWBgAAAAAJv7tECb+7QEAAAAAAnWk30IG3w+iN90oybSUc8gO/wAN0Wmt4XXKWnqlNp83FZ6s5vGdGqXTspjDOc4SWeh3uH1qrRVwi20s9fmznf8AUMudH+r+QHm2sNowSn78vmRAAAAAAAAAnX5kyFfmTAAAASj7yIko+8gJS6l1WnjOnxJ27E5bV7OSmXU2atQqtHhKEp784ks49QH2NRUnbaobZbfdzkjLSSgrN0lmGOnnksr1e2lym4ysdibTXkSstr23tWbt7i1n9AKpaGxaiNS57ualjyMPSxjHdZbtW5xztz0L5a1rU7YzXhOSeexVqLYTocYyTfit49AMvRQVqrV+ZtZxs8iqemkp1KL3Kxcng2PGr+3xnvW1Qxn8COn1FcKZb37dbbr/ABAjPSV1x3TvwtzisQz0Iy01cK4yndtclmK2t5RbXYpaOMPHjCWXu3LOTNE4whts1EJ1LOYNZf4AaAMvGXjoYAAAAAAAAAAAAAAAAAAAAAAAAAAFlbqWfFjJ9trwBWGXSen2vbCxS8syT/kUsCIAAFc/eZYVz95gRAAGUstJeZ2+BaeX9vnb/h/mcahZvrT6OS/U9VwiuEPFwuuP5gbc7IaWmMpp45L2UaN/GNNCyScbOXov6lPHNbt0+yqxbo2Yax6M8/O6dkm5PLfoB0+IcTo1Ph+GprbnOV8jkze6cmvNmAAAMxi5dEB0tFw662VUouGJLKy/QlxHSz00ts9uXDPI6vC65qvTtrlsX6Gr/wBQ/fr/AOr+bA8+AAAAAnP3YkCcvdiQAAAAWVUytaUcc3jmYqhvsUcZyeg4Pw6mdUp21vdGfL2n6Ac+rgmqsztlVy7yf9DpU8JvhXBN15Sx1/4OvXVCvO1Yz6kwNPS6SVMHGe1tvPI29sfhX0MgDG2Pwr6GHWn5IkAPL6zhOohBybrw5d3/AENCzSWVwcpOOF2Z7O2mu2O2ays56mrqOG6edMkq22/8zA8cDe4tpI6S6EIw2pxz1z5miAJx9xkCcfcYEAAANnS0SthJxxyfmax0uGSiqp5f+ICWv0VlGlU5OOMpcmcs9VxmjxOGpQjl7l5nl7IuE3FrDTAiAAAAAG/oNFZc67YuO3eur9TUoqldZshHc8Zwem4TpVVoE7YYkm31A1uPYjfVy/w/zPPvqzr8f1Mbb6nVPKUefL1OOAAAEq/eMPqzNfvGH1YGAAAAAAAAC2iDsk0scl5mK6Z2NbY5TeDv8O4So2T8alpY5e1/yB0dNp3GqttR91fobUVtWBFKMUl0SwUXa3T0ScLLFGWM4wwLpTUFl5OdqON6Wi6Vc427ovDwl/U0+IcX/s4+Bcm88/Z/4OHfbK62VknlyfN4A9FP/qDRyrlFRuy017q/qeZAABdUAuqAlZ7xElZ7xEAAAAAAHR4NGU9RYk/8P8znGxotTLTWSlCW1tY6ZA9lpouOngn1SLTlaHi1E6qq53rxHya2vv8AI6kJxnHMXlAamvodlUVFR5M8tr6ZQ1VqeOXb5HtJRUlhnM4jw2mdN9qrbs2tp7n1wB5QFltU6sb44yVgAAAJv7tECb+7QEAAAAAA7n/T+nnDWWN4+7/mjiLqen4RTOvUzc44WzH+6A6OokqtJbKXSMG3g8nxHVQ1Lr2bvZznP4HqOI2QWh1MW+fhy/Q8XJ5AwXVaad23a4+08LLOjwzhfjyzfU3Bwyvax2O1TwrTVqOKmnF595gcCPBtS8+1X9X/AENG2qVVk4yxmLaeD26orXSP+5xuJcMgqrrY1Pc5Zzu7sDzoJ2w2WOLWMEAAAAnX5kyFfmTAAAASj7yImVyawBOXUiSbeecGY/0MDAM/6GP9DAwDP+hj/QwMAz/oY/0MDAM/6GP9DAwDP+hj/QwMAz/oY/0MDAM/6GP9DAwDP+hj/QwMAz/oY/0MDAM/6GP9DAwDP+hj/QwMAz/oY/0MDAM/6GP9DAwDP+hj/QwMAz/oY/0MDAZn/QzEv4cARAAArn7zLCufvMCIAAs0/wDeK/41+p6vhX/y/h/M8pR/eK/41+p6vhX/AMv4fzA4nGPvLf8A7X/M5Z3ePaaddTtk47ZW8sdfM4QAAADb0FMbXPc2sY6GtCLnOMV1bweh4FpZ1O/ftedvT8QOro6lDTU4b5QX6HH/AOof7wv/AKv5s7k5Kurc+i7HnOO6iE9RHGfu8f7sDjAAAAAJy92JAnL3YkAAAAt0z23waPU8Gm56eefj/kjyJu8P1EarYKW7nNPkB7LoDWjrK+0voWxvjPCWeYFgITtjB4eQrIy6ZAmMDyAAPoYnJQjlnL4jxGlae2vE9y5dPUDnf9S/3ur/AOv+bOMXam1WzTWeSxzKQBOPuMgTj7jAgAABbTqJUxaik89yoAezj/3VUa58lhPkee4lo4VXXyUpNp+Zjh2ur02o32b3Ha1yO/HV06mhKEZZmuWUB48HqbeHW3NOGxJd2akuB6p9HV9X/QDgg9HTwjUVxSk6+XZ/8G1XT9nTjYotvnyA5nCNHD7Unul7rOzbJ6eiyEeaUW+fyNlyjXBSa5eiPNcb1EXrp43e6gObda7mnJJY7FQAAAASr94w+rM1+8YfVgYAAAAAADp8N0FstTF5hhxb6gS4bTGdUZNv3j1KikU6Sl007JJZznkWWPalkDW12qnp6HOMYtp45nm9frrL9RulGKeEuRXrL1OdkVuzvf6moBKUt3UiAAAAALqgF1QErPeIkrPeIgAAAAAAAATqsdVsbIpNxeVk9Fw7iVtlGXCHvY5ZPNGU2n1YHvIycnzMXxUqJxfnFnnOGa+uu6blva29j0WnsjdRGyOdsu4Hl+M1RqlVht5T6/gcw9Px7SWaiVTr2pRTzn8DzAAAACb+7RAm/u0BAAAAABldUey0f3r+R5jQY9vPdHr5Lasgcri18l9orwsbWv8AY4mh0sNSp75SW3HQu4u88Vuj3a/RHQ/6fpli/p/h/mB1tHRGmiva2/YS5/IlfdKqM2kntWeZDWXx09MXPOM45fI85xDWwsutUd3NYX0A7VfEbZZzCHL5m7ZWtTplGbaU0m8fU8PGTXmz2egedJp//rj+gHneKaSFWquxKT2pPn8jmHouLr+01H8P8jzoAAATr8yZCvzJgAAALKfvYlZZT96jWH5RnL5V1vvCFNlizCEpLukLfeLJNrRV4bXts1y/nUw/GI/Zb/3UvoVyjKEnGSaa8mN8vif1LtZ98v4I/oc21AJxpslTK2Mcwi8N56GVRY9PK9JbIvDefMCsAAAAAAAAAAAAAAAAAAAAAAAAAAAAAAAAAthT4lTlB5nHrHzx3AqIWe7+JfbV4SipS9t83HsUWe7+IFYAAFc/fZYVz95gRAAFlD/7itv4l+p6rhUovxcST6dH8zySeGmdfguqnX42Ix57f5gdviWnhqtPGE4uSUk8L5M4Gp4c4WTVdFm1Llyb8j0Ol1ErZ7ZJL2c8jaaymu4Hh7NNdHGKbPysjHT3N48Gz8rPZz0sJ4zKXIxHRwi87pAec0WgbsqlOiz31l4fc9LRTCndsjjJbCChFJeRkCnWNR0s22kuXX5nlOLSUtRBxafseXzZ6PjMtnC75Lyx+qPITsc3lpARAAAAATl7sSBOXuxIAAAAMxk4yUl1TyjAA21xLVL/AORflRdVxbVqUf7VflRzidMFZbGL6MDoW8V1k5JqxPl5RR39FKyalvT6LywcnQcNqsqk3OaxLywehrgoLk30Akug5B8jQ1+ts09sYxjFprPMCni2tlVpM02x3bkvJnnLtVba5b5Z3PnyF+planGSS555FAAAACcfcZAnH3GBAAAAABnobNWv1FKioTSUenso1QB1auM6xJ5uj+VGyuL6jH38PojggDs28Z1ab23R/Khp9fq9TFynLdh45RRx4rMkj0HANPGenty3738gOjxC2VehjJSSeV1PLa6x26lybTeFzR2OM6mT0ThhYUkefk9zyBgAAAABKv3jD6szX7xh9WBgAAACUFunGL83gCdNMrU3GEpY7LJ6rQUKEoS2Nez5/Ihwzh9dEJqM5vL88HTSwkgIykop80sLucbifEZwqg6boN554wzd103FzWF7p5Cc3Jc0gE25TlJ9W8siAALKa5WTUVFy9Ei7Q6aOpslGbaSWeR3+H8KpplC2M5t4fJ4A5FXD3KGZUWZ+TNfV6fwYReyUcvHPJ6+b8KuSjzwm+Z5TX66zVVxjOMUk88gNELqgF1QErPeIkrPeIgAAAAJKOUBEE9qItYAwZRnHIzGKbXzAu0cZSslti28eSPW8NTWgqTTTw+T+ZzuE6Cuu+bUpPMfP5nZhFQioryAr1FanB7lnCZ4myG1Zw0e6n7kvkeL1XuL5gaoAAE392iBN/doCAAAAADf4ZFS357o9bb7qz3PJ8K/+T5r+Z6bX2OumLST9rHMDzusgrP8AqDa1mMrIJ/RHotHpq9Nv8OLjuxnLOJGtWcWrtbabsi8L8D0YHD49qWqFGE45VnTl2Z56UnOTlLqzb4la56u+LSwrZfqzTAHs+Hf3TT//AFx/Q8dCO7OT2egjjSaf/wCuP6Aczi/3uo/h/kedPRcX+81H8P8AI86AAAE6/MmQr8yYAAACyn71FZOuSjNN9DWHrKJl8q+33i2GyzTRg7IwcZN8zXnZGUspkd8e5eS7ytiYesY2fAr/APIr+jI6qcZ2+w8pJLPfkUb49xvj3MNOtwuqqzSz8WMWvEistF2v8RcOuU6o1pWJRUVjKOIrcRcVJ4fVGZXyksSsk12bYAEd8e43x7gSBHfHuN8e4EgR3x7jfHuBIEd8e43x7gSBHfHuN8e4EgR3x7jfHuBIEd8e43x7gSBHfHuN8e4EgR3x7jfHuBIEd8e43x7gSBHfHuN8e4EgR3x7jfHuBIzCcoSUotprzIb49xvj3Ak22228tkLPd/Ezvj3IzkmsICAAAFc/eZYVz95gRAAAJtdGABbTa4TbbfTyLvtS7yNQAdPS8Qrq3b97zjGDY/a1H/5Pp/ycQAdKWthbrIyi54cl1PQcOnvdmM8sHltFXGepoUl1sS/3PYaeiFO7YsZ68wOXxnV1y0eopW7dnHTlyaPNHX4r72o/jf6nIAAAAAAJy92JAnL3YkAAAAAEq47rIxw3lpAZrrlZnbjl3Oxwvht0dRTc3DZ168+hZoOHQbnvpmunXKO3RTCuuCisYWAJ1x2prCMWWRrxuzz7Ezk8Y1nhxq8K2GW3nmmBq8R4lS/GrW/dnHT1OJdZ4kk0308xfZKy2cm8tvJWAAAAAACcfu2QJx+7YEAAAAAAAAAABOlOVsUvNnqOAwcKLU8e9/I85oIqetqi1nLPU6VLTxko+zl55gcDiNsZRnFZzvOaXaiyUrJpvluZSAAAAAASr94w+rM1+8YfVgYAAAnT99D+JECdP30P4kB7bTe7L5lsnyKtN7svmVcStsp0jnV72V5ZA5PGtTCvWSg92di6HBNniFtl2p32+9hLpgojGUn7MW/kgIm1ptDbqIKcHHGcc2bOk4c7LYqyiza1no0d3R6GimjGxxw2+bYGrwvQW02zc9nOOOTNnUcQpoTqmp7ovDwivXaxaauMqLYJt4fNM8/q9XbbdOUpp5fkkBfxHWQu1DlByS2pczmmZScnl9TAALqgF1QErPeIk7PeIAAAB0uCVuzUWJY5R8/meo09cY0RTisr0PG6LU2aayUq5KLaxzR6bh2t8WmvxLYbmnnmkB0HCPwr6GrPSOS5KJtKcJc1OL+TMgUQoxUotRzgnVWoxw4x69iwhZfTW8TthF9pSSAnyXkQndGEW3nC5nJ4nxOVVMHp74OTlh4w+RyLOMa2WYu1Yf8AlQHd1nFdPBJNWc0+iPMW2KcUlkW6iy3G+WcehUAAAAm/u0QJv7tAQAAAAAdn/p+Dkr+nJx/mdrin93j/ABfyZyP+nGlHUZaXOP8AM7uprVsFGSbSeQNDSVtyrlyxu/mON2bHT157un4G5VTGG1KLSTNDj6y6P9X8gPN2vNs33kyMYuUkl1bLJVWSsltrm+flFnQ4foN8qXZTPDksvDXmBfwXR2SV3u/4f5noE1TRHd/hSTwQ0+lq027wo43deeSriVyr0VjjOKksefqgOFxfVVy1d8Vuy0l09Ecgu1djs1E5t5bxzXyKQAAAnX5kyFfmTAAAASgsyWSJKHvo3h+UWfVjiuyGF2Rl9TZjPwtJGUYxzKTy2sl5ZrOl+tXC7IYXZGx9rs+Gv8iMatJXZSSzFPl8jmijC7IYXZGRh4zh4XmBjC7IYXZGQBjC7IYXZGQ00k2mk+gGMLshhdkZAGMLshhdkZAGMLshhdkZAGMLshhdkZAGMLshhdkZAGMLshhdkZAGMLshhdkZAGMLshhdkZAGMLshhdkZAGMLshhdkZAGMLshhdkZJeHLw/Ex7OcZAhhdkRmklyRa65RhGbWFLp6lVnu/iBWAPMAVz95lhXP3mBEAAAAAAAAAAbnD1/3Wn/8Asj+p7PB4zh/960//ANkf1PZgeY4r72o/jf6nHPScT4fdOu+acMSeVz9TiT0NsIttxwlnqBrAAAAAJz92JAnP3YkAAAAzFZaR0+F6B3Tjb4iWyxcsdejIcHol+0aJvDjzf+zPWxil0SQCKwZbBiSzFpAams1y01kYutyys9Tympu8dr2cYbPWX6Wdkk1t5LzNbU0+Eo7lHn2A8oDY1cf+4tfluZrgAAAAAAnH7tkCcfu2BAAAAAAAAAAAbvCOfE9Ov838j02rWJx+R5ng/wD7np/4v5Hptb78fkB46372f8TIkrfvZ/xMiAAAAAASr94w+rM1+8YfVgYAAAnT99D+JECVTxbB/wCZAe303uy+ZnU1eNS4Zxz6leitjbGTjnk/M2QPO63g8rNRu8ZLkv8ACS0PCJVzk/GTyvhPQcuxh4QCC2wjHssGhr9etPZKt1uXs5zk1eJ8QqennBb01Lsef1Fvi2bk3jHmBm+/xopbcYfcpAAAAAF1QC6oCVnvEck7PeIAADMfeXzAwbGn1Cpkntzj1O5w3ZdbNRiuUc80dJ6bMeUYgcXScUSgl4T974j0MLN7xjBpS0M3NNKGDfSwAOFxrTO3Wb92MQXLHzO6U6icYqSkue3sB4dvJgnOSkuRAAAAAAAE392iBN/doCAAAAADp8Hns8XlnLX8z1h4bT2KtvOeeOh7DS6yrUWOMFLKWeaA2TU1+iercMTUdufLJtgDnUcMdU2/FT5Y903q69lajnOA7YrlzNLXa6qFN0Huzsfl6Ab7e08vxTXKx30+G17bWc9maOo1Hibdspcih8+YGAAAAAE6/MmQr8yYAAACUPfRElD30bw/KLPq19TZVc7dHBQi5Ym84NZ9TKk10bReX86X6s+y3/upfQlrOVyXmopP6FO+XxP6mDmjq8LlGGhvnmUZbkt0cZ/3NyzT+NC2mU3iVkcy5Z6HDq1NlVUq4NbZNN8uxdLiOpln2km5KWUvNAbr4do52whXa08tSippv5kY6DT2qNlUbdqk4yjuWeXnkoo4nJaiE7ox2xy3sgk2yM+Kah2qUXFRWcR2rD+YG/XodLVKctrnGVbkk2pY+TE6NPqa9NVPxNzrexprl8zn/tTUeIp+xyTjt28sEXxC/wAWFnspwTUcLlzA1pLbJx7PBgNuTbfV8wAAAAAAAAAAAAAAAAAAAAAAAAALKbnVJ8lKL5Si+jKwBKyyVs90nz7eSKrPd/EmQs6AVjzA8wBmFE75y24SXmzBt6BZ8RLuiybrHJlccdxR9gt+KH1Y+wW/FD6s6Uoyi8STT9UYN9Y83mzc77Bb8UPqx9gt+KH1Z0VzeCVlc6pbZrD64HWHmzcz7Bb8UPqyq6idLSlh56NHWNLiPWr8f5DrG+Plyyy1WntY2snGLk8RTb9EYPR4cHfadFkqbq559ySl/ud2nj9az40bJdsRX9Ti6fS3apyVMN21ZfNLH1Kmmm0+qHhwNvRWce0dkHCVVzT68l/U1LdVotRVaqozg1W8Kb6/7nHDeEZz4sZjbDasAHlaAABbGErHCEerLfsFvxQ+rGk+/r+T/Q6ThJJNxaT6PBvGSvPy8mWN1HN+wW/FD6sfYLfih9WdEF6xy82bOh26ayqc03sXPHyOr+1KPgs+i/qcx1TVascfYfJMgOsXzZu3Rr6r7NkVJSfTK6mvqeNaXTXyqlGyco8m4pYz9TR0lnhaiE8Zxnl+BzNTGy7V3zhXJp2SfJZ8zeGEt9u/Hncsd12Zf9QUZ9mFqXql/U5mq4rqL9uJYw31ijRknF4kmmvJmDr4cG9k5Tsbcmm31I7WSA8OBtHaxtZIDw4G1b5AzL3jB5Mpq2NBOPuMgTj7jIL1obWk8xXpkfYLfih9WdFJt4SywdOsePzZud9gt+KH1Y+wW/FD6s6lVU7pba47n1Iyi4ycX1XUdYebP65v2C34ofVkLdJZVDe3FpdcHUKdZ/dp/h+ouMXHmytkctRbM7WWV1WTjmEJSS7LJiUXF4kmn2Z3x4sbHp2t0FsdNq6rppuMHlpdTr6jjWmtknGu1YXml/U4QL4cDbE1unJrzeTG1kgPDgbR2si+RYQl1OfLx44zcWVgAHnVKv3i2vS2Wxck4pZ5ZKq/eOno03p4JJt8+S+bNYzbny5XGbjU+wW/FD6sfYLfih9WdKUXF4kmn2Zg11jz+bNzvsFvxQ+rMrQ2ppqUOXqzoAdYnmzNLqNZp4ySshzfb/g6VXEoRjuvtiko5a5ZZzTn67+8R/h/qOs3HTj5csstV2bP+oKm34cbVy5Ziv6mm+Oal/4//wBUc9U2up2quXhrrLHIrPR4cHfadt1tu7dJNN56FW1ki23T20xhKyG1TWYvPVDw4G2u00YJz6EDz8mMxy1FgADmoF1QC6oC+NMrrMRxyXNsn9gt+KH1Zdofes+S/mbkoyj70WvmjcxljzcnLljlqOb9gt+KH1Y+wW/FD6s6JZDT2zbSi1hbufLkXrGJzZ1qad63TScqra02sPln+RsLXcU/f1/lX9DAHWJ5s2ft3FP39f5V/Q15ca4jGbi7Yprr7CLzl3/3qz5lmEtkdeLkyyvtuftviH72P5EQnxbXWe9bF8se6jVnXOvG+Eo56ZWCJ38ODttHaxtZZOucMb4SjlZWVjJEeHA2jtZgmVvqzly4THWllAAcFCxRc4xjHq3grNjTfe1fMJbqbS+wW/FD6sfYLfih9WdNVzcHNRbiurxyInTrHk82bnfYLfih9WPsFvxQ+rOiTnVOuMXKOFJZXqOsPNm492nnQk5Yafmi+jiGq08nKuaTax7qZZxD7iP8X8makK52Z2QlLHXasm+Pjxtu3fDO5Y7rd/bfEP3sfyIftviH72P5EaAOvhwb23XxfXN5dsfyoot1mou3b5p7lh8ikDw4G0drIlhB9WcuXjmMmllYABwUAAE6/MmQr8yYAAACdUPEsUc4yQLdN9/H8f0LPq4+7EraIwnhNshsXqbGo+8/AlCFUaFZZGUnKTXJ4wXKaq5zWVauxeo2L1Nrdpv3Vn5iGorjXbiOdrSaz6mWVGxeo2L1JgCGxeo2L1JgCGxeo2L1JgCGxeo2L1JgCGxeo2L1JgCGxeo2L1JgCGxeo2L1JgCGxeo2L1JgCGxeo2L1JgCGxeo2L1JgCGxeo2L1JgCGxeo2L1JgCGxeo2L1JgCGxeo2L1JgCGxepiUUllFhCz3fxArHmB5gDo8FthVqJSn0z2zjkc4wp7J7ouUZLzTwWM5Tcem1+Fp6lObnNvOWsPBqWeBiPhOzOee5LBxpaic3mdtkn3cmyPiv45/VlmTllxW16yUYOc6fCgoqtS5R8xaoVRsnGuG5OOMxPK/aJ5z4tmenvMPUTfW2x/6mTbfR63w6oOcoVKUsrKjFN/Q89xvYtVFQi4LL9l+XQ0/tE09ytsz33MhKUZPMm235tllXp729HwrSQp0racJW2wbb3L2V5I4tUNLCU4ap27ovC8LDX+5rwtdbbrnOLaw9raI5h6nScurbWtOzwqyMNFrMRi4RWfajnK9TdnRXiyEtPVHSxrUoT2rr8zzSmkmk5JPqk+pnxPY2bpbe2Xgl5Jbs09FPR1xnqZvTwUPY2PYseuDlcbcI6uVVdVdcYdNkcN/M0/Gk0k7J4XRbmRlKMnmTbfdsnf0aVgn7HYex2OaoAn7HYex2A2NG0tTU30/4PTWWQs0ttjm3W0lGLjjD9DyTccLP4E5aicoqMrbGl0Tk+RZWMsbbt2Y+B4XtOzxPRLBt6bbDTVS8ODcp7W3HLweZ8V/HP6sz48sJeJZhf5mW5OePFY9cqak0vDg0pS6ohVGu2Ndk64b2nhJdTyv2mz97Z+ZmPHlhLxLMLp7TJtvo7fGZqFCnCE6rMdWlHPM1+DWXJ2WyulGiv258/eZy52+I82TnN/5m2FbiDgpSUH1im8M1MtLjjptSvp1Orst1btSlzXhpZX1NnhSp+22bKJ217fZcopuPrg5WYepKNig8wlKL7p4Ol5ZZrTWnpo0V0u6fgwst3LlXUs4fo3yKq6dHqJzb06q+zz3SjKKTax0eDzytam5qc9z88vJjeln2pc+vPqY7mnpYLTvSwlXpPEhZFuXh1xePxysGNlPix06oqVcqN79hZyecjZtTjGUkn1Sb5jxXnO+ecY6voO4rn7zME/Y7D2Oxi3d2qBOPuMex2MrbteOhB6rhtMYwjbmMpT6c+iNNxqjfZG9z68tmGcOF0q2nXZOLXwyaHjNvLnP8zNdnG8XqSPR6CUYzuUFmO1tblzNiNcZRilVDwZQy5Y8zyivkulk18pMz481Hb4tmO25ja48dk09SqIOW5VRcPC67VjJz+OOMKXXGEIranlLDZxlqbEtqtsx23MjOzxPflKXzbZNr0dLgkrYylLxZQ09a32Y8/Qos1FOq1ll2rdqjLp4aWV9TUVu2DhGUlGXWKbwyOY+p1nLJ703p1OFqn7fPZRO6vb7O6Kbj64OpGiumd03TCy3Kwq6lnD9GzzEZqEsxcovungl4z379893xbnkmXJumnoY06PUTm3p1U6J7pxlFJtY88EoLTvSwlXpPEhZFuXh1xePxysHm/E6+1Ln15vmI2bYtRlJJ9Um+ZO49HCFPiU6dUVeHZS5SzBZbPM2LFkl5Jk/FeU988pYXNkcw7MmWW5oQBP2Ow9jsYViv3jv8Df8A21mzHi7Xt+pwo7c8jMbPDlmEpRfdNosrOWO3o9b91R42fEx7XfBrzVTlFUeI3npNI4sr5SeZWTb7uTHjNf45/mZrs43htr1nhRTrjZRXz96Sgks9jO2udi36dprPOUEkzyb1Nklh22NesmPtFjefFs5f5mZ26dHqaUpwrlXTW1OTVmI9Eee4qoR4g4xfsrl/uzXWonHO22xZ64kytuLeXlssy1dkw09LqdPVfpY17JRphVujap+zn5HDq+x+C/Gd6t8tiW0o8X2Nm6W34cvBHMfU6Y8uppvTu8HrjZo5QVC3ybStlWpRfozYWlpcKo201eF4T8SeEtrz1TPORtcE1Cc4p9cNrI8VuO3fPb2y8EvJu7NNvjMPD1eyNUK4JextXvLv6nPLJTUsbnJ45LLMex2MZXdVAE/Y7D2OxkQC6on7HYex2A3+GTlHUS2N7uWMLL8zs61qekrlmUva6zWJHmlN1zUoylGS6OLwyU9VZZ791ssd5tmpXLLj3v39difgJJ1eI5Z5qaWDq7nvUtkdvhZzj/Y8f4r+Of1ZL7TZjHjW47b2Ldpjx3F6qEa7IQtlVBydbbW3kIeG6INUb1NZlsguv8jyv2iaWPFsx/Ewr5pNK2xJ9UpMm2uj1TjVGhKNLnBxzmMU/wDfJ5qKsnxLGn+83ez8ypXyUXFWWYfVbmQTjF5WU+6LMtXazHV27fGI3w0Ndd+62almVrXJPsjm2/Y1XF0O92ZWVYlt/wBiiVzmsSnOS7OTZDMPU648ska09PYoaiWnrtprcLasRns92XZMW6fQ1wlb4deK14TW1deXM834z2qO+eF0W58jDsymnKWG8tZZjuPQa2mP2fUxnRXCmuKdM4rDbPNPqWuzMVFyk4rom3gj7HYmWW5pUAT9jsPY7GBA2NPytq+ZV7HYy9u1dglm5p62dULKIQ2tVqGVNS5J/I51fgbH4js3eW1LBxvHmo7VbZt7bngj4r+Of1ZqZOWXFt6fQRU6HHwllv33HKZYqYf2anXDZse+WOh5aOonFNRtsWeuJMfaJ4x4tmO25jazj1NOnx9KG2EYRjHK2481jqW6Hxv2ZV9i+88X+0x1wcWdm/G+UpY5LLbwIWbM7JSjnrhtFmem8cdOjxH7L+1bPE3qvHPwsZ3fiQ0VUbeIxjpIeJB9fHinhebwc/MfUlGai8xlKL7p4OnlmtLp6ZVVK62X2OMXCP8AZpVrMu7SKr1RCi+77HGEk45Vta5Z88Hn3c3JNzm2uj3PkYduc5lJ565b5mJmPRX0Vuq6DoqjpY1KULFFJ5+Z5l9WWeJmGzdLb2y8EfY7Eyy3NKgCfsdh7HYwIAn7HYex2AV+ZMxHbz2mQAAAFum+/j+P6FRbpvv4/j+hcfsax+xfqPvPwJT/ALlX/GyOo+8/AV6idcNq2tZzhrJcvyq5/lVRfrPvV/BH9B9rs+Gv8iKrLJWTcpvLZlhfptHK+uVjshXXF4cpPzLFwy1wjKNtLUniOJP2vlyI6XVV10TovrlOuT3ey8NMsfEIxjQqa3HwZNpN55AYt4XZXtbuq2t7XLOFFltXCM24sti4OLcXF9f9jP7UrVsbFG588yUrMpfJEnxarxK/YscYppuUst5Aohwm2cNysr552rPvF2j4aozT1Dg24NqvPP5kf2lV4ar23xjDlDZZtyvUzXxSrMbLKZu2MNmVLk0BzYQ32KG6McvGZPCR0auEZugp3Rdck8Si+eSFWq0VNkbK9PZvi885ci6XFq99bjCxqMm25Sy3kDmXVqq2UFJSSfVPJAsvlXK6UqlJQbylLqVgAAAAAAAAAAAAAAAAAAAAAAuptjt8K1ZrfNNdYvuUgCy61TxGC21x91fzZRZ7v4kyFnu/iBWPMDzAFc/eZYVz95gRAAAAAAAAAAAAAAAAAAAAATn7sSBOfuxIAAAAAAAAAAAAAAAAAAAAJx+7ZAnH7tgQAAAAAAABlGAAAAAAAAAAAAAlX7xh9WZr94w+rAwAAAAAAlGOTYWmi0nuYGqDoVaCucNznIo1WnjTGLi28vzA1gAABnBgAAAAXVALqgJWe8RJ2e8QAAAAAAAAAAAAAAABnqBgAACb+7RAm/u0BAAAAAAAAAAAAAAAAAAAAABOvzJkK/MmAAAAnUpOxKHveRAu0v8AeI/j+gGbY2qeJyTZDE+6NnVfe/gYro3V75WRgm8LPmWjXxPuhifdG14Ff/kV/Rldtbqm4tp+eV5kFOJ90MT7omAIYn3QxPuiYAhifdDE+6JgCGJ90MT7omAIYn3QxPuiYAhifdDE+6JgCGJ90MT7omAIYn3QxPuiYAhifdDE+6JgCGJ90MT7omAIYn3QxPuiYAhifdDE+6JgCGJ90MT7omAIYn3QxPuiYAhifdGJKXmywhZ7v4gVjzA8wBXP3mWFc/eYEQAAAAAAAAZUXLom/kWLT3NLFNjz2iwKgW/ZdR+4t/IyEq5wxvhKOe6wBEAAAAAAAE5+7EgTn7sSAAAAAAAAAAAAC2nTzui3DGE8c2T0mndt8IyhJxl2R6HQcN08apKUJJ7vNtAT0OhnRYp2Rg47ccuZZfq9M3OlQ9vOPdWCjW6+VVOarYZTx5M4FmuveolZuWW85wBfxnHj14WPZ/mc4tvvs1ElKxptLC5YKgBOP3bIE4/dsCAAAAAADMYuTxFNv0N/R6B22VqymzbLq8NAc8HqaeCaKUXvql1+JifBuHJezFt/xsDywOzreGV1qbpqm8LljLOTbXKtpShKOe6wBAAAAAAAAEq/eMPqzNfvGH1YGAAAMxi5SSXVvBmKy8YydfhvD6rqY2Trk3u68wNjhPD7a67FNQeWvM7ahGMVmK5LsK6o1pqKxk1eKal0aOU6pxU00u4GNXr9Np3KqcZbtvlE8zrLo2Qio55PzMavV23XbpyTeMdDXbbAiCWyfwy+hhprk00BgAAAAAC6oBdUBKz3iJKz3iIAAyBgylll1OnsnJp1TfL4WdvR8J086ITsqnua582gOJXpbLI7o7cfMl9it/y/U9RTwzSwhhQkufxMlLQ6SKzLl85Aedq4Lq7YRlF14l0zIs/9Pa3HWr83/B6BToorxCyCUVyzJGIayuS53V/mQHnK+C6u1tRdfLvInPgOsrhKcnViKy/a/wCD0lb09bbjZDL/AMxC/UVOM4O2GGse8gPIW6aynG7HPsyk7HE1Rmvw5xfJ9JZOOAAAAm/u0QJv7tAQAAAAz54QGCUIObwi/TaZ27s1yeOyZ1+H8Mqd0vEqmlt88oDi/ZrPT6j7PP0PWLhWkx7kvzMfsnR/BL8zA4On4RqbUnHw+cc82XrgWrz/APF+b/g9BVRXSkoLGFjqWgcnh/DbdP4niqD3Yxjn3ONxHRWVTvte3bvfR+p684PGIyemvwn73b/MB50yw00+fJmAAAAnX5kyFfmTAAAAXab7+P4/oUl2m/vEfx/QQXan738CU/7lX/GzGq+9/AQtr8FV2wlLDbTTwWikv1n3q/gj+g3ab91Z+YhfZ4tm5LCwkkQW06TxdJZcm3KEklFLqQlpdRCcYSpmpS6Lb1Nvh91ENLOF09ubE8J4eDdnq6oqtQ1FKkpvnzax6gcuHDtTJWZqlHYstST5/I1owlKSjGLcn5JczuO/T77YQ1KjKyvrvbin6M1NNRRRqYXPW1S2vLQGr9h1XL/t7Oaz7pCGlvs3bKZvb15dDp/bYeFjx+fj56/4c/oWy1dFtnsalVbLNz/zIDl6TRW6m2K2TVecOWOhsQ4V4k0o2yxzy/DfLH6m5HWae2yucdQqo1zblF5W5MzHW0JLF0V7M/P15Acu7Qyi4Klztc88vDcStaXUO11Kme9c8YOrRrqY0VRlbHe62m5ZeH6h6uE/EpnqKozlBKNkE0l6ZA5ut0v2ScI7m3KOXlYwVx0186/EjVNw7pHR1sNPq5wf2yuOyKi288y/S26XT1RitRB4TUm5PLfoumAOTqdHdplB2LlNZWM8vQoOjxK2F9FM4XKWI4cM8898HOAAAAAAAAAAAAAAAAAF1Ma7YeG8RszmMn0foUgCy5VxxCv2mven3fp6FFnu/iTIWe7+IFY8wPMAVz95lhXP32BEAAAAAMxW6Sj3eDBvcOolLUaefLHiR/UDa4Xw2VrtxYljHl8z0FFDqhBOWdqwXRio9El8jh8T1cFC+CclJSx/uB3JLdFrusHD43pmlT7S/wAXl8jm6O9y1tHtSw7I+fqep1NkK9u9ZznHIDxE1icl2ZEv1zUtbe10dksfUoAAMAAABOXuxIE5e7EgAAAAAAADPUDBu6HRPVuaU1HbjqsmdFw2/V1ynVswnh5Z6euMdLH24rmsckBraLh0tP4VjsUtq6YHEuIx0l0YOtyzHPJmrxPitEqbqIb1Pp05dTgTm5vLbfzAndcrM8sc8lIAAAACcfu2QJx+7YEAAAAAG1w541P+lnp4atUaOM3BvbHpk8esroza02lv1E4RhJe10zIDt2/9RQraX2eTz/mNGvjUIWOXgyef8xdXwXVRT3eG/wDUQu4JqpQwvD6/EB2NBqlrdGrFFwy2sN5ObxvRO2+tqaWI9vU6PCNNZpNDGq3G5Nvk8lfE5JWwz2A8lJYk12ZglP7yXzZEAAAAAAlX7xh9WZr94w+rAwAANvhtD1GrValt5N5PV8Poen0yrct3NvJ5jgzxr0/8rPV6Z5q/EC085xa9Oicdv+L+Z6PoeW4p93Z/H/MDlN5ZtaHRvVTlFTUcLPQr06zKP8R67SQSnLEUuXYDQjwmW1f2q6djX1HBZyk5eNHp8J6EYQHidTpHp4qTmpZeOhrHttZp3dCKhGOU88zyfEa3XrbYPGU/IDVAAAyuqMGV1QGbPeIkrPeMMDBbTU5yi845lR3uCaWdujU4qOFN9QOpptK65t7k8rsbNk/Ap3NZwTl0PJcXskuIXx3S6rln0A78+Jxjn+yfTucfV8ahqYRiqJRw8+8clyl8T+pEDZs1SnGS2tZXcqhZtXQt0lMrbq4RxmUklk9PotDKmhwsjByy33A839tXwP6lVl6nu9nGTv8AE+H2WUwVcYJqXyPPaiqVN8q543R64AqAAAAACb+7RAnL7tAQAAAsoW6+td5IrLdN/eav4kB6XhNDirfa7eXzOsaHC+ln4fzN4AZMAAZMAAaXEaXLS2c+rX6m3OyMMbs8zz/E+I1ThdVFz3bsdOzA5Grjs1M45zjH6FJKb3SbIgAABOvzJkK/MmAAAAnXNwsUksteRAnV94hbprGdrIsstlZPLg0Q3P4WWT6koU2WLMISku6RJdza549crFO5/Cxufws2Pst/7qX0K5RlCTjJNNeTKwr3P4WNz+FkwBDc/hY3P4WTAENz+Fjc/hZMAQ3P4WNz+FkwBDc/hY3P4WTAENz+Fjc/hZMAQ3P4WNz+FkwBDc/hY3P4WTAENz+Fjc/hZMAQ3P4WNz+FkwBDc/hY3P4WTAENz+Fjc/hZMAQ3P4WNz+FkwBDc/hY3P4WTAENz+FmJSb6rBYQs938QKx5geYArn7zLCufvMCIAAAACdcd0sYzyPScJ0dT0lNri9ybec9mcPhtXi6iUU8ey3/uj1Ol/sOG8+e2Mn+oEeIaqWn8PbOK3Z6/geW1eostvt3NNSk+i9Tc4xrFqFViDjtz5/I5T6gbfD1/3en/+yP6np+I9K/x/kcHhencp6ezcvfTxj1O1xe5VKrKznP8AIDy2q/vVv8b/AFKiy+W7UWS7ybKwAAAAACcvdiQJy92JAAAAABOuHiWRjnG5pARSb6Js39FolbbWp1z2y68n2N3R8GnJz/to+X+E60a/sdCk3u8NJcuWQMaGijR1ygmoZecSkcniHE7ltULIPm+iTMcW18bL4Pw2vZ7+pxZPLAlbZKyyU5c3J5ZiNdk1mEJSXoslmmod90K1LG7zPScK4fLT0Ti7FLMs9PQDzX2a/wA6bPysrcXFtNNNd0ew1eoVFO5xb546nltXarNRbLGN0mwNcAACcfu2QJx+7YEAAAAAA9DwiuOdPLzweeO9wi5eJp4Y/EDt33KqSTnGOV5s1NLqrrtQ4TaccPojHFdI9RbCSmo4jjoW6PRuixTc0+WMYA2pNxqbXU4HGtRfG6vb8Pw+p6CT5M0NZonq5xkpqO1Y5oDyTbbbZgtuqdcpc84eCoAAAAAAlX7xh9WZr94w+rAwAAOlwCEZ8SjGXTaz1kIRhHbHoeR4LaqeIRm1n2XyPV0XK+veljnjAFjONxjSVR0c5qLy5LzOyc/ja/8A+fL+JAeVcnVNbeWOZ0aOL6pSf9pHp8KObd95+BBSwB7qqxTqg3JNuKb5li5nnOHcSjO6FfhtYj1yd7Tz31ZxjmBacniHDKLZTu8OTnJ88NnWwAPF63Suq/bCuaWM9Gari11TR7TVaR32OSmlyx0OHxHhkq64N2p5fYDjGV1RmyHhzcc5wYXVASs94gTs94gAO/wTVeDo9niRj7b5No4BKMtrT7MD3blGXutP5M4XEdBGzVW2eHNtvqsmNHxiEJyfgyfL4js6bUrUVxkouO71A8jqNHZCzEKbMY+FlX2a/wDcWfkZ7hrI248wPL8MotjqtO5VTSU1nMX3PVFUp7W+XQnXLfHOMAUa6eyuLylz8zyXEXu11rznLX6Hq+I0O+qMVLGJZPJ6+vwtZZBvOH1/ADXAMpZAwDf0/DJX1QmrUt3lgq12ieicE5qe7PRYA1Scvu0QJv7tAQAAAs07xqK2+WJIrAHrOFWxat9uPl5/M6Z5LhNyqVuVnLX8z0P7Qi//AI39QNxvATT6PJzruJRjGf8AZvku5XouKRnv/smsY8wOsYfQ0/2hH92/qbFVqthGSWMgc7jF+oqdPgJvOc4jnseau8SVs5Ti8uTb5HuLIb8c8YOPreFyUbLfFWHLOMd2B5rmgW6mHh6iUc5xj9CoAAAJ1+ZMhX5kwAAAE6/fRAnX76JfjfH+c/8Aq2XUuk2tFXhte2ymXUvhss00YOyMHGTfMmPxrm/9Ko3y+J/Uu1n3y/gj+g8Cv/yK/oyOqnGdvsPKSSz35GnJiFFk6J3JLZB4byVnT4fY6uG3zUYyamuUllG/HTQjfKUaoOMmk4qtN81/sgPOlkaLJUSuSWyLw3k7M6tPSoxdNW2Vzi3KPNIuUJOE4W0wjDxUopR5NAecB34Qovc1bVVGNd22OI45CxVu2G7RTk1JpPw0lj68wOAD0KqUdQ26Iy3xW2SqWY/NHF11br1dkXtyn/gWF9AKAAAAAAAAAAAAAAAAAAAAAAAAC2FPiVOUHmcesfPHcqMwnKElKLaa8wJ21eEoqUvbfNx7FFnu/iTbbbbeWyFnu/iBWPMDzAFc/eZYVz95gRAAA2NK61u8SOemORrmYycegHqtJXo6qa7FTFOUFlqPM1uIcTqh41EHOPstJJcuaOSuJ6lVxgpR2xWF7JrW2zusc5vMn1AxKcpY3Sbx3IgJNvCWQPUcFrh+zabHFNpt5/FlP/UF8ZKjbn/F/Iv4VujwOLw01Gb6erONxO6yxV7/ACzjl8gNGTzJv1IgAAAAAAE5e7EgTl7sSAAAAWU1SusjXDGZdMnc4Xwtxg53Qrk4zznryNXhNFctXQ2nz9fQ9Dalp9Na4csRb5/ICnUaqnSqLScd3ZHC1vE52O2ELbMN8l+JTrNddao7pReM9EaTblJt9WBKdk5vM5OT9TNVMrW9uOXcrO9wfQwm7PEhJcljqgNnh3DlXCi6dcOUct+fQ2NXr6NHNQe5bln2UW6i2Gn0UlCcU4JJJs81xLUzuuhJyTxHHICq/XXWpxds2s5w2azbby+bMAAAABOP3bIE4/dsCAAAAAAbeg1PgaqqcpS2xfPBqBPDA9bTxTS3RbkpvHeJuLU1Y5Z+h4uvU2VpqLXP0Nj9q6rGN8fyoDqcV4n4d8667JxeFjBPg/EN1NnjTnN7uWeZ5++6eosdljTk+yLtJfKqElFpZfmB2eKcPi9K511wUnJPJ5+6uVU9ksZ9D2m2N9EIz5ppPkea4zTGrXyjFPG1Ac0AAAABKv3jD6szX7xh9WBgAAbnC6p3axQrxuw+p6vQ0zp0+yzG7LfJnnP+nv8A3SP8LPVgDS4xB2aCUY9dyN0rvrjbXtksoDxWqg67tsuuCk6XGtO4a5quuTjtXPDZzQJ1WSqnuhJxfdG7RxO+G1O+zGeayc8dGB7GjidFkmk58l5o3ITVkVKPRnia9ZdW24tc/Q9VwrUeLoqd04ubjzSfMDeK7aK7UlOEZY7lgA8/xPhbjG++MIKCWeXU4C6o9NxbV2KvUU7ltxjB5pdUBKz3iBKz3iIAAAZU5R6No2tNr76ZRzdNQXkmagA664xPHO60z+2JfvrTjgDeu4lqJTk432YfTmbWg4u66lC62xycvmcdJvkupuaXSysSl4U37XVJgew3Rs5YzjucfX8Ht1F9tlca/a6Nv0OtSsSfLyLQPOabgV8N3jRql255NmzQUaZKVtMMPksLJ2JzjD3pJfNnD4zrW9PDZZCT3+WH5AYnxHRUVSqhCUZxXLEejOTrtT9pcHuk9uepr2Tc5uUurIgCb+7RAm/u0BAAAAABKFkoZ2Saz2LPteo/fT+pSALXqLpZTsk8+piF9tedlklnsysAXfa9R++n9ToaHicoSphZbY0pLK/E5JmD2zTXkwPcabVV6nd4efZxnKGrg7NNKMerx+pyf+n9Qmr/ABJxXu4y8dzt8pR7p9gPH8R084au1vHLHn6Giet1+gqshdZsk5uLxh+h5nU0Sp25hKOc9UBQAAJ1+ZMhX5kwAAAEoNRmmyJbpoqd8VJZRL8ax32mmZTi31Mb49y7U1wjbiMUljsVYXZExu56XktuV2xvj3G+PczhdkMLsjTArcJpSeH5ElqJptq2Sb5PmyOF2QwuyAy7nJYlNtdebM/aJtJeLLl05sjhdkMLsgMu3Kac3h836mXfJtN2Sbj05vkRwuyGF2QEvtM927xZ7u+Xki7E3lvLYwuyGF2QGN8e43x7mcLshhdkBjfHuN8e5nC7IYXZAY3x7jfHuZwuyGF2QGN8e43x7mcLshhdkBjfHuN8e5nC7IYXZAY3x7jfHuZwuyGF2QGN8e43x7mcLshhdkBjfHuN8e5nC7IYXZAY3x7jfHuZwuyGF2QGN8e43x7mcLshhdkBjfHuRnJNYRPC7IjNJLkgKx5gLqAK5+8y3DK5Qk5PCAgCWyXZjZLswIglsl2Y2S7MCIJbJdmNkuzAiW6X+8R/H9CGyXZlmnTjdFyWEB6zQLPC0u6l+rOFxuGxU8853fyOtotbpq9BGE7oKWHyb9WcrjVsL1T4UlPGc48ugHJBLZLsxsl2YEQS2S7MbJdmBEEtkuzGyXZgZl7sSBZKMnFciOyXZgRGCWyXZjZLswOrwexLWULH/wDmD0Gqr8bT2JPGYNf7HjqZ21WRlFyi10a8jt8O4ilW1qr3ly/xZ6AcnVaGWmUW5qW70NVrDweqvu4ZalmVUsd0aVtegaltVPpzQHIoodsW1LGHg9hWvs8Fn2so5uh/Z9dclY6U89zb1Gu00lFQvhy9QODxPVKd+ohtazJ88+pzTp6iFdl9kk4NSk3ncjFdNOHuVef4kBzcF8NM5xT3JZ9DqVQ0Kl7aqxgvvt4etLJVbFYlyxFgcOyh1tLdnJSbOobnJOOWsFGyXZgRJx+7ZjZLsySi9jWAKwS2S7MbJdmBEEtkuzGyXZgRBLZLsxsl2YEQS2S7MbJdmBEEtkuzGyXZgev0NynsjjHsnK45Xu105Z/wr9DZ4fqqK7IudsYpRxzZXxK/T22zlCcZZjhNfIDzwJbJdmNkuzAiCWyXZjZLswFfvGH1ZOEZKXNEXCWXyYEQS2S7MbJdmBvcEtVPEIzaz7L5Ho1xCLaXhvn6nkIeJXLdDMX3RdXqNQrI5snjKzzA9pGWTJo0cQ0uHu1EPxZb+0NJ/wCRX9QGp0zt3NSS9nHQ81dw2UEn4if4HpXxDR/+RX9Sqeo4bJc7KX+IHkYV7rHDP4mbK3XLGcnoIR4crnL+xxz55Fq4dKWV4L/EDz9VTtbSeMHd4Lp3XqK5OSfssnQuHQk2/BXLubler4dUk42VRa7Ab5RdqlTFNxby+5TPimj2SSvWccsJnnNTrNROKSum+fcCzidys1FzUcZOauqJyds23Jtt9ckVCWejAWe8RLJxk3yRHZLswIglsl2Y2S7MCIJbJdmNkuzAiCWyXZlungtz8RLGPMDY0OhldZTJTS3Psep0dD01OxyUuecmhoLtBVpqt06ozj9VzNi3ielTwtRHp5ZYG91B5zVcSscF4OonnPPGTd0PEa/s9fj6hb/8W5+oGeNT2OvlnKZ5U9FxjU03OvwrYzwnnDPP7JdmBEEtkuzGyXZgRJv7tGNkuzJOL2JYArBLZLsxsl2YEScYbsc+pmutt819Tr6GGkjCrxvCyn7WWu4HK+zv4kPs7+JHqM8J70DPCe9AHl/s7+JFc4bMc85PVSfCdrw6M4OfrYaOWzwvC884aA4ZmKzJLudHwae1f5kWUVaZX1uaq2qSzzXQDW01DW72ux63SrGkpX+SP6GnGfCo9JUIvjr9FGKS1FaSWEsgbRw/+pOT03+r+R0/2jo//Ir+px+PamnUujwbFPbuzjy6AcKXvP5mCUoS3Pkxsl2YGa/MmRhFrOUTwwMAzhgD/9k=' style=\"width: 100%; max-width: 1154px;\"/>\n",
       "</div>\n",
       "\n",
       "<script type=\"text/javascript\">\n",
       "   (function() {\n",
       "     var container = document.getElementById(\"focontainer-4c28dd52-02f9-4cb7-ae87-646879cbff2f\");\n",
       "     var overlay = document.getElementById(\"fooverlay-4c28dd52-02f9-4cb7-ae87-646879cbff2f\");\n",
       "     fetch(`http://localhost:6969/fiftyone`)\n",
       "     .then(() => {\n",
       "        overlay.addEventListener(\"click\", () => {\n",
       "          fetch(`http://localhost:6969/event`, {\n",
       "            method: \"POST\",\n",
       "            body: JSON.stringify({\n",
       "              event: \"reactivate_notebook_cell\",\n",
       "              data: { subscription: \"4c28dd52-02f9-4cb7-ae87-646879cbff2f\" },\n",
       "              subscription: \"4c28dd52-02f9-4cb7-ae87-646879cbff2f\"\n",
       "            })\n",
       "          })\n",
       "        });\n",
       "        container.addEventListener(\"mouseenter\", () => overlay.style.display = \"block\");\n",
       "        container.addEventListener(\"mouseleave\", () => overlay.style.display = \"none\");\n",
       "     });\n",
       "   })();\n",
       "</script>"
      ],
      "text/plain": [
       "<IPython.core.display.HTML object>"
      ]
     },
     "metadata": {},
     "output_type": "display_data"
    }
   ],
   "source": [
    "view(session, suspicious_mistakenness_train_val_view, train_val_dataset)"
   ]
  },
  {
   "cell_type": "markdown",
   "id": "3591b249",
   "metadata": {},
   "source": [
    "### Filter Samples for Data Curation"
   ]
  },
  {
   "cell_type": "code",
   "execution_count": 129,
   "id": "4329a677",
   "metadata": {},
   "outputs": [
    {
     "name": "stdout",
     "output_type": "stream",
     "text": [
      "Number of highly mistaken samples (top 1%): 60\n",
      "Number of highly hard samples (top 1%): 60\n",
      "Total number of difficult samples (union of highly mistaken and highly hard): 120\n"
     ]
    }
   ],
   "source": [
    "# Identify samples in the top 0.1 percentile of mistakenness (likely annotation errors)\n",
    "mistakenness_99th_percentile = train_val_dataset.quantiles(\"mistakenness\", [0.999])[0]\n",
    "highly_mistaken_view = train_val_dataset.match(F(\"mistakenness\") > mistakenness_99th_percentile)\n",
    "\n",
    "# Identify samples in the top 1 percentile of hardness (likely genuinely hard samples)\n",
    "hardness_99th_percentile = train_val_dataset.quantiles(\"hardness\", [0.999])[0]\n",
    "highly_hard_view = train_val_dataset.match(F(\"hardness\") > hardness_99th_percentile)\n",
    "\n",
    "print(f\"Number of highly mistaken samples (top 1%): {len(highly_mistaken_view)}\")\n",
    "print(f\"Number of highly hard samples (top 1%): {len(highly_hard_view)}\")\n",
    "\n",
    "# Get the IDs of samples that are highly mistaken or highly hard\n",
    "highly_mistaken_ids = set(highly_mistaken_view.values(\"id\"))\n",
    "highly_hard_ids = set(highly_hard_view.values(\"id\"))\n",
    "\n",
    "# Combine the sets of IDs that are hard\n",
    "difficult_samples = highly_mistaken_ids.union(highly_hard_ids)\n",
    "\n",
    "print(f\"Total number of difficult samples (union of highly mistaken and highly hard): {len(difficult_samples)}\")"
   ]
  },
  {
   "cell_type": "code",
   "execution_count": null,
   "id": "38bb8d42",
   "metadata": {},
   "outputs": [],
   "source": [
    "# A view of mislabeled images from the train_val set\n",
    "mislabeled_train_images_view = \\\n",
    "train_val_dataset.match(\n",
    "    F(\"lenet_train_classification.label\")!= F(\"ground_truth.label\"))"
   ]
  },
  {
   "cell_type": "code",
   "execution_count": 124,
   "id": "bbc3f188",
   "metadata": {},
   "outputs": [
    {
     "name": "stdout",
     "output_type": "stream",
     "text": [
      "Total number of misclassified samples in the train_val set: 60000\n",
      "Number of samples that are both difficult and misclassified: 120\n",
      "Created a FiftyOne view for the intersection samples with 120 samples.\n"
     ]
    }
   ],
   "source": [
    "# Get the IDs of the misclassified samples\n",
    "misclassified_sample_ids = set(mislabeled_train_images_view.values(\"id\"))\n",
    "\n",
    "print(f\"Total number of misclassified samples in the train_val set: {len(misclassified_sample_ids)}\")\n",
    "\n",
    "# Find the intersection of difficult samples and misclassified samples\n",
    "intersection_difficult_misclassified_ids = difficult_samples.intersection(misclassified_sample_ids)\n",
    "\n",
    "print(f\"Number of samples that are both difficult and misclassified: {len(intersection_difficult_misclassified_ids)}\")\n",
    "\n",
    "# Create a FiftyOne view containing only these intersection samples\n",
    "intersection_difficult_misclassified_view = train_val_dataset.select(\n",
    "    list(intersection_difficult_misclassified_ids)\n",
    "    ).sort_by('hardness',\n",
    "              reverse=True)\n",
    "\n",
    "\n",
    "print(f\"Created a FiftyOne view for the intersection samples with {len(intersection_difficult_misclassified_view)} samples.\")"
   ]
  },
  {
   "cell_type": "code",
   "execution_count": null,
   "id": "826b9b8d",
   "metadata": {},
   "outputs": [],
   "source": [
    "view(session, intersection_difficult_misclassified_view, train_val_dataset)"
   ]
  },
  {
   "cell_type": "code",
   "execution_count": null,
   "id": "b5f7238f",
   "metadata": {},
   "outputs": [
    {
     "name": "stderr",
     "output_type": "stream",
     "text": [
      "100%|██████████| 10000/10000 [00:08<00:00, 1183.57it/s]\n"
     ]
    }
   ],
   "source": [
    "for sample in tqdm(test_dataset):\n",
    "    sample.untag_samples(\"test\")\n",
    "    sample.save()"
   ]
  },
  {
   "cell_type": "code",
   "execution_count": 150,
   "id": "b964b27c",
   "metadata": {},
   "outputs": [
    {
     "ename": "ServerSelectionTimeoutError",
     "evalue": "localhost:44449: [Errno 111] Connection refused (configured timeouts: socketTimeoutMS: 20000.0ms, connectTimeoutMS: 20000.0ms), Timeout: 30s, Topology Description: <TopologyDescription id: 68fd0793c94a0ccde91fc601, topology_type: Single, servers: [<ServerDescription ('localhost', 44449) server_type: Unknown, rtt: None, error=AutoReconnect('localhost:44449: [Errno 111] Connection refused (configured timeouts: socketTimeoutMS: 20000.0ms, connectTimeoutMS: 20000.0ms)')>]>",
     "output_type": "error",
     "traceback": [
      "\u001b[0;31m---------------------------------------------------------------------------\u001b[0m",
      "\u001b[0;31mServerSelectionTimeoutError\u001b[0m               Traceback (most recent call last)",
      "Cell \u001b[0;32mIn[150], line 1\u001b[0m\n\u001b[0;32m----> 1\u001b[0m train_val_dataset\u001b[38;5;241m.\u001b[39muntag_samples(\u001b[38;5;124m\"\u001b[39m\u001b[38;5;124mtrain/val\u001b[39m\u001b[38;5;124m\"\u001b[39m)\n",
      "File \u001b[0;32m~/miniconda3/envs/ahocv/lib/python3.13/site-packages/fiftyone/core/collections.py:1961\u001b[0m, in \u001b[0;36mSampleCollection.untag_samples\u001b[0;34m(self, tags)\u001b[0m\n\u001b[1;32m   1959\u001b[0m \u001b[38;5;66;03m# We only need to process samples that have a tag of interest\u001b[39;00m\n\u001b[1;32m   1960\u001b[0m view \u001b[38;5;241m=\u001b[39m \u001b[38;5;28mself\u001b[39m\u001b[38;5;241m.\u001b[39mmatch_tags(tags)\n\u001b[0;32m-> 1961\u001b[0m view\u001b[38;5;241m.\u001b[39m_edit_sample_tags(update)\n",
      "File \u001b[0;32m~/miniconda3/envs/ahocv/lib/python3.13/site-packages/fiftyone/core/collections.py:1974\u001b[0m, in \u001b[0;36mSampleCollection._edit_sample_tags\u001b[0;34m(self, update)\u001b[0m\n\u001b[1;32m   1970\u001b[0m ops \u001b[38;5;241m=\u001b[39m []\n\u001b[1;32m   1971\u001b[0m batch_size \u001b[38;5;241m=\u001b[39m fou\u001b[38;5;241m.\u001b[39mrecommend_batch_size_for_value(\n\u001b[1;32m   1972\u001b[0m     ObjectId(), max_size\u001b[38;5;241m=\u001b[39m\u001b[38;5;241m100000\u001b[39m\n\u001b[1;32m   1973\u001b[0m )\n\u001b[0;32m-> 1974\u001b[0m \u001b[38;5;28;01mfor\u001b[39;00m _ids \u001b[38;5;129;01min\u001b[39;00m fou\u001b[38;5;241m.\u001b[39miter_batches(\u001b[38;5;28mself\u001b[39m\u001b[38;5;241m.\u001b[39mvalues(\u001b[38;5;124m\"\u001b[39m\u001b[38;5;124m_id\u001b[39m\u001b[38;5;124m\"\u001b[39m), batch_size):\n\u001b[1;32m   1975\u001b[0m     ids\u001b[38;5;241m.\u001b[39mextend(_ids)\n\u001b[1;32m   1976\u001b[0m     ops\u001b[38;5;241m.\u001b[39mappend(UpdateMany({\u001b[38;5;124m\"\u001b[39m\u001b[38;5;124m_id\u001b[39m\u001b[38;5;124m\"\u001b[39m: {\u001b[38;5;124m\"\u001b[39m\u001b[38;5;124m$in\u001b[39m\u001b[38;5;124m\"\u001b[39m: _ids}}, update))\n",
      "File \u001b[0;32m~/miniconda3/envs/ahocv/lib/python3.13/site-packages/fiftyone/core/collections.py:9580\u001b[0m, in \u001b[0;36mSampleCollection.values\u001b[0;34m(self, field_or_expr, expr, missing_value, unwind, _allow_missing, _big_result, _raw, _field, _enforce_natural_order)\u001b[0m\n\u001b[1;32m   9567\u001b[0m     \u001b[38;5;28;01mreturn\u001b[39;00m result\n\u001b[1;32m   9569\u001b[0m make \u001b[38;5;241m=\u001b[39m \u001b[38;5;28;01mlambda\u001b[39;00m field_or_expr: foa\u001b[38;5;241m.\u001b[39mValues(\n\u001b[1;32m   9570\u001b[0m     field_or_expr,\n\u001b[1;32m   9571\u001b[0m     expr\u001b[38;5;241m=\u001b[39mexpr,\n\u001b[0;32m   (...)\u001b[0m\n\u001b[1;32m   9578\u001b[0m     _lazy\u001b[38;5;241m=\u001b[39m\u001b[38;5;28;01mFalse\u001b[39;00m,\n\u001b[1;32m   9579\u001b[0m )\n\u001b[0;32m-> 9580\u001b[0m \u001b[38;5;28;01mreturn\u001b[39;00m \u001b[38;5;28mself\u001b[39m\u001b[38;5;241m.\u001b[39m_make_and_aggregate(make, field_or_expr)\n",
      "File \u001b[0;32m~/miniconda3/envs/ahocv/lib/python3.13/site-packages/fiftyone/core/collections.py:11425\u001b[0m, in \u001b[0;36mSampleCollection._make_and_aggregate\u001b[0;34m(self, make, args, _generator)\u001b[0m\n\u001b[1;32m  11422\u001b[0m     \u001b[38;5;66;03m# when not using a generator, we exhaust the cursor and load all\u001b[39;00m\n\u001b[1;32m  11423\u001b[0m     \u001b[38;5;66;03m# the results into memory at once here\u001b[39;00m\n\u001b[1;32m  11424\u001b[0m     \u001b[38;5;28;01mreturn\u001b[39;00m \u001b[38;5;28mtuple\u001b[39m(agg)\n\u001b[0;32m> 11425\u001b[0m \u001b[38;5;28;01mreturn\u001b[39;00m \u001b[38;5;28mself\u001b[39m\u001b[38;5;241m.\u001b[39maggregate(\n\u001b[1;32m  11426\u001b[0m     make(args),\n\u001b[1;32m  11427\u001b[0m )\n",
      "File \u001b[0;32m~/miniconda3/envs/ahocv/lib/python3.13/site-packages/fiftyone/core/collections.py:11034\u001b[0m, in \u001b[0;36mSampleCollection.aggregate\u001b[0;34m(self, aggregations, _mongo)\u001b[0m\n\u001b[1;32m  11031\u001b[0m     \u001b[38;5;28;01mreturn\u001b[39;00m pipelines[\u001b[38;5;241m0\u001b[39m] \u001b[38;5;28;01mif\u001b[39;00m scalar_result \u001b[38;5;28;01melse\u001b[39;00m pipelines\n\u001b[1;32m  11033\u001b[0m \u001b[38;5;66;03m# Run all aggregations\u001b[39;00m\n\u001b[0;32m> 11034\u001b[0m _results \u001b[38;5;241m=\u001b[39m foo\u001b[38;5;241m.\u001b[39maggregate(\n\u001b[1;32m  11035\u001b[0m     \u001b[38;5;28mself\u001b[39m\u001b[38;5;241m.\u001b[39m_dataset\u001b[38;5;241m.\u001b[39m_sample_collection, pipelines, _stream\u001b[38;5;241m=\u001b[39mstream\n\u001b[1;32m  11036\u001b[0m )\n\u001b[1;32m  11038\u001b[0m \u001b[38;5;66;03m# Parse batch results\u001b[39;00m\n\u001b[1;32m  11039\u001b[0m \u001b[38;5;28;01mif\u001b[39;00m batch_aggs:\n",
      "File \u001b[0;32m~/miniconda3/envs/ahocv/lib/python3.13/site-packages/fiftyone/core/odm/database.py:415\u001b[0m, in \u001b[0;36maggregate\u001b[0;34m(collection, pipelines, hints, maxTimeMS, _stream)\u001b[0m\n\u001b[1;32m    412\u001b[0m \u001b[38;5;28;01mif\u001b[39;00m hints[\u001b[38;5;241m0\u001b[39m]:\n\u001b[1;32m    413\u001b[0m     kwargs[\u001b[38;5;124m\"\u001b[39m\u001b[38;5;124mhint\u001b[39m\u001b[38;5;124m\"\u001b[39m] \u001b[38;5;241m=\u001b[39m hints[\u001b[38;5;241m0\u001b[39m]\n\u001b[0;32m--> 415\u001b[0m result \u001b[38;5;241m=\u001b[39m collection\u001b[38;5;241m.\u001b[39maggregate(pipelines[\u001b[38;5;241m0\u001b[39m], \u001b[38;5;241m*\u001b[39m\u001b[38;5;241m*\u001b[39mkwargs)\n\u001b[1;32m    416\u001b[0m \u001b[38;5;28;01mif\u001b[39;00m _stream:\n\u001b[1;32m    417\u001b[0m     \u001b[38;5;28;01mreturn\u001b[39;00m result\n",
      "File \u001b[0;32m~/miniconda3/envs/ahocv/lib/python3.13/site-packages/pymongo/synchronous/collection.py:2937\u001b[0m, in \u001b[0;36mCollection.aggregate\u001b[0;34m(self, pipeline, session, let, comment, **kwargs)\u001b[0m\n\u001b[1;32m   2861\u001b[0m \u001b[38;5;250m\u001b[39m\u001b[38;5;124;03m\"\"\"Perform an aggregation using the aggregation framework on this\u001b[39;00m\n\u001b[1;32m   2862\u001b[0m \u001b[38;5;124;03mcollection.\u001b[39;00m\n\u001b[1;32m   2863\u001b[0m \n\u001b[0;32m   (...)\u001b[0m\n\u001b[1;32m   2934\u001b[0m \u001b[38;5;124;03m    https://mongodb.com/docs/manual/reference/command/aggregate\u001b[39;00m\n\u001b[1;32m   2935\u001b[0m \u001b[38;5;124;03m\"\"\"\u001b[39;00m\n\u001b[1;32m   2936\u001b[0m \u001b[38;5;28;01mwith\u001b[39;00m \u001b[38;5;28mself\u001b[39m\u001b[38;5;241m.\u001b[39m_database\u001b[38;5;241m.\u001b[39mclient\u001b[38;5;241m.\u001b[39m_tmp_session(session, close\u001b[38;5;241m=\u001b[39m\u001b[38;5;28;01mFalse\u001b[39;00m) \u001b[38;5;28;01mas\u001b[39;00m s:\n\u001b[0;32m-> 2937\u001b[0m     \u001b[38;5;28;01mreturn\u001b[39;00m \u001b[38;5;28mself\u001b[39m\u001b[38;5;241m.\u001b[39m_aggregate(\n\u001b[1;32m   2938\u001b[0m         _CollectionAggregationCommand,\n\u001b[1;32m   2939\u001b[0m         pipeline,\n\u001b[1;32m   2940\u001b[0m         CommandCursor,\n\u001b[1;32m   2941\u001b[0m         session\u001b[38;5;241m=\u001b[39ms,\n\u001b[1;32m   2942\u001b[0m         explicit_session\u001b[38;5;241m=\u001b[39msession \u001b[38;5;129;01mis\u001b[39;00m \u001b[38;5;129;01mnot\u001b[39;00m \u001b[38;5;28;01mNone\u001b[39;00m,\n\u001b[1;32m   2943\u001b[0m         let\u001b[38;5;241m=\u001b[39mlet,\n\u001b[1;32m   2944\u001b[0m         comment\u001b[38;5;241m=\u001b[39mcomment,\n\u001b[1;32m   2945\u001b[0m         \u001b[38;5;241m*\u001b[39m\u001b[38;5;241m*\u001b[39mkwargs,\n\u001b[1;32m   2946\u001b[0m     )\n",
      "File \u001b[0;32m~/miniconda3/envs/ahocv/lib/python3.13/site-packages/pymongo/_csot.py:120\u001b[0m, in \u001b[0;36mapply.<locals>.csot_wrapper\u001b[0;34m(self, *args, **kwargs)\u001b[0m\n\u001b[1;32m    118\u001b[0m         \u001b[38;5;28;01mwith\u001b[39;00m _TimeoutContext(timeout):\n\u001b[1;32m    119\u001b[0m             \u001b[38;5;28;01mreturn\u001b[39;00m func(\u001b[38;5;28mself\u001b[39m, \u001b[38;5;241m*\u001b[39margs, \u001b[38;5;241m*\u001b[39m\u001b[38;5;241m*\u001b[39mkwargs)\n\u001b[0;32m--> 120\u001b[0m \u001b[38;5;28;01mreturn\u001b[39;00m func(\u001b[38;5;28mself\u001b[39m, \u001b[38;5;241m*\u001b[39margs, \u001b[38;5;241m*\u001b[39m\u001b[38;5;241m*\u001b[39mkwargs)\n",
      "File \u001b[0;32m~/miniconda3/envs/ahocv/lib/python3.13/site-packages/pymongo/synchronous/collection.py:2845\u001b[0m, in \u001b[0;36mCollection._aggregate\u001b[0;34m(self, aggregation_command, pipeline, cursor_class, session, explicit_session, let, comment, **kwargs)\u001b[0m\n\u001b[1;32m   2834\u001b[0m     kwargs[\u001b[38;5;124m\"\u001b[39m\u001b[38;5;124mcomment\u001b[39m\u001b[38;5;124m\"\u001b[39m] \u001b[38;5;241m=\u001b[39m comment\n\u001b[1;32m   2835\u001b[0m cmd \u001b[38;5;241m=\u001b[39m aggregation_command(\n\u001b[1;32m   2836\u001b[0m     \u001b[38;5;28mself\u001b[39m,\n\u001b[1;32m   2837\u001b[0m     cursor_class,\n\u001b[0;32m   (...)\u001b[0m\n\u001b[1;32m   2842\u001b[0m     user_fields\u001b[38;5;241m=\u001b[39m{\u001b[38;5;124m\"\u001b[39m\u001b[38;5;124mcursor\u001b[39m\u001b[38;5;124m\"\u001b[39m: {\u001b[38;5;124m\"\u001b[39m\u001b[38;5;124mfirstBatch\u001b[39m\u001b[38;5;124m\"\u001b[39m: \u001b[38;5;241m1\u001b[39m}},\n\u001b[1;32m   2843\u001b[0m )\n\u001b[0;32m-> 2845\u001b[0m \u001b[38;5;28;01mreturn\u001b[39;00m \u001b[38;5;28mself\u001b[39m\u001b[38;5;241m.\u001b[39m_database\u001b[38;5;241m.\u001b[39mclient\u001b[38;5;241m.\u001b[39m_retryable_read(\n\u001b[1;32m   2846\u001b[0m     cmd\u001b[38;5;241m.\u001b[39mget_cursor,\n\u001b[1;32m   2847\u001b[0m     cmd\u001b[38;5;241m.\u001b[39mget_read_preference(session),  \u001b[38;5;66;03m# type: ignore[arg-type]\u001b[39;00m\n\u001b[1;32m   2848\u001b[0m     session,\n\u001b[1;32m   2849\u001b[0m     retryable\u001b[38;5;241m=\u001b[39m\u001b[38;5;129;01mnot\u001b[39;00m cmd\u001b[38;5;241m.\u001b[39m_performs_write,\n\u001b[1;32m   2850\u001b[0m     operation\u001b[38;5;241m=\u001b[39m_Op\u001b[38;5;241m.\u001b[39mAGGREGATE,\n\u001b[1;32m   2851\u001b[0m )\n",
      "File \u001b[0;32m~/miniconda3/envs/ahocv/lib/python3.13/site-packages/pymongo/synchronous/mongo_client.py:1863\u001b[0m, in \u001b[0;36mMongoClient._retryable_read\u001b[0;34m(self, func, read_pref, session, operation, address, retryable, operation_id)\u001b[0m\n\u001b[1;32m   1858\u001b[0m \u001b[38;5;66;03m# Ensure that the client supports retrying on reads and there is no session in\u001b[39;00m\n\u001b[1;32m   1859\u001b[0m \u001b[38;5;66;03m# transaction, otherwise, we will not support retry behavior for this call.\u001b[39;00m\n\u001b[1;32m   1860\u001b[0m retryable \u001b[38;5;241m=\u001b[39m \u001b[38;5;28mbool\u001b[39m(\n\u001b[1;32m   1861\u001b[0m     retryable \u001b[38;5;129;01mand\u001b[39;00m \u001b[38;5;28mself\u001b[39m\u001b[38;5;241m.\u001b[39moptions\u001b[38;5;241m.\u001b[39mretry_reads \u001b[38;5;129;01mand\u001b[39;00m \u001b[38;5;129;01mnot\u001b[39;00m (session \u001b[38;5;129;01mand\u001b[39;00m session\u001b[38;5;241m.\u001b[39min_transaction)\n\u001b[1;32m   1862\u001b[0m )\n\u001b[0;32m-> 1863\u001b[0m \u001b[38;5;28;01mreturn\u001b[39;00m \u001b[38;5;28mself\u001b[39m\u001b[38;5;241m.\u001b[39m_retry_internal(\n\u001b[1;32m   1864\u001b[0m     func,\n\u001b[1;32m   1865\u001b[0m     session,\n\u001b[1;32m   1866\u001b[0m     \u001b[38;5;28;01mNone\u001b[39;00m,\n\u001b[1;32m   1867\u001b[0m     operation,\n\u001b[1;32m   1868\u001b[0m     is_read\u001b[38;5;241m=\u001b[39m\u001b[38;5;28;01mTrue\u001b[39;00m,\n\u001b[1;32m   1869\u001b[0m     address\u001b[38;5;241m=\u001b[39maddress,\n\u001b[1;32m   1870\u001b[0m     read_pref\u001b[38;5;241m=\u001b[39mread_pref,\n\u001b[1;32m   1871\u001b[0m     retryable\u001b[38;5;241m=\u001b[39mretryable,\n\u001b[1;32m   1872\u001b[0m     operation_id\u001b[38;5;241m=\u001b[39moperation_id,\n\u001b[1;32m   1873\u001b[0m )\n",
      "File \u001b[0;32m~/miniconda3/envs/ahocv/lib/python3.13/site-packages/pymongo/_csot.py:120\u001b[0m, in \u001b[0;36mapply.<locals>.csot_wrapper\u001b[0;34m(self, *args, **kwargs)\u001b[0m\n\u001b[1;32m    118\u001b[0m         \u001b[38;5;28;01mwith\u001b[39;00m _TimeoutContext(timeout):\n\u001b[1;32m    119\u001b[0m             \u001b[38;5;28;01mreturn\u001b[39;00m func(\u001b[38;5;28mself\u001b[39m, \u001b[38;5;241m*\u001b[39margs, \u001b[38;5;241m*\u001b[39m\u001b[38;5;241m*\u001b[39mkwargs)\n\u001b[0;32m--> 120\u001b[0m \u001b[38;5;28;01mreturn\u001b[39;00m func(\u001b[38;5;28mself\u001b[39m, \u001b[38;5;241m*\u001b[39margs, \u001b[38;5;241m*\u001b[39m\u001b[38;5;241m*\u001b[39mkwargs)\n",
      "File \u001b[0;32m~/miniconda3/envs/ahocv/lib/python3.13/site-packages/pymongo/synchronous/mongo_client.py:1830\u001b[0m, in \u001b[0;36mMongoClient._retry_internal\u001b[0;34m(self, func, session, bulk, operation, is_read, address, read_pref, retryable, operation_id)\u001b[0m\n\u001b[1;32m   1793\u001b[0m \u001b[38;5;129m@_csot\u001b[39m\u001b[38;5;241m.\u001b[39mapply\n\u001b[1;32m   1794\u001b[0m \u001b[38;5;28;01mdef\u001b[39;00m\u001b[38;5;250m \u001b[39m\u001b[38;5;21m_retry_internal\u001b[39m(\n\u001b[1;32m   1795\u001b[0m     \u001b[38;5;28mself\u001b[39m,\n\u001b[0;32m   (...)\u001b[0m\n\u001b[1;32m   1804\u001b[0m     operation_id: Optional[\u001b[38;5;28mint\u001b[39m] \u001b[38;5;241m=\u001b[39m \u001b[38;5;28;01mNone\u001b[39;00m,\n\u001b[1;32m   1805\u001b[0m ) \u001b[38;5;241m-\u001b[39m\u001b[38;5;241m>\u001b[39m T:\n\u001b[1;32m   1806\u001b[0m \u001b[38;5;250m    \u001b[39m\u001b[38;5;124;03m\"\"\"Internal retryable helper for all client transactions.\u001b[39;00m\n\u001b[1;32m   1807\u001b[0m \n\u001b[1;32m   1808\u001b[0m \u001b[38;5;124;03m    :param func: Callback function we want to retry\u001b[39;00m\n\u001b[0;32m   (...)\u001b[0m\n\u001b[1;32m   1817\u001b[0m \u001b[38;5;124;03m    :return: Output of the calling func()\u001b[39;00m\n\u001b[1;32m   1818\u001b[0m \u001b[38;5;124;03m    \"\"\"\u001b[39;00m\n\u001b[1;32m   1819\u001b[0m     \u001b[38;5;28;01mreturn\u001b[39;00m _ClientConnectionRetryable(\n\u001b[1;32m   1820\u001b[0m         mongo_client\u001b[38;5;241m=\u001b[39m\u001b[38;5;28mself\u001b[39m,\n\u001b[1;32m   1821\u001b[0m         func\u001b[38;5;241m=\u001b[39mfunc,\n\u001b[1;32m   1822\u001b[0m         bulk\u001b[38;5;241m=\u001b[39mbulk,\n\u001b[1;32m   1823\u001b[0m         operation\u001b[38;5;241m=\u001b[39moperation,\n\u001b[1;32m   1824\u001b[0m         is_read\u001b[38;5;241m=\u001b[39mis_read,\n\u001b[1;32m   1825\u001b[0m         session\u001b[38;5;241m=\u001b[39msession,\n\u001b[1;32m   1826\u001b[0m         read_pref\u001b[38;5;241m=\u001b[39mread_pref,\n\u001b[1;32m   1827\u001b[0m         address\u001b[38;5;241m=\u001b[39maddress,\n\u001b[1;32m   1828\u001b[0m         retryable\u001b[38;5;241m=\u001b[39mretryable,\n\u001b[1;32m   1829\u001b[0m         operation_id\u001b[38;5;241m=\u001b[39moperation_id,\n\u001b[0;32m-> 1830\u001b[0m     )\u001b[38;5;241m.\u001b[39mrun()\n",
      "File \u001b[0;32m~/miniconda3/envs/ahocv/lib/python3.13/site-packages/pymongo/synchronous/mongo_client.py:2554\u001b[0m, in \u001b[0;36m_ClientConnectionRetryable.run\u001b[0;34m(self)\u001b[0m\n\u001b[1;32m   2552\u001b[0m \u001b[38;5;28mself\u001b[39m\u001b[38;5;241m.\u001b[39m_check_last_error(check_csot\u001b[38;5;241m=\u001b[39m\u001b[38;5;28;01mTrue\u001b[39;00m)\n\u001b[1;32m   2553\u001b[0m \u001b[38;5;28;01mtry\u001b[39;00m:\n\u001b[0;32m-> 2554\u001b[0m     \u001b[38;5;28;01mreturn\u001b[39;00m \u001b[38;5;28mself\u001b[39m\u001b[38;5;241m.\u001b[39m_read() \u001b[38;5;28;01mif\u001b[39;00m \u001b[38;5;28mself\u001b[39m\u001b[38;5;241m.\u001b[39m_is_read \u001b[38;5;28;01melse\u001b[39;00m \u001b[38;5;28mself\u001b[39m\u001b[38;5;241m.\u001b[39m_write()\n\u001b[1;32m   2555\u001b[0m \u001b[38;5;28;01mexcept\u001b[39;00m ServerSelectionTimeoutError:\n\u001b[1;32m   2556\u001b[0m     \u001b[38;5;66;03m# The application may think the write was never attempted\u001b[39;00m\n\u001b[1;32m   2557\u001b[0m     \u001b[38;5;66;03m# if we raise ServerSelectionTimeoutError on the retry\u001b[39;00m\n\u001b[1;32m   2558\u001b[0m     \u001b[38;5;66;03m# attempt. Raise the original exception instead.\u001b[39;00m\n\u001b[1;32m   2559\u001b[0m     \u001b[38;5;28mself\u001b[39m\u001b[38;5;241m.\u001b[39m_check_last_error()\n",
      "File \u001b[0;32m~/miniconda3/envs/ahocv/lib/python3.13/site-packages/pymongo/synchronous/mongo_client.py:2689\u001b[0m, in \u001b[0;36m_ClientConnectionRetryable._read\u001b[0;34m(self)\u001b[0m\n\u001b[1;32m   2684\u001b[0m \u001b[38;5;28;01mdef\u001b[39;00m\u001b[38;5;250m \u001b[39m\u001b[38;5;21m_read\u001b[39m(\u001b[38;5;28mself\u001b[39m) \u001b[38;5;241m-\u001b[39m\u001b[38;5;241m>\u001b[39m T:\n\u001b[1;32m   2685\u001b[0m \u001b[38;5;250m    \u001b[39m\u001b[38;5;124;03m\"\"\"Wrapper method for read-type retryable client executions\u001b[39;00m\n\u001b[1;32m   2686\u001b[0m \n\u001b[1;32m   2687\u001b[0m \u001b[38;5;124;03m    :return: Output for func()'s call\u001b[39;00m\n\u001b[1;32m   2688\u001b[0m \u001b[38;5;124;03m    \"\"\"\u001b[39;00m\n\u001b[0;32m-> 2689\u001b[0m     \u001b[38;5;28mself\u001b[39m\u001b[38;5;241m.\u001b[39m_server \u001b[38;5;241m=\u001b[39m \u001b[38;5;28mself\u001b[39m\u001b[38;5;241m.\u001b[39m_get_server()\n\u001b[1;32m   2690\u001b[0m     \u001b[38;5;28;01massert\u001b[39;00m \u001b[38;5;28mself\u001b[39m\u001b[38;5;241m.\u001b[39m_read_pref \u001b[38;5;129;01mis\u001b[39;00m \u001b[38;5;129;01mnot\u001b[39;00m \u001b[38;5;28;01mNone\u001b[39;00m, \u001b[38;5;124m\"\u001b[39m\u001b[38;5;124mRead Preference required on read calls\u001b[39m\u001b[38;5;124m\"\u001b[39m\n\u001b[1;32m   2691\u001b[0m     \u001b[38;5;28;01mwith\u001b[39;00m \u001b[38;5;28mself\u001b[39m\u001b[38;5;241m.\u001b[39m_client\u001b[38;5;241m.\u001b[39m_conn_from_server(\u001b[38;5;28mself\u001b[39m\u001b[38;5;241m.\u001b[39m_read_pref, \u001b[38;5;28mself\u001b[39m\u001b[38;5;241m.\u001b[39m_server, \u001b[38;5;28mself\u001b[39m\u001b[38;5;241m.\u001b[39m_session) \u001b[38;5;28;01mas\u001b[39;00m (\n\u001b[1;32m   2692\u001b[0m         conn,\n\u001b[1;32m   2693\u001b[0m         read_pref,\n\u001b[1;32m   2694\u001b[0m     ):\n",
      "File \u001b[0;32m~/miniconda3/envs/ahocv/lib/python3.13/site-packages/pymongo/synchronous/mongo_client.py:2645\u001b[0m, in \u001b[0;36m_ClientConnectionRetryable._get_server\u001b[0;34m(self)\u001b[0m\n\u001b[1;32m   2640\u001b[0m \u001b[38;5;28;01mdef\u001b[39;00m\u001b[38;5;250m \u001b[39m\u001b[38;5;21m_get_server\u001b[39m(\u001b[38;5;28mself\u001b[39m) \u001b[38;5;241m-\u001b[39m\u001b[38;5;241m>\u001b[39m Server:\n\u001b[1;32m   2641\u001b[0m \u001b[38;5;250m    \u001b[39m\u001b[38;5;124;03m\"\"\"Retrieves a server object based on provided object context\u001b[39;00m\n\u001b[1;32m   2642\u001b[0m \n\u001b[1;32m   2643\u001b[0m \u001b[38;5;124;03m    :return: Abstraction to connect to server\u001b[39;00m\n\u001b[1;32m   2644\u001b[0m \u001b[38;5;124;03m    \"\"\"\u001b[39;00m\n\u001b[0;32m-> 2645\u001b[0m     \u001b[38;5;28;01mreturn\u001b[39;00m \u001b[38;5;28mself\u001b[39m\u001b[38;5;241m.\u001b[39m_client\u001b[38;5;241m.\u001b[39m_select_server(\n\u001b[1;32m   2646\u001b[0m         \u001b[38;5;28mself\u001b[39m\u001b[38;5;241m.\u001b[39m_server_selector,\n\u001b[1;32m   2647\u001b[0m         \u001b[38;5;28mself\u001b[39m\u001b[38;5;241m.\u001b[39m_session,\n\u001b[1;32m   2648\u001b[0m         \u001b[38;5;28mself\u001b[39m\u001b[38;5;241m.\u001b[39m_operation,\n\u001b[1;32m   2649\u001b[0m         address\u001b[38;5;241m=\u001b[39m\u001b[38;5;28mself\u001b[39m\u001b[38;5;241m.\u001b[39m_address,\n\u001b[1;32m   2650\u001b[0m         deprioritized_servers\u001b[38;5;241m=\u001b[39m\u001b[38;5;28mself\u001b[39m\u001b[38;5;241m.\u001b[39m_deprioritized_servers,\n\u001b[1;32m   2651\u001b[0m         operation_id\u001b[38;5;241m=\u001b[39m\u001b[38;5;28mself\u001b[39m\u001b[38;5;241m.\u001b[39m_operation_id,\n\u001b[1;32m   2652\u001b[0m     )\n",
      "File \u001b[0;32m~/miniconda3/envs/ahocv/lib/python3.13/site-packages/pymongo/synchronous/mongo_client.py:1649\u001b[0m, in \u001b[0;36mMongoClient._select_server\u001b[0;34m(self, server_selector, session, operation, address, deprioritized_servers, operation_id)\u001b[0m\n\u001b[1;32m   1647\u001b[0m             \u001b[38;5;28;01mraise\u001b[39;00m AutoReconnect(\u001b[38;5;124m\"\u001b[39m\u001b[38;5;124mserver \u001b[39m\u001b[38;5;132;01m%s\u001b[39;00m\u001b[38;5;124m:\u001b[39m\u001b[38;5;132;01m%s\u001b[39;00m\u001b[38;5;124m no longer available\u001b[39m\u001b[38;5;124m\"\u001b[39m \u001b[38;5;241m%\u001b[39m address)  \u001b[38;5;66;03m# noqa: UP031\u001b[39;00m\n\u001b[1;32m   1648\u001b[0m     \u001b[38;5;28;01melse\u001b[39;00m:\n\u001b[0;32m-> 1649\u001b[0m         server \u001b[38;5;241m=\u001b[39m topology\u001b[38;5;241m.\u001b[39mselect_server(\n\u001b[1;32m   1650\u001b[0m             server_selector,\n\u001b[1;32m   1651\u001b[0m             operation,\n\u001b[1;32m   1652\u001b[0m             deprioritized_servers\u001b[38;5;241m=\u001b[39mdeprioritized_servers,\n\u001b[1;32m   1653\u001b[0m             operation_id\u001b[38;5;241m=\u001b[39moperation_id,\n\u001b[1;32m   1654\u001b[0m         )\n\u001b[1;32m   1655\u001b[0m     \u001b[38;5;28;01mreturn\u001b[39;00m server\n\u001b[1;32m   1656\u001b[0m \u001b[38;5;28;01mexcept\u001b[39;00m PyMongoError \u001b[38;5;28;01mas\u001b[39;00m exc:\n\u001b[1;32m   1657\u001b[0m     \u001b[38;5;66;03m# Server selection errors in a transaction are transient.\u001b[39;00m\n",
      "File \u001b[0;32m~/miniconda3/envs/ahocv/lib/python3.13/site-packages/pymongo/synchronous/topology.py:398\u001b[0m, in \u001b[0;36mTopology.select_server\u001b[0;34m(self, selector, operation, server_selection_timeout, address, deprioritized_servers, operation_id)\u001b[0m\n\u001b[1;32m    388\u001b[0m \u001b[38;5;28;01mdef\u001b[39;00m\u001b[38;5;250m \u001b[39m\u001b[38;5;21mselect_server\u001b[39m(\n\u001b[1;32m    389\u001b[0m     \u001b[38;5;28mself\u001b[39m,\n\u001b[1;32m    390\u001b[0m     selector: Callable[[Selection], Selection],\n\u001b[0;32m   (...)\u001b[0m\n\u001b[1;32m    395\u001b[0m     operation_id: Optional[\u001b[38;5;28mint\u001b[39m] \u001b[38;5;241m=\u001b[39m \u001b[38;5;28;01mNone\u001b[39;00m,\n\u001b[1;32m    396\u001b[0m ) \u001b[38;5;241m-\u001b[39m\u001b[38;5;241m>\u001b[39m Server:\n\u001b[1;32m    397\u001b[0m \u001b[38;5;250m    \u001b[39m\u001b[38;5;124;03m\"\"\"Like select_servers, but choose a random server if several match.\"\"\"\u001b[39;00m\n\u001b[0;32m--> 398\u001b[0m     server \u001b[38;5;241m=\u001b[39m \u001b[38;5;28mself\u001b[39m\u001b[38;5;241m.\u001b[39m_select_server(\n\u001b[1;32m    399\u001b[0m         selector,\n\u001b[1;32m    400\u001b[0m         operation,\n\u001b[1;32m    401\u001b[0m         server_selection_timeout,\n\u001b[1;32m    402\u001b[0m         address,\n\u001b[1;32m    403\u001b[0m         deprioritized_servers,\n\u001b[1;32m    404\u001b[0m         operation_id\u001b[38;5;241m=\u001b[39moperation_id,\n\u001b[1;32m    405\u001b[0m     )\n\u001b[1;32m    406\u001b[0m     \u001b[38;5;28;01mif\u001b[39;00m _csot\u001b[38;5;241m.\u001b[39mget_timeout():\n\u001b[1;32m    407\u001b[0m         _csot\u001b[38;5;241m.\u001b[39mset_rtt(server\u001b[38;5;241m.\u001b[39mdescription\u001b[38;5;241m.\u001b[39mmin_round_trip_time)\n",
      "File \u001b[0;32m~/miniconda3/envs/ahocv/lib/python3.13/site-packages/pymongo/synchronous/topology.py:376\u001b[0m, in \u001b[0;36mTopology._select_server\u001b[0;34m(self, selector, operation, server_selection_timeout, address, deprioritized_servers, operation_id)\u001b[0m\n\u001b[1;32m    367\u001b[0m \u001b[38;5;28;01mdef\u001b[39;00m\u001b[38;5;250m \u001b[39m\u001b[38;5;21m_select_server\u001b[39m(\n\u001b[1;32m    368\u001b[0m     \u001b[38;5;28mself\u001b[39m,\n\u001b[1;32m    369\u001b[0m     selector: Callable[[Selection], Selection],\n\u001b[0;32m   (...)\u001b[0m\n\u001b[1;32m    374\u001b[0m     operation_id: Optional[\u001b[38;5;28mint\u001b[39m] \u001b[38;5;241m=\u001b[39m \u001b[38;5;28;01mNone\u001b[39;00m,\n\u001b[1;32m    375\u001b[0m ) \u001b[38;5;241m-\u001b[39m\u001b[38;5;241m>\u001b[39m Server:\n\u001b[0;32m--> 376\u001b[0m     servers \u001b[38;5;241m=\u001b[39m \u001b[38;5;28mself\u001b[39m\u001b[38;5;241m.\u001b[39mselect_servers(\n\u001b[1;32m    377\u001b[0m         selector, operation, server_selection_timeout, address, operation_id\n\u001b[1;32m    378\u001b[0m     )\n\u001b[1;32m    379\u001b[0m     servers \u001b[38;5;241m=\u001b[39m _filter_servers(servers, deprioritized_servers)\n\u001b[1;32m    380\u001b[0m     \u001b[38;5;28;01mif\u001b[39;00m \u001b[38;5;28mlen\u001b[39m(servers) \u001b[38;5;241m==\u001b[39m \u001b[38;5;241m1\u001b[39m:\n",
      "File \u001b[0;32m~/miniconda3/envs/ahocv/lib/python3.13/site-packages/pymongo/synchronous/topology.py:283\u001b[0m, in \u001b[0;36mTopology.select_servers\u001b[0;34m(self, selector, operation, server_selection_timeout, address, operation_id)\u001b[0m\n\u001b[1;32m    280\u001b[0m     server_timeout \u001b[38;5;241m=\u001b[39m server_selection_timeout\n\u001b[1;32m    282\u001b[0m \u001b[38;5;28;01mwith\u001b[39;00m \u001b[38;5;28mself\u001b[39m\u001b[38;5;241m.\u001b[39m_lock:\n\u001b[0;32m--> 283\u001b[0m     server_descriptions \u001b[38;5;241m=\u001b[39m \u001b[38;5;28mself\u001b[39m\u001b[38;5;241m.\u001b[39m_select_servers_loop(\n\u001b[1;32m    284\u001b[0m         selector, server_timeout, operation, operation_id, address\n\u001b[1;32m    285\u001b[0m     )\n\u001b[1;32m    287\u001b[0m     \u001b[38;5;28;01mreturn\u001b[39;00m [\n\u001b[1;32m    288\u001b[0m         cast(Server, \u001b[38;5;28mself\u001b[39m\u001b[38;5;241m.\u001b[39mget_server_by_address(sd\u001b[38;5;241m.\u001b[39maddress)) \u001b[38;5;28;01mfor\u001b[39;00m sd \u001b[38;5;129;01min\u001b[39;00m server_descriptions\n\u001b[1;32m    289\u001b[0m     ]\n",
      "File \u001b[0;32m~/miniconda3/envs/ahocv/lib/python3.13/site-packages/pymongo/synchronous/topology.py:333\u001b[0m, in \u001b[0;36mTopology._select_servers_loop\u001b[0;34m(self, selector, timeout, operation, operation_id, address)\u001b[0m\n\u001b[1;32m    322\u001b[0m     \u001b[38;5;28;01mif\u001b[39;00m _SERVER_SELECTION_LOGGER\u001b[38;5;241m.\u001b[39misEnabledFor(logging\u001b[38;5;241m.\u001b[39mDEBUG):\n\u001b[1;32m    323\u001b[0m         _debug_log(\n\u001b[1;32m    324\u001b[0m             _SERVER_SELECTION_LOGGER,\n\u001b[1;32m    325\u001b[0m             message\u001b[38;5;241m=\u001b[39m_ServerSelectionStatusMessage\u001b[38;5;241m.\u001b[39mFAILED,\n\u001b[0;32m   (...)\u001b[0m\n\u001b[1;32m    331\u001b[0m             failure\u001b[38;5;241m=\u001b[39m\u001b[38;5;28mself\u001b[39m\u001b[38;5;241m.\u001b[39m_error_message(selector),\n\u001b[1;32m    332\u001b[0m         )\n\u001b[0;32m--> 333\u001b[0m     \u001b[38;5;28;01mraise\u001b[39;00m ServerSelectionTimeoutError(\n\u001b[1;32m    334\u001b[0m         \u001b[38;5;124mf\u001b[39m\u001b[38;5;124m\"\u001b[39m\u001b[38;5;132;01m{\u001b[39;00m\u001b[38;5;28mself\u001b[39m\u001b[38;5;241m.\u001b[39m_error_message(selector)\u001b[38;5;132;01m}\u001b[39;00m\u001b[38;5;124m, Timeout: \u001b[39m\u001b[38;5;132;01m{\u001b[39;00mtimeout\u001b[38;5;132;01m}\u001b[39;00m\u001b[38;5;124ms, Topology Description: \u001b[39m\u001b[38;5;132;01m{\u001b[39;00m\u001b[38;5;28mself\u001b[39m\u001b[38;5;241m.\u001b[39mdescription\u001b[38;5;132;01m!r}\u001b[39;00m\u001b[38;5;124m\"\u001b[39m\n\u001b[1;32m    335\u001b[0m     )\n\u001b[1;32m    337\u001b[0m \u001b[38;5;28;01mif\u001b[39;00m \u001b[38;5;129;01mnot\u001b[39;00m logged_waiting:\n\u001b[1;32m    338\u001b[0m     _debug_log(\n\u001b[1;32m    339\u001b[0m         _SERVER_SELECTION_LOGGER,\n\u001b[1;32m    340\u001b[0m         message\u001b[38;5;241m=\u001b[39m_ServerSelectionStatusMessage\u001b[38;5;241m.\u001b[39mWAITING,\n\u001b[0;32m   (...)\u001b[0m\n\u001b[1;32m    346\u001b[0m         remainingTimeMS\u001b[38;5;241m=\u001b[39m\u001b[38;5;28mint\u001b[39m(end_time \u001b[38;5;241m-\u001b[39m time\u001b[38;5;241m.\u001b[39mmonotonic()),\n\u001b[1;32m    347\u001b[0m     )\n",
      "\u001b[0;31mServerSelectionTimeoutError\u001b[0m: localhost:44449: [Errno 111] Connection refused (configured timeouts: socketTimeoutMS: 20000.0ms, connectTimeoutMS: 20000.0ms), Timeout: 30s, Topology Description: <TopologyDescription id: 68fd0793c94a0ccde91fc601, topology_type: Single, servers: [<ServerDescription ('localhost', 44449) server_type: Unknown, rtt: None, error=AutoReconnect('localhost:44449: [Errno 111] Connection refused (configured timeouts: socketTimeoutMS: 20000.0ms, connectTimeoutMS: 20000.0ms)')>]>"
     ]
    }
   ],
   "source": [
    "train_val_dataset.untag_samples(\"train/val\")"
   ]
  },
  {
   "cell_type": "code",
   "execution_count": null,
   "id": "466dce2b",
   "metadata": {},
   "outputs": [
    {
     "name": "stderr",
     "output_type": "stream",
     "text": [
      "100%|██████████| 60000/60000 [03:13<00:00, 309.30it/s]\n",
      "100%|██████████| 10000/10000 [00:19<00:00, 523.08it/s]\n"
     ]
    },
    {
     "name": "stdout",
     "output_type": "stream",
     "text": [
      "Merged dataset created with 70000 total samples\n",
      "Train/Val samples: 60000\n",
      "Test samples: 10000\n"
     ]
    }
   ],
   "source": [
    "# Create a new merged dataset\n",
    "merged_dataset = fo.Dataset(\"curated-mnist\")\n",
    "\n",
    "# get the ids from samples_to_exclude_view\n",
    "ids_of_samples_to_exclude = intersection_difficult_misclassified_view.values(\"id\")\n",
    "\n",
    "for sample in tqdm(train_val_dataset):\n",
    "    if \"train/val\" in sample.tags:\n",
    "        sample.tags.remove(\"train/val\")\n",
    "    sample.tags.append(\"exclude\") if sample.id in ids_of_samples_to_exclude else None\n",
    "    merged_dataset.add_sample(sample)\n",
    "\n",
    "for sample in tqdm(test_dataset):\n",
    "    sample.tags.append(\"test\")\n",
    "    sample.save()\n",
    "    merged_dataset.add_sample(sample)\n",
    "\n",
    "# Save the merged dataset\n",
    "merged_dataset.persistent = True\n",
    "\n",
    "print(f\"Merged dataset created with {len(merged_dataset)} total samples\")\n",
    "print(f\"Train/Val samples: {len(merged_dataset.match_tags('train/val'))}\")\n",
    "print(f\"Test samples: {len(merged_dataset.match_tags('test'))}\")"
   ]
  },
  {
   "cell_type": "code",
   "execution_count": 145,
   "id": "79c7c0d3",
   "metadata": {},
   "outputs": [
    {
     "name": "stdout",
     "output_type": "stream",
     "text": [
      "Directory '/sc/home/josef.pribbernow/HPI-Applied-Hands-On-Computer-Vision-2025-Josef-Pribbernow/Assignment-01/data/curated_mnist_export' already exists; export will be merged with existing files\n",
      "Exporting samples...\n",
      " 100% |████████████████| 70000/70000 [8.0m elapsed, 0s remaining, 156.8 docs/s]      \n",
      "Merged dataset exported to: /sc/home/josef.pribbernow/HPI-Applied-Hands-On-Computer-Vision-2025-Josef-Pribbernow/Assignment-01/data/curated_mnist_export\n",
      "Total samples exported: 70000\n"
     ]
    }
   ],
   "source": [
    "# Save merged_dataset to disk using FiftyOneDataset type\n",
    "merged_dataset.export(\n",
    "    export_dir=str(DATA_PATH / \"curated_mnist_export\"),\n",
    "    dataset_type=fo.types.FiftyOneDataset,\n",
    "    export_media=True  # This exports the actual image files along with metadata\n",
    ")\n",
    "\n",
    "print(f\"Merged dataset exported to: {DATA_PATH / 'curated_mnist_export'}\")\n",
    "print(f\"Total samples exported: {len(merged_dataset)}\")"
   ]
  },
  {
   "cell_type": "markdown",
   "id": "e443047c",
   "metadata": {},
   "source": [
    "## Visualization of the Embedding Space"
   ]
  },
  {
   "cell_type": "code",
   "execution_count": 141,
   "id": "3e6f4591",
   "metadata": {},
   "outputs": [],
   "source": [
    "## Extract Embeddings from LeNet Model Using PyTorch Hooks\n",
    "\n",
    "def extract_lenet_embeddings(model, dataloader, device, layer_name='fc1'):\n",
    "    \"\"\"\n",
    "    Extract embeddings from a specified layer of the LeNet model using PyTorch hooks.\n",
    "\n",
    "    Args:\n",
    "        model: Trained LeNet model\n",
    "        dataloader: PyTorch DataLoader\n",
    "        device: Device to run inference on\n",
    "        layer_name: Name of the layer to extract embeddings from\n",
    "                   Options: 'conv3', 'fc1', or 'fc2'\n",
    "\n",
    "    Returns:\n",
    "        numpy array of embeddings\n",
    "    \"\"\"\n",
    "    # Dictionary to store the embeddings\n",
    "    embeddings_dict = {}\n",
    "\n",
    "    def hook_fn(module, input, output):\n",
    "        \"\"\"Hook function to capture layer outputs\"\"\"\n",
    "        # Flatten the output if it's from conv layers\n",
    "        if len(output.shape) > 2:\n",
    "            embeddings_dict['embeddings'] = output.view(output.size(0), -1).cpu().detach()\n",
    "        else:\n",
    "            embeddings_dict['embeddings'] = output.cpu().detach()\n",
    "\n",
    "    # Register the hook on the specified layer\n",
    "    layer_map = {\n",
    "        'conv3': model.conv3,  # Shape: (batch_size, 120, 1, 1) -> flattened to (batch_size, 120)\n",
    "        'fc1': model.fc1,     # Shape: (batch_size, 84) - most common choice\n",
    "        'fc2': model.fc2      # Shape: (batch_size, 10) - final logits\n",
    "    }\n",
    "\n",
    "    if layer_name not in layer_map:\n",
    "        raise ValueError(f\"Invalid layer_name. Choose from: {list(layer_map.keys())}\")\n",
    "\n",
    "    target_layer = layer_map[layer_name]\n",
    "    hook_handle = target_layer.register_forward_hook(hook_fn)\n",
    "\n",
    "    # Set model to evaluation mode\n",
    "    model.eval()\n",
    "\n",
    "    all_embeddings = []\n",
    "\n",
    "    print(f\"Extracting embeddings from {layer_name} layer...\")\n",
    "\n",
    "    with torch.inference_mode():\n",
    "        for images, _ in tqdm(dataloader, desc=\"Processing batches\"):\n",
    "            images = images.to(device)\n",
    "\n",
    "            # Forward pass (hook will capture the embeddings)\n",
    "            _ = model(images)\n",
    "\n",
    "            # Store the captured embeddings\n",
    "            batch_embeddings = embeddings_dict['embeddings'].numpy()\n",
    "            all_embeddings.append(batch_embeddings)\n",
    "\n",
    "    # Remove the hook to clean up\n",
    "    hook_handle.remove()\n",
    "\n",
    "    # Concatenate all embeddings\n",
    "    final_embeddings = np.concatenate(all_embeddings, axis=0)\n",
    "\n",
    "    print(f\"Extracted embeddings shape: {final_embeddings.shape}\")\n",
    "    print(f\"Embedding dimension: {final_embeddings.shape[1]}\")\n",
    "\n",
    "    return final_embeddings"
   ]
  },
  {
   "cell_type": "code",
   "execution_count": 131,
   "id": "198786c9",
   "metadata": {},
   "outputs": [
    {
     "name": "stdout",
     "output_type": "stream",
     "text": [
      "Extracting LeNet embeddings with proper sample ordering...\n",
      "Extracting embeddings from fc1 layer...\n"
     ]
    },
    {
     "name": "stderr",
     "output_type": "stream",
     "text": [
      "Processing batches: 100%|██████████| 938/938 [00:44<00:00, 21.09it/s]"
     ]
    },
    {
     "name": "stdout",
     "output_type": "stream",
     "text": [
      "Extracted embeddings shape: (60000, 84)\n",
      "Embedding dimension: 84\n"
     ]
    },
    {
     "name": "stderr",
     "output_type": "stream",
     "text": [
      "\n"
     ]
    }
   ],
   "source": [
    "# Extract embeddings from the fc1 layer (84-dimensional representations)\n",
    "print(\"Extracting LeNet embeddings with proper sample ordering...\")\n",
    "\n",
    "lenet_embeddings = extract_lenet_embeddings(\n",
    "    model=loaded_model,\n",
    "    dataloader=train_val_loader,\n",
    "    device=device,\n",
    "    layer_name='fc1'\n",
    ")\n",
    "\n",
    "# Wrap embeddings to their associated filenames\n",
    "embeddings_dict = {img_path: emb for img_path, emb in zip(torch_train_set.image_paths, lenet_embeddings)}"
   ]
  },
  {
   "cell_type": "code",
   "execution_count": 132,
   "id": "e7a41eff",
   "metadata": {},
   "outputs": [
    {
     "name": "stdout",
     "output_type": "stream",
     "text": [
      "Storing LeNet embeddings in FiftyOne dataset...\n"
     ]
    },
    {
     "name": "stderr",
     "output_type": "stream",
     "text": [
      "Storing embeddings: 100%|██████████| 60000/60000 [01:19<00:00, 754.92it/s]"
     ]
    },
    {
     "name": "stdout",
     "output_type": "stream",
     "text": [
      "LeNet embeddings stored successfully in samples from train_val_dataset.\n",
      "Sample LeNet embedding shape: (84,)\n",
      "Embedding type: <class 'numpy.ndarray'>\n"
     ]
    },
    {
     "name": "stderr",
     "output_type": "stream",
     "text": [
      "\n"
     ]
    }
   ],
   "source": [
    "print(\"Storing LeNet embeddings in FiftyOne dataset...\")\n",
    "\n",
    "# Store embeddings in each sample\n",
    "for index, sample in enumerate(tqdm(train_val_dataset, desc=\"Storing embeddings\")):\n",
    "    sample[\"lenet_embeddings\"] = lenet_embeddings[index]\n",
    "    sample.save()\n",
    "\n",
    "print(\"LeNet embeddings stored successfully in samples from train_val_dataset.\")\n",
    "\n",
    "# Verify storage\n",
    "sample = train_val_dataset.first()\n",
    "print(f\"Sample LeNet embedding shape: {sample.lenet_embeddings.shape}\")\n",
    "print(f\"Embedding type: {type(sample.lenet_embeddings)}\")\n",
    "\n",
    "# Persisting the change\n",
    "train_val_dataset.save()"
   ]
  },
  {
   "cell_type": "markdown",
   "id": "dbb65ab9",
   "metadata": {},
   "source": [
    "### PCA"
   ]
  },
  {
   "cell_type": "code",
   "execution_count": 133,
   "id": "eb2951b1",
   "metadata": {},
   "outputs": [
    {
     "name": "stdout",
     "output_type": "stream",
     "text": [
      "Generating visualization...\n"
     ]
    }
   ],
   "source": [
    "# PCA visualization\n",
    "pca_viz_lenet = fob.compute_visualization(\n",
    "    train_val_dataset,\n",
    "    method=\"pca\",\n",
    "    embeddings=\"lenet_embeddings\",\n",
    "    num_dims=2,\n",
    "    brain_key=\"pca_lenet_embeddings\",\n",
    "    color_by=\"ground_truth.label\"\n",
    ")"
   ]
  },
  {
   "cell_type": "code",
   "execution_count": null,
   "id": "03e0bc06",
   "metadata": {},
   "outputs": [
    {
     "data": {
      "text/html": [
       "\n",
       "<style>\n",
       "@import url(\"https://fonts.googleapis.com/css2?family=Palanquin&display=swap\");\n",
       "\n",
       "body, html {\n",
       "  margin: 0;\n",
       "  padding: 0;\n",
       "  width: 100%;\n",
       "}\n",
       "\n",
       "#focontainer-594d0a26-069b-4f9d-b248-2d1759f0cd09 {\n",
       "  position: relative;\n",
       "  height: 800px;\n",
       "  display: block !important;\n",
       "}\n",
       "#foactivate-594d0a26-069b-4f9d-b248-2d1759f0cd09 {\n",
       "  font-weight: bold;\n",
       "  cursor: pointer;\n",
       "  font-size: 24px;\n",
       "  border-radius: 3px;\n",
       "  text-align: center;\n",
       "  padding: 0.5em;\n",
       "  color: rgb(255, 255, 255);\n",
       "  font-family: \"Palanquin\", sans-serif;\n",
       "  position: absolute;\n",
       "  left: 50%;\n",
       "  top: 50%;\n",
       "  width: 160px;\n",
       "  margin-left: -80px;\n",
       "  margin-top: -23px;\n",
       "  background: hsla(210,11%,15%, 0.8);\n",
       "  border: none;\n",
       "}\n",
       "#foactivate-594d0a26-069b-4f9d-b248-2d1759f0cd09:focus {\n",
       "  outline: none;\n",
       "}\n",
       "#fooverlay-594d0a26-069b-4f9d-b248-2d1759f0cd09 {\n",
       "  width: 100%;\n",
       "  height: 100%;\n",
       "  background: hsla(208, 7%, 46%, 0.7);\n",
       "  position: absolute;\n",
       "  top: 0;\n",
       "  left: 0;\n",
       "  display: none;\n",
       "  cursor: pointer;\n",
       "}\n",
       "</style>\n",
       "\n",
       "<div id=\"focontainer-594d0a26-069b-4f9d-b248-2d1759f0cd09\">\n",
       "   <div id=\"fooverlay-594d0a26-069b-4f9d-b248-2d1759f0cd09\" style=\"display: none;\">\n",
       "      <button id=\"foactivate-594d0a26-069b-4f9d-b248-2d1759f0cd09\" >Activate</button>\n",
       "   </div>\n",
       "   <img src='data:image/jpeg;base64,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' style=\"width: 100%; max-width: 1154px;\"/>\n",
       "</div>\n",
       "\n",
       "<script type=\"text/javascript\">\n",
       "   (function() {\n",
       "     var container = document.getElementById(\"focontainer-594d0a26-069b-4f9d-b248-2d1759f0cd09\");\n",
       "     var overlay = document.getElementById(\"fooverlay-594d0a26-069b-4f9d-b248-2d1759f0cd09\");\n",
       "     fetch(`http://localhost:6969/fiftyone`)\n",
       "     .then(() => {\n",
       "        overlay.addEventListener(\"click\", () => {\n",
       "          fetch(`http://localhost:6969/event`, {\n",
       "            method: \"POST\",\n",
       "            body: JSON.stringify({\n",
       "              event: \"reactivate_notebook_cell\",\n",
       "              data: { subscription: \"594d0a26-069b-4f9d-b248-2d1759f0cd09\" },\n",
       "              subscription: \"594d0a26-069b-4f9d-b248-2d1759f0cd09\"\n",
       "            })\n",
       "          })\n",
       "        });\n",
       "        container.addEventListener(\"mouseenter\", () => overlay.style.display = \"block\");\n",
       "        container.addEventListener(\"mouseleave\", () => overlay.style.display = \"none\");\n",
       "     });\n",
       "   })();\n",
       "</script>"
      ],
      "text/plain": [
       "<IPython.core.display.HTML object>"
      ]
     },
     "metadata": {},
     "output_type": "display_data"
    }
   ],
   "source": [
    "show_all = train_val_dataset.match(F(\"ground_truth.label\"))\n",
    "view(session, show_all, train_val_dataset)"
   ]
  },
  {
   "cell_type": "markdown",
   "id": "558462ac",
   "metadata": {},
   "source": [
    "### UMAP"
   ]
  },
  {
   "cell_type": "code",
   "execution_count": 135,
   "id": "c47ef5d9",
   "metadata": {},
   "outputs": [
    {
     "name": "stdout",
     "output_type": "stream",
     "text": [
      "Generating visualization...\n",
      "UMAP( verbose=True)\n",
      "Sat Oct 25 20:12:09 2025 Construct fuzzy simplicial set\n",
      "Sat Oct 25 20:12:09 2025 Finding Nearest Neighbors\n",
      "Sat Oct 25 20:12:09 2025 Building RP forest with 17 trees\n",
      "Sat Oct 25 20:12:10 2025 NN descent for 16 iterations\n",
      "\t 1  /  16\n",
      "\t 2  /  16\n",
      "\t 3  /  16\n",
      "\tStopping threshold met -- exiting after 3 iterations\n",
      "Sat Oct 25 20:12:12 2025 Finished Nearest Neighbor Search\n",
      "Sat Oct 25 20:12:13 2025 Construct embedding\n"
     ]
    },
    {
     "data": {
      "application/vnd.jupyter.widget-view+json": {
       "model_id": "94f8be4f4c81438c87fb60b31e102572",
       "version_major": 2,
       "version_minor": 0
      },
      "text/plain": [
       "Epochs completed:   0%|            0/200 [00:00]"
      ]
     },
     "metadata": {},
     "output_type": "display_data"
    },
    {
     "name": "stdout",
     "output_type": "stream",
     "text": [
      "\tcompleted  0  /  200 epochs\n",
      "\tcompleted  20  /  200 epochs\n",
      "\tcompleted  40  /  200 epochs\n",
      "\tcompleted  60  /  200 epochs\n",
      "\tcompleted  80  /  200 epochs\n",
      "\tcompleted  100  /  200 epochs\n",
      "\tcompleted  120  /  200 epochs\n",
      "\tcompleted  140  /  200 epochs\n",
      "\tcompleted  160  /  200 epochs\n",
      "\tcompleted  180  /  200 epochs\n",
      "Sat Oct 25 20:12:39 2025 Finished embedding\n"
     ]
    }
   ],
   "source": [
    "# UMAP visualization\n",
    "umap_viz_lenet = fob.compute_visualization(\n",
    "    train_val_dataset,\n",
    "    method=\"umap\",\n",
    "    embeddings=\"lenet_embeddings\",\n",
    "    num_dims=2,\n",
    "    brain_key=\"umap_lenet_embeddings\",\n",
    "    color_by=\"ground_truth.label\"\n",
    ")"
   ]
  },
  {
   "cell_type": "code",
   "execution_count": 136,
   "id": "ee308ee0",
   "metadata": {},
   "outputs": [
    {
     "data": {
      "text/html": [
       "\n",
       "<style>\n",
       "@import url(\"https://fonts.googleapis.com/css2?family=Palanquin&display=swap\");\n",
       "\n",
       "body, html {\n",
       "  margin: 0;\n",
       "  padding: 0;\n",
       "  width: 100%;\n",
       "}\n",
       "\n",
       "#focontainer-8e26f6ee-67b5-4916-8050-3a10a62852e0 {\n",
       "  position: relative;\n",
       "  height: 800px;\n",
       "  display: block !important;\n",
       "}\n",
       "#foactivate-8e26f6ee-67b5-4916-8050-3a10a62852e0 {\n",
       "  font-weight: bold;\n",
       "  cursor: pointer;\n",
       "  font-size: 24px;\n",
       "  border-radius: 3px;\n",
       "  text-align: center;\n",
       "  padding: 0.5em;\n",
       "  color: rgb(255, 255, 255);\n",
       "  font-family: \"Palanquin\", sans-serif;\n",
       "  position: absolute;\n",
       "  left: 50%;\n",
       "  top: 50%;\n",
       "  width: 160px;\n",
       "  margin-left: -80px;\n",
       "  margin-top: -23px;\n",
       "  background: hsla(210,11%,15%, 0.8);\n",
       "  border: none;\n",
       "}\n",
       "#foactivate-8e26f6ee-67b5-4916-8050-3a10a62852e0:focus {\n",
       "  outline: none;\n",
       "}\n",
       "#fooverlay-8e26f6ee-67b5-4916-8050-3a10a62852e0 {\n",
       "  width: 100%;\n",
       "  height: 100%;\n",
       "  background: hsla(208, 7%, 46%, 0.7);\n",
       "  position: absolute;\n",
       "  top: 0;\n",
       "  left: 0;\n",
       "  display: none;\n",
       "  cursor: pointer;\n",
       "}\n",
       "</style>\n",
       "\n",
       "<div id=\"focontainer-8e26f6ee-67b5-4916-8050-3a10a62852e0\">\n",
       "   <div id=\"fooverlay-8e26f6ee-67b5-4916-8050-3a10a62852e0\" style=\"display: none;\">\n",
       "      <button id=\"foactivate-8e26f6ee-67b5-4916-8050-3a10a62852e0\" >Activate</button>\n",
       "   </div>\n",
       "   <img src='data:image/jpeg;base64,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' style=\"width: 100%; max-width: 1154px;\"/>\n",
       "</div>\n",
       "\n",
       "<script type=\"text/javascript\">\n",
       "   (function() {\n",
       "     var container = document.getElementById(\"focontainer-8e26f6ee-67b5-4916-8050-3a10a62852e0\");\n",
       "     var overlay = document.getElementById(\"fooverlay-8e26f6ee-67b5-4916-8050-3a10a62852e0\");\n",
       "     fetch(`http://localhost:6969/fiftyone`)\n",
       "     .then(() => {\n",
       "        overlay.addEventListener(\"click\", () => {\n",
       "          fetch(`http://localhost:6969/event`, {\n",
       "            method: \"POST\",\n",
       "            body: JSON.stringify({\n",
       "              event: \"reactivate_notebook_cell\",\n",
       "              data: { subscription: \"8e26f6ee-67b5-4916-8050-3a10a62852e0\" },\n",
       "              subscription: \"8e26f6ee-67b5-4916-8050-3a10a62852e0\"\n",
       "            })\n",
       "          })\n",
       "        });\n",
       "        container.addEventListener(\"mouseenter\", () => overlay.style.display = \"block\");\n",
       "        container.addEventListener(\"mouseleave\", () => overlay.style.display = \"none\");\n",
       "     });\n",
       "   })();\n",
       "</script>"
      ],
      "text/plain": [
       "<IPython.core.display.HTML object>"
      ]
     },
     "metadata": {},
     "output_type": "display_data"
    }
   ],
   "source": [
    "show_all = train_val_dataset.match(F(\"ground_truth.label\"))\n",
    "view(session, show_all, train_val_dataset)"
   ]
  },
  {
   "cell_type": "markdown",
   "id": "baf26d4d",
   "metadata": {},
   "source": [
    "# Classifier with IDK"
   ]
  },
  {
   "cell_type": "markdown",
   "id": "47046935",
   "metadata": {},
   "source": [
    "We will use a multi-label classification. Accordingly the classes will be 10 MNIST classes plus the IDK class."
   ]
  }
 ],
 "metadata": {
  "kernelspec": {
   "display_name": "ahocv",
   "language": "python",
   "name": "python3"
  },
  "language_info": {
   "codemirror_mode": {
    "name": "ipython",
    "version": 3
   },
   "file_extension": ".py",
   "mimetype": "text/x-python",
   "name": "python",
   "nbconvert_exporter": "python",
   "pygments_lexer": "ipython3",
   "version": "3.13.5"
  }
 },
 "nbformat": 4,
 "nbformat_minor": 5
}
