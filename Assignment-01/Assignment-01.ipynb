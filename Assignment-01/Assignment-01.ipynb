{
 "cells": [
  {
   "cell_type": "code",
   "execution_count": 1,
   "id": "38528fbf",
   "metadata": {},
   "outputs": [],
   "source": [
    "import os, random, gc\n",
    "from pathlib import Path\n",
    "\n",
    "SEED = 42\n",
    "\n",
    "# Set environment variables for reproducibility BEFORE importing torch\n",
    "os.environ['PYTHONHASHSEED'] = str(SEED)\n",
    "os.environ['CUBLAS_WORKSPACE_CONFIG'] = ':4096:8'\n",
    "\n",
    "from PIL import Image\n",
    "import numpy as np\n",
    "import torch\n",
    "import torch.nn as nn\n",
    "import torch.nn.functional as Fun\n",
    "import torchvision.transforms.v2 as transforms\n",
    "import fiftyone as fo\n",
    "import fiftyone.zoo as foz\n",
    "import fiftyone.brain as fob\n",
    "from torch.utils.data import Dataset, ConcatDataset\n",
    "from fiftyone import ViewField as F\n",
    "import fiftyone.utils.random as four\n",
    "from tqdm import tqdm\n",
    "from torch.optim import Adam\n",
    "from pathlib import Path\n",
    "import matplotlib.pyplot as plt"
   ]
  },
  {
   "cell_type": "code",
   "execution_count": 2,
   "id": "f570f130",
   "metadata": {},
   "outputs": [],
   "source": [
    "PROJECT_NAME = \"Assignment-01\"\n",
    "DELETE_EXISTING_DATASETS = True"
   ]
  },
  {
   "cell_type": "code",
   "execution_count": 3,
   "id": "ebbef275",
   "metadata": {},
   "outputs": [],
   "source": [
    "BASE_PATH = Path.cwd()\n",
    "DATA_PATH = BASE_PATH / \"data\"\n",
    "MODEL_PATH = BASE_PATH / \"models\"\n",
    "os.makedirs(DATA_PATH, exist_ok=True)\n",
    "os.makedirs(MODEL_PATH, exist_ok=True)"
   ]
  },
  {
   "cell_type": "code",
   "execution_count": 4,
   "id": "7d7243b3",
   "metadata": {},
   "outputs": [
    {
     "name": "stdout",
     "output_type": "stream",
     "text": [
      "All random seeds set to 42 for reproducibility\n"
     ]
    }
   ],
   "source": [
    "def set_seeds(seed: int):\n",
    "    \"\"\"\n",
    "    Set seeds for complete reproducibility across all libraries and operations.\n",
    "\n",
    "    Args:\n",
    "        seed (int): Random seed value\n",
    "    \"\"\"\n",
    "    # Set environment variables before other imports\n",
    "    os.environ['PYTHONHASHSEED'] = str(seed)\n",
    "    os.environ['CUBLAS_WORKSPACE_CONFIG'] = ':4096:8'\n",
    "\n",
    "    # Python random module\n",
    "    random.seed(seed)\n",
    "\n",
    "    # NumPy\n",
    "    np.random.seed(seed)\n",
    "\n",
    "    # PyTorch CPU\n",
    "    torch.manual_seed(seed)\n",
    "\n",
    "    # PyTorch GPU (all devices)\n",
    "    if torch.cuda.is_available():\n",
    "        torch.cuda.manual_seed(seed)\n",
    "        torch.cuda.manual_seed_all(seed)  # For multi-GPU setups\n",
    "\n",
    "        # CUDA deterministic operations\n",
    "        torch.backends.cudnn.deterministic = True\n",
    "        torch.backends.cudnn.benchmark = False\n",
    "\n",
    "    # PyTorch deterministic algorithms (may impact performance)\n",
    "    try:\n",
    "        torch.use_deterministic_algorithms(True)\n",
    "    except RuntimeError:\n",
    "        # Some operations don't have deterministic implementations\n",
    "        print(\"Warning: Some operations may not be deterministic\")\n",
    "\n",
    "    print(f\"All random seeds set to {seed} for reproducibility\")\n",
    "\n",
    "\n",
    "\n",
    "# Usage: Call this function at the beginning and before each training phase\n",
    "set_seeds(SEED)\n",
    "\n",
    "# Additional reproducibility considerations:\n",
    "\n",
    "def create_deterministic_training_dataloader(dataset, batch_size, shuffle=True, **kwargs):\n",
    "    \"\"\"\n",
    "    Create a DataLoader with deterministic behavior.\n",
    "\n",
    "    Args:\n",
    "        dataset: PyTorch Dataset instance\n",
    "        batch_size: Batch size\n",
    "        shuffle: Whether to shuffle data\n",
    "        **kwargs: Additional DataLoader arguments\n",
    "\n",
    "    Returns:\n",
    "        Training DataLoader with reproducible behavior\n",
    "    \"\"\"\n",
    "    # Use a generator with fixed seed for reproducible shuffling\n",
    "    generator = torch.Generator()\n",
    "    generator.manual_seed(SEED)\n",
    "\n",
    "    return torch.utils.data.DataLoader(\n",
    "        dataset,\n",
    "        batch_size=batch_size,\n",
    "        shuffle=shuffle,\n",
    "        generator=generator if shuffle else None,\n",
    "        **kwargs\n",
    "    )"
   ]
  },
  {
   "cell_type": "code",
   "execution_count": 5,
   "id": "1298c820",
   "metadata": {},
   "outputs": [
    {
     "name": "stdout",
     "output_type": "stream",
     "text": [
      "Dataset 'mnist-train-val-set' already exists. Deleting it.\n",
      "Dataset 'mnist-test-set' already exists. Deleting it.\n"
     ]
    }
   ],
   "source": [
    "dataset_names = {\n",
    "        \"train-val\": \"mnist-train-val-set\",\n",
    "        \"train\": \"mnist-train-set\",\n",
    "        \"validation\": \"mnist-validation-set\",\n",
    "        \"test\": \"mnist-test-set\"\n",
    "    }\n",
    "\n",
    "if DELETE_EXISTING_DATASETS:\n",
    "    for dataset_name in dataset_names.values():\n",
    "        if dataset_name in fo.list_datasets():\n",
    "            print(f\"Dataset '{dataset_name}' already exists. Deleting it.\")\n",
    "            fo.delete_dataset(dataset_name)"
   ]
  },
  {
   "cell_type": "code",
   "execution_count": 6,
   "id": "1749bf47",
   "metadata": {},
   "outputs": [
    {
     "name": "stdout",
     "output_type": "stream",
     "text": [
      "Using device: cuda\n"
     ]
    }
   ],
   "source": [
    "device = torch.device(\"cuda\" if torch.cuda.is_available() else \"cpu\")\n",
    "print(f\"Using device: {device}\")"
   ]
  },
  {
   "cell_type": "markdown",
   "id": "95d310fe",
   "metadata": {},
   "source": [
    "# Data Preparation"
   ]
  },
  {
   "cell_type": "code",
   "execution_count": 7,
   "id": "1ac81f81",
   "metadata": {},
   "outputs": [
    {
     "name": "stdout",
     "output_type": "stream",
     "text": [
      "Split 'train' already downloaded\n",
      "Loading 'mnist' split 'train'\n",
      " 100% |█████████████| 60000/60000 [25.4s elapsed, 0s remaining, 2.6K samples/s]      \n",
      "Dataset 'mnist-train-val-set' created\n",
      "Computing metadata...\n",
      " 100% |█████████████| 60000/60000 [24.0s elapsed, 0s remaining, 12.8K samples/s]      \n"
     ]
    }
   ],
   "source": [
    "# Get Train-Val Dataset\n",
    "train_val_dataset = foz.load_zoo_dataset(\"mnist\",\n",
    "                                         split='train',\n",
    "                                         dataset_name=dataset_names[\"train-val\"],\n",
    "                                         persistent=True)\n",
    "\n",
    "train_val_dataset.compute_metadata()"
   ]
  },
  {
   "cell_type": "code",
   "execution_count": 8,
   "id": "cbf690ef",
   "metadata": {},
   "outputs": [
    {
     "name": "stdout",
     "output_type": "stream",
     "text": [
      "Tag counts after split:\n",
      "{'train': 51000, 'validation': 9000}\n"
     ]
    }
   ],
   "source": [
    "train_val_dataset.untag_samples([\"train\", \"validation\"])\n",
    "\n",
    "# Create random 85%/15% split using tags\n",
    "four.random_split(train_val_dataset,\n",
    "                  {\"train\": 0.85, \"validation\": 0.15},\n",
    "                  # The seed makes the split reproducible\n",
    "                  seed=SEED)\n",
    "\n",
    "# Verify the split by counting tags\n",
    "tag_counts = train_val_dataset.count_sample_tags()\n",
    "print(\"Tag counts after split:\")\n",
    "print(tag_counts)\n",
    "\n",
    "# Separate validation and train FO datasets\n",
    "train_dataset = train_val_dataset.match_tags(\"train\").clone()\n",
    "val_dataset = train_val_dataset.match_tags(\"validation\").clone()\n",
    "\n",
    "# Set names for FO datasets using the 'name' property\n",
    "train_dataset.name = dataset_names[\"train\"]\n",
    "val_dataset.name = dataset_names[\"validation\"]\n",
    "\n",
    "# Define persistency\n",
    "train_dataset.persistent = True\n",
    "val_dataset.persistent = True\n",
    "\n",
    "# Verify no overlap between train and validation\n",
    "train_ids = set(train_dataset.values(\"id\"))\n",
    "val_ids = set(val_dataset.values(\"id\"))\n",
    "overlap = train_ids.intersection(val_ids)"
   ]
  },
  {
   "cell_type": "code",
   "execution_count": 9,
   "id": "e388199c",
   "metadata": {},
   "outputs": [
    {
     "name": "stdout",
     "output_type": "stream",
     "text": [
      "Split 'test' already downloaded\n",
      "Loading 'mnist' split 'test'\n",
      " 100% |█████████████| 10000/10000 [4.1s elapsed, 0s remaining, 2.1K samples/s]      \n",
      "Dataset 'mnist-test-set' created\n",
      "Computing metadata...\n",
      " 100% |█████████████| 10000/10000 [4.0s elapsed, 0s remaining, 7.1K samples/s]      \n"
     ]
    }
   ],
   "source": [
    "# Get Test Dataset\n",
    "test_dataset = foz.load_zoo_dataset(\n",
    "    \"mnist\",\n",
    "    split=\"test\",\n",
    "    dataset_name=dataset_names[\"test\"],\n",
    "    persistent=True\n",
    ")\n",
    "\n",
    "test_dataset.compute_metadata()"
   ]
  },
  {
   "cell_type": "code",
   "execution_count": 10,
   "id": "2d4115b2",
   "metadata": {},
   "outputs": [
    {
     "data": {
      "text/plain": [
       "{'0 - zero': 0,\n",
       " '1 - one': 1,\n",
       " '2 - two': 2,\n",
       " '3 - three': 3,\n",
       " '4 - four': 4,\n",
       " '5 - five': 5,\n",
       " '6 - six': 6,\n",
       " '7 - seven': 7,\n",
       " '8 - eight': 8,\n",
       " '9 - nine': 9}"
      ]
     },
     "execution_count": 10,
     "metadata": {},
     "output_type": "execute_result"
    }
   ],
   "source": [
    "# Get Label Map\n",
    "dataset_classes = sorted(train_dataset.distinct(\"ground_truth.label\"))\n",
    "label_map = {string_label: index for index, string_label in enumerate(dataset_classes)}\n",
    "label_map"
   ]
  },
  {
   "cell_type": "code",
   "execution_count": 11,
   "id": "6a675648",
   "metadata": {},
   "outputs": [],
   "source": [
    "# Custom PyTorch Dataset class for MNIST training data\n",
    "class CustomTorchImageDataset(torch.utils.data.Dataset):\n",
    "    def __init__(self, fiftyone_dataset,\n",
    "                 image_transforms=None,\n",
    "                 label_map=None,\n",
    "                 gt_field=\"ground_truth\"):\n",
    "        self.fiftyone_dataset = fiftyone_dataset\n",
    "        self.image_paths = self.fiftyone_dataset.values(\"filepath\")\n",
    "        self.str_labels = self.fiftyone_dataset.values(f\"{gt_field}.label\")\n",
    "        self.image_transforms = image_transforms\n",
    "\n",
    "        if label_map is None:\n",
    "            self.label_map = {str(i): i for i in range(10)}\n",
    "        else:\n",
    "            self.label_map = label_map\n",
    "\n",
    "        print(f\"CustomTorchImageDataset initialized with {len(self.image_paths)} samples.\")\n",
    "\n",
    "    def __len__(self):\n",
    "        return len(self.image_paths)\n",
    "\n",
    "    def __getitem__(self, idx):\n",
    "        image_path = self.image_paths[idx]\n",
    "        try:\n",
    "            image = Image.open(image_path).convert('L') # Convert to grayscale\n",
    "        except Exception as e:\n",
    "            print(f\"Error loading image {image_path}: {e}\")\n",
    "            return torch.randn(1, 28, 28), torch.tensor(-1, dtype=torch.long)\n",
    "\n",
    "        if self.image_transforms:\n",
    "            image = self.image_transforms(image)\n",
    "\n",
    "        label_str = self.str_labels[idx]\n",
    "        label_idx = self.label_map.get(label_str, -1)\n",
    "        if label_idx == -1:\n",
    "            print(f\"Warning: Label '{label_str}' not in label_map for image {image_path}\")\n",
    "\n",
    "        return image, torch.tensor(label_idx, dtype=torch.long)"
   ]
  },
  {
   "cell_type": "code",
   "execution_count": 12,
   "id": "da9033f3",
   "metadata": {},
   "outputs": [],
   "source": [
    "# Define image transformations\n",
    "image_transforms = transforms.Compose([\n",
    "    transforms.ToImage(),\n",
    "    transforms.ToDtype(torch.float32, scale=True), # Scale to [0, 1]\n",
    "])"
   ]
  },
  {
   "cell_type": "code",
   "execution_count": 13,
   "id": "2d27de41",
   "metadata": {},
   "outputs": [
    {
     "name": "stdout",
     "output_type": "stream",
     "text": [
      "CustomTorchImageDataset initialized with 51000 samples.\n"
     ]
    }
   ],
   "source": [
    "# Create a PyTorch Dataset for the train set\n",
    "torch_train_set = CustomTorchImageDataset(train_dataset,\n",
    "                                          label_map=label_map,\n",
    "                                          image_transforms=image_transforms)"
   ]
  },
  {
   "cell_type": "code",
   "execution_count": 14,
   "id": "84343b2a",
   "metadata": {},
   "outputs": [
    {
     "name": "stdout",
     "output_type": "stream",
     "text": [
      "CustomTorchImageDataset initialized with 9000 samples.\n"
     ]
    }
   ],
   "source": [
    "# Create a PyTorch Dataset for the validation set\n",
    "torch_val_set = CustomTorchImageDataset(val_dataset,\n",
    "                                     label_map=label_map,\n",
    "                                     image_transforms=image_transforms)"
   ]
  },
  {
   "cell_type": "code",
   "execution_count": 15,
   "id": "b9f79149",
   "metadata": {},
   "outputs": [
    {
     "name": "stdout",
     "output_type": "stream",
     "text": [
      "CustomTorchImageDataset initialized with 10000 samples.\n"
     ]
    }
   ],
   "source": [
    "# Create a PyTorch Dataset for the test set\n",
    "torch_test_set = CustomTorchImageDataset(test_dataset,\n",
    "                                      label_map=label_map,\n",
    "                                      image_transforms=image_transforms)"
   ]
  },
  {
   "cell_type": "code",
   "execution_count": 16,
   "id": "e3cf5814",
   "metadata": {},
   "outputs": [],
   "source": [
    "# Define batch size (you can adjust this based on your GPU memory)\n",
    "batch_size = 32\n",
    "num_workers = 0 # We use GPU, so we set num_workers to 0"
   ]
  },
  {
   "cell_type": "code",
   "execution_count": 17,
   "id": "3b341fdc",
   "metadata": {},
   "outputs": [
    {
     "name": "stdout",
     "output_type": "stream",
     "text": [
      "Train DataLoader created successfully.\n",
      "Train DataLoader has 797 batches.\n",
      "Validation DataLoader created successfully.\n",
      "Validation DataLoader has 282 batches.\n",
      "Test DataLoader created successfully.\n",
      "Test DataLoader has 313 batches.\n"
     ]
    }
   ],
   "source": [
    "# Create a PyTorch DataLoader for the train set\n",
    "train_loader = create_deterministic_training_dataloader(\n",
    "    torch_train_set,\n",
    "    batch_size=64,\n",
    "    shuffle=True,\n",
    "    num_workers=num_workers,\n",
    "    pin_memory=True\n",
    ")\n",
    "print(\"Train DataLoader created successfully.\")\n",
    "print(f\"Train DataLoader has {len(train_loader)} batches.\")\n",
    "\n",
    "# Create a PyTorch DataLoader for the validation set\n",
    "val_loader = torch.utils.data.DataLoader(\n",
    "    torch_val_set,\n",
    "    batch_size=batch_size,\n",
    "    shuffle=False,\n",
    "    num_workers=num_workers,\n",
    "    pin_memory=True\n",
    ")\n",
    "print(\"Validation DataLoader created successfully.\")\n",
    "print(f\"Validation DataLoader has {len(val_loader)} batches.\")\n",
    "\n",
    "# Create a PyTorch DataLoader for the test set\n",
    "test_loader = torch.utils.data.DataLoader(\n",
    "    torch_test_set,\n",
    "    batch_size=batch_size,\n",
    "    shuffle=False,\n",
    "    num_workers=num_workers,\n",
    "    pin_memory=True\n",
    ")\n",
    "\n",
    "print(\"Test DataLoader created successfully.\")\n",
    "print(f\"Test DataLoader has {len(test_loader)} batches.\")\n"
   ]
  },
  {
   "cell_type": "markdown",
   "id": "c5946d6f",
   "metadata": {},
   "source": [
    "# Model Definition"
   ]
  },
  {
   "cell_type": "code",
   "execution_count": 18,
   "id": "03a1c549",
   "metadata": {},
   "outputs": [],
   "source": [
    "class ModernLeNet5(nn.Module):\n",
    "    \"\"\"\n",
    "    Modernized version of LeNet-5 with ReLU activations and max pooling.\n",
    "    Often performs better on MNIST than the original version.\n",
    "    \"\"\"\n",
    "\n",
    "    def __init__(self, num_classes=10):\n",
    "        super(ModernLeNet5, self).__init__()\n",
    "\n",
    "        self.conv1 = nn.Conv2d(1, 6, kernel_size=5)\n",
    "        self.conv2 = nn.Conv2d(6, 16, kernel_size=5)\n",
    "        self.conv3 = nn.Conv2d(16, 120, kernel_size=4)\n",
    "\n",
    "        self.pool = nn.MaxPool2d(kernel_size=2, stride=2)\n",
    "\n",
    "        self.fc1 = nn.Linear(120, 84)\n",
    "        self.fc2 = nn.Linear(84, num_classes)\n",
    "\n",
    "        self.dropout = nn.Dropout(0.5)\n",
    "\n",
    "        self.relu = nn.ReLU()\n",
    "\n",
    "\n",
    "    def forward(self, x):\n",
    "        x = self.pool(self.relu(self.conv1(x)))\n",
    "        x = self.pool(self.relu(self.conv2(x)))\n",
    "        x = self.relu(self.conv3(x))\n",
    "\n",
    "        x = x.view(x.size(0), -1)\n",
    "        x = self.relu(self.fc1(x))\n",
    "        x = self.dropout(x)\n",
    "        x = self.fc2(x)\n",
    "\n",
    "        return x"
   ]
  },
  {
   "cell_type": "code",
   "execution_count": 25,
   "id": "642d1fdd",
   "metadata": {},
   "outputs": [],
   "source": [
    "model = ModernLeNet5().to(device)\n",
    "\n",
    "ce_loss = nn.CrossEntropyLoss()\n",
    "optimizer = Adam(model.parameters(),\n",
    "                 lr=0.003, betas=(0.9, 0.999),\n",
    "                 eps=1e-08, weight_decay=0)"
   ]
  },
  {
   "cell_type": "code",
   "execution_count": 26,
   "id": "f99b7a45",
   "metadata": {},
   "outputs": [],
   "source": [
    "def train_epoch(model, train_loader):\n",
    "  batch_losses = []\n",
    "  correct = 0\n",
    "  total = 0\n",
    "\n",
    "  model.train()\n",
    "  for images, labels in tqdm(train_loader, desc=\"Training: \"):\n",
    "\n",
    "      images = images.to(device)\n",
    "      labels = labels.to(device)\n",
    "      # Forward pass\n",
    "      logits = model(images)\n",
    "      loss_value = ce_loss(logits, labels)\n",
    "      # Clear gradients from previous iteration (PyTorch accumulates by default)\n",
    "      optimizer.zero_grad()\n",
    "      # Computes the gradients with backpropagation\n",
    "      loss_value.backward()\n",
    "      # Updates the weights\n",
    "      optimizer.step()\n",
    "\n",
    "      batch_losses.append(loss_value.item())\n",
    "      preds = logits.argmax(dim=1)\n",
    "      correct += (preds == labels).sum().item()\n",
    "      total += labels.size(0)\n",
    "\n",
    "  train_loss = np.mean(batch_losses)\n",
    "  train_acc = correct / total\n",
    "  return train_loss, train_acc\n"
   ]
  },
  {
   "cell_type": "code",
   "execution_count": 27,
   "id": "fc84b1c1",
   "metadata": {},
   "outputs": [],
   "source": [
    "def val_epoch(model, val_loader):\n",
    "  batch_losses = []\n",
    "  correct = 0\n",
    "  total = 0\n",
    "\n",
    "  model.eval()\n",
    "  with torch.inference_mode():\n",
    "    for images, labels in tqdm(val_loader, desc=\"Validation: \"):\n",
    "      images = images.to(device)\n",
    "      labels = labels.to(device)\n",
    "\n",
    "      # Forward pass\n",
    "      logits = model(images)\n",
    "      loss_value = ce_loss(logits, labels)\n",
    "\n",
    "      batch_losses.append(loss_value.item())\n",
    "      preds = logits.argmax(dim=1)\n",
    "      correct += (preds == labels).sum().item()\n",
    "      total += labels.size(0)\n",
    "\n",
    "  val_loss = np.mean(batch_losses)\n",
    "  val_acc = correct / total\n",
    "  return val_loss, val_acc"
   ]
  },
  {
   "cell_type": "markdown",
   "id": "7ed75631",
   "metadata": {},
   "source": [
    "# Training"
   ]
  },
  {
   "cell_type": "code",
   "execution_count": 28,
   "id": "dc38bd28",
   "metadata": {},
   "outputs": [
    {
     "name": "stderr",
     "output_type": "stream",
     "text": [
      "Training:   0%|          | 0/797 [00:00<?, ?it/s]"
     ]
    },
    {
     "name": "stderr",
     "output_type": "stream",
     "text": [
      "Training: 100%|██████████| 797/797 [00:34<00:00, 23.26it/s]\n",
      "Validation: 100%|██████████| 282/282 [00:07<00:00, 36.85it/s]\n"
     ]
    },
    {
     "name": "stdout",
     "output_type": "stream",
     "text": [
      "Epoch 1/10 - Train Loss: 0.2925 - Train Acc: 0.9114 - Val Loss: 0.0917 - Val Acc: 0.9723\n",
      "Found and saved better weights for the model\n"
     ]
    },
    {
     "name": "stderr",
     "output_type": "stream",
     "text": [
      "Training: 100%|██████████| 797/797 [00:34<00:00, 23.00it/s]\n",
      "Validation: 100%|██████████| 282/282 [00:08<00:00, 34.78it/s]\n"
     ]
    },
    {
     "name": "stdout",
     "output_type": "stream",
     "text": [
      "Epoch 2/10 - Train Loss: 0.0961 - Train Acc: 0.9742 - Val Loss: 0.0761 - Val Acc: 0.9777\n",
      "Found and saved better weights for the model\n"
     ]
    },
    {
     "name": "stderr",
     "output_type": "stream",
     "text": [
      "Training: 100%|██████████| 797/797 [00:35<00:00, 22.73it/s]\n",
      "Validation: 100%|██████████| 282/282 [00:07<00:00, 35.51it/s]\n"
     ]
    },
    {
     "name": "stdout",
     "output_type": "stream",
     "text": [
      "Epoch 3/10 - Train Loss: 0.0722 - Train Acc: 0.9800 - Val Loss: 0.0513 - Val Acc: 0.9857\n",
      "Found and saved better weights for the model\n"
     ]
    },
    {
     "name": "stderr",
     "output_type": "stream",
     "text": [
      "Training: 100%|██████████| 797/797 [00:34<00:00, 23.08it/s]\n",
      "Validation: 100%|██████████| 282/282 [00:07<00:00, 37.05it/s]\n"
     ]
    },
    {
     "name": "stdout",
     "output_type": "stream",
     "text": [
      "Epoch 4/10 - Train Loss: 0.0614 - Train Acc: 0.9832 - Val Loss: 0.0643 - Val Acc: 0.9854\n"
     ]
    },
    {
     "name": "stderr",
     "output_type": "stream",
     "text": [
      "Training: 100%|██████████| 797/797 [00:34<00:00, 23.25it/s]\n",
      "Validation: 100%|██████████| 282/282 [00:06<00:00, 43.48it/s]\n"
     ]
    },
    {
     "name": "stdout",
     "output_type": "stream",
     "text": [
      "Epoch 5/10 - Train Loss: 0.0557 - Train Acc: 0.9850 - Val Loss: 0.0650 - Val Acc: 0.9821\n"
     ]
    },
    {
     "name": "stderr",
     "output_type": "stream",
     "text": [
      "Training: 100%|██████████| 797/797 [00:34<00:00, 23.13it/s]\n",
      "Validation: 100%|██████████| 282/282 [00:08<00:00, 33.96it/s]\n"
     ]
    },
    {
     "name": "stdout",
     "output_type": "stream",
     "text": [
      "Epoch 6/10 - Train Loss: 0.0476 - Train Acc: 0.9864 - Val Loss: 0.0557 - Val Acc: 0.9861\n"
     ]
    },
    {
     "name": "stderr",
     "output_type": "stream",
     "text": [
      "Training: 100%|██████████| 797/797 [00:34<00:00, 23.01it/s]\n",
      "Validation: 100%|██████████| 282/282 [00:08<00:00, 33.28it/s]\n"
     ]
    },
    {
     "name": "stdout",
     "output_type": "stream",
     "text": [
      "Epoch 7/10 - Train Loss: 0.0440 - Train Acc: 0.9885 - Val Loss: 0.0596 - Val Acc: 0.9859\n"
     ]
    },
    {
     "name": "stderr",
     "output_type": "stream",
     "text": [
      "Training: 100%|██████████| 797/797 [00:34<00:00, 22.98it/s]\n",
      "Validation: 100%|██████████| 282/282 [00:07<00:00, 35.43it/s]\n"
     ]
    },
    {
     "name": "stdout",
     "output_type": "stream",
     "text": [
      "Epoch 8/10 - Train Loss: 0.0407 - Train Acc: 0.9887 - Val Loss: 0.0499 - Val Acc: 0.9883\n",
      "Found and saved better weights for the model\n"
     ]
    },
    {
     "name": "stderr",
     "output_type": "stream",
     "text": [
      "Training: 100%|██████████| 797/797 [00:34<00:00, 23.09it/s]\n",
      "Validation: 100%|██████████| 282/282 [00:07<00:00, 35.32it/s]\n"
     ]
    },
    {
     "name": "stdout",
     "output_type": "stream",
     "text": [
      "Epoch 9/10 - Train Loss: 0.0362 - Train Acc: 0.9901 - Val Loss: 0.0710 - Val Acc: 0.9837\n"
     ]
    },
    {
     "name": "stderr",
     "output_type": "stream",
     "text": [
      "Training: 100%|██████████| 797/797 [00:35<00:00, 22.62it/s]\n",
      "Validation: 100%|██████████| 282/282 [00:08<00:00, 34.71it/s]"
     ]
    },
    {
     "name": "stdout",
     "output_type": "stream",
     "text": [
      "Epoch 10/10 - Train Loss: 0.0363 - Train Acc: 0.9899 - Val Loss: 0.0592 - Val Acc: 0.9859\n"
     ]
    },
    {
     "name": "stderr",
     "output_type": "stream",
     "text": [
      "\n"
     ]
    }
   ],
   "source": [
    "num_epochs = 10\n",
    "train_losses = []\n",
    "val_losses = []\n",
    "train_accuracies = []\n",
    "val_accuracies = []\n",
    "\n",
    "best_val_loss = float('inf')\n",
    "best_model = None\n",
    "\n",
    "# Define the path to save the model within your hard-drive\n",
    "model_save_path = MODEL_PATH / 'best_lenet.pth'\n",
    "\n",
    "for epoch in range(num_epochs):\n",
    "    train_loss, train_acc = train_epoch(model, train_loader)\n",
    "    val_loss, val_acc = val_epoch(model, val_loader)\n",
    "    train_losses.append(train_loss)\n",
    "    val_losses.append(val_loss)\n",
    "    train_accuracies.append(train_acc)\n",
    "    val_accuracies.append(val_acc)\n",
    "\n",
    "    print(f\"Epoch {epoch+1}/{num_epochs} - Train Loss: {train_loss:.4f} - Train Acc: {train_acc:.4f} - Val Loss: {val_loss:.4f} - Val Acc: {val_acc:.4f}\")\n",
    "\n",
    "    if val_loss < best_val_loss:\n",
    "        best_val_loss = val_loss\n",
    "        best_model = model\n",
    "        # Save the best model\n",
    "        torch.save(best_model.state_dict(), model_save_path)\n",
    "        print('Found and saved better weights for the model')"
   ]
  },
  {
   "cell_type": "code",
   "execution_count": 29,
   "id": "c9ce0562",
   "metadata": {},
   "outputs": [
    {
     "data": {
      "image/png": "[encoded data removed]",
      "text/plain": [
       "<Figure size 1000x500 with 1 Axes>"
      ]
     },
     "metadata": {},
     "output_type": "display_data"
    }
   ],
   "source": [
    "plt.figure(figsize=(num_epochs, 5))\n",
    "plt.plot(train_losses, label='Training Loss')\n",
    "plt.plot(val_losses, label='Validation Loss')\n",
    "plt.xlabel('Epochs')\n",
    "plt.ylabel('Loss')\n",
    "plt.legend()\n",
    "plt.title('Training and Validation Loss')\n",
    "\n",
    "# Find the epoch with the best validation loss\n",
    "best_epoch = np.argmin(val_losses)\n",
    "\n",
    "# Add a vertical red line at the epoch with the best validation loss\n",
    "plt.axvline(x=best_epoch, color='red', linestyle='--', label=f'Best Val Loss Epoch {best_epoch}')\n",
    "plt.legend()\n",
    "\n",
    "plt.show()"
   ]
  },
  {
   "cell_type": "markdown",
   "id": "54d26a1a",
   "metadata": {},
   "source": [
    "# Evaluate on the Test Set"
   ]
  },
  {
   "cell_type": "code",
   "execution_count": 30,
   "id": "4c95e729",
   "metadata": {},
   "outputs": [
    {
     "name": "stdout",
     "output_type": "stream",
     "text": [
      "Model loaded successfully from /sc/home/josef.pribbernow/HPI-Applied-Hands-On-Computer-Vision-2025-Josef-Pribbernow/Assignment-01/models/best_lenet.pth\n",
      "Model is on device: cuda:0\n"
     ]
    }
   ],
   "source": [
    "# Define the path where the best model was saved\n",
    "model_save_path = MODEL_PATH / 'best_lenet.pth'\n",
    "\n",
    "# Instantiate a new model with the same architecture\n",
    "loaded_model = ModernLeNet5()\n",
    "\n",
    "# Load the saved state dictionary into the new model instance\n",
    "device = \"cuda\" if torch.cuda.is_available() else \"cpu\"\n",
    "loaded_model.load_state_dict(torch.load(model_save_path, map_location=device))\n",
    "\n",
    "# Move the model to the device\n",
    "loaded_model = loaded_model.to(device)\n",
    "\n",
    "# Set the model to evaluation mode\n",
    "loaded_model.eval()\n",
    "\n",
    "print(f\"Model loaded successfully from {model_save_path}\")\n",
    "print(f\"Model is on device: {next(loaded_model.parameters()).device}\")"
   ]
  },
  {
   "cell_type": "code",
   "execution_count": 31,
   "id": "b159533c",
   "metadata": {},
   "outputs": [
    {
     "name": "stdout",
     "output_type": "stream",
     "text": [
      "\n",
      "Could not connect session, trying again in 10 seconds\n",
      "\n",
      "Session launched. Run `session.show()` to open the App in a cell output.\n"
     ]
    }
   ],
   "source": [
    "session = fo.launch_app(test_dataset, auto=False, port=8080)"
   ]
  },
  {
   "cell_type": "code",
   "execution_count": 32,
   "id": "355dc7b1",
   "metadata": {},
   "outputs": [
    {
     "name": "stdout",
     "output_type": "stream",
     "text": [
      "Applying best LeNet model to the test set...\n"
     ]
    },
    {
     "name": "stderr",
     "output_type": "stream",
     "text": [
      "100%|██████████| 313/313 [00:09<00:00, 33.61it/s]\n"
     ]
    },
    {
     "name": "stdout",
     "output_type": "stream",
     "text": [
      "Inference on test set complete.\n",
      "Shape of collected logits: (10000, 10)\n",
      "Number of collected predictions: 10000\n",
      "Storing predictions and logits as FiftyOne Classifications...\n"
     ]
    }
   ],
   "source": [
    "## Apply best_model to the test set, store logits and confidence\n",
    "\n",
    "# Set the loaded model to evaluation mode\n",
    "loaded_model.eval()\n",
    "\n",
    "# Lists to store predictions and logits\n",
    "predictions = []\n",
    "all_logits = []\n",
    "\n",
    "# Run inference on the test set\n",
    "print(\"Applying best LeNet model to the test set...\")\n",
    "with torch.inference_mode(): # Disable gradient calculation\n",
    "    for images, _ in tqdm(test_loader):\n",
    "        images = images.to(device)\n",
    "\n",
    "        # Forward pass to get logits\n",
    "        logits = loaded_model(images)\n",
    "        all_logits.append(logits.cpu().numpy()) # Store logits\n",
    "\n",
    "        # Get predicted class indices\n",
    "        _, predicted = torch.max(logits.data, 1)\n",
    "        predictions.extend(predicted.cpu().numpy()) # Store predictions\n",
    "\n",
    "# Concatenate logits from all batches\n",
    "all_logits = np.concatenate(all_logits, axis=0)\n",
    "\n",
    "print(\"Inference on test set complete.\")\n",
    "print(f\"Shape of collected logits: {all_logits.shape}\")\n",
    "print(f\"Number of collected predictions: {len(predictions)}\")\n",
    "\n",
    "# Store the predictions and logits back into the FiftyOne dataset as Classification objects\n",
    "print(\"Storing predictions and logits as FiftyOne Classifications...\")\n",
    "\n",
    "for i, sample in enumerate(test_dataset):\n",
    "    # Get the predicted class index and corresponding class name\n",
    "    predicted_idx = predictions[i]\n",
    "    predicted_label = dataset_classes[predicted_idx]\n",
    "\n",
    "    # Get logits for this sample\n",
    "    sample_logits = all_logits[i]\n",
    "\n",
    "    # Calculate confidence scores (softmax applied to logits)\n",
    "    confidences = Fun.softmax(torch.tensor(sample_logits), dim=0).numpy()\n",
    "    predicted_confidence = float(confidences[predicted_idx])\n",
    "\n",
    "    # Create FiftyOne Classification object with prediction\n",
    "    classification = fo.Classification(\n",
    "        label=predicted_label,\n",
    "        confidence=predicted_confidence,\n",
    "        logits=sample_logits.tolist()  # Store raw logits\n",
    "    )\n",
    "\n",
    "    # Store the Classification object in the sample\n",
    "    sample[\"lenet_classification\"] = classification\n",
    "\n",
    "    sample.save()"
   ]
  },
  {
   "cell_type": "code",
   "execution_count": 33,
   "id": "1ad354bf",
   "metadata": {},
   "outputs": [
    {
     "name": "stdout",
     "output_type": "stream",
     "text": [
      "\n",
      "=== Verification ===\n",
      "Sample prediction type: <class 'fiftyone.core.labels.Classification'>\n",
      "Sample prediction: <Classification: {\n",
      "    'id': '68fcd2648c979d6a364d2b42',\n",
      "    'tags': [],\n",
      "    'label': '7 - seven',\n",
      "    'confidence': 1.0,\n",
      "    'logits': array([-21.94848251,  -9.32775211,  -8.4161377 ,  -8.04616547,\n",
      "           -11.33539581, -14.42301083, -36.03982544,  20.07966042,\n",
      "           -17.42926788,  -5.4287219 ]),\n",
      "}>\n",
      "Prediction label: 7 - seven\n",
      "Prediction confidence: 1.0\n",
      "Prediction logits shape: 10\n",
      "\n",
      "FiftyOne App URL: http://localhost:8080/\n"
     ]
    }
   ],
   "source": [
    "print(\"\\n=== Verification ===\")\n",
    "sample = test_dataset.first()\n",
    "print(f\"Sample prediction type: {type(sample.lenet_classification)}\")\n",
    "print(f\"Sample prediction: {sample.lenet_classification}\")\n",
    "print(f\"Prediction label: {sample.lenet_classification.label}\")\n",
    "print(f\"Prediction confidence: {sample.lenet_classification.confidence}\")\n",
    "print(f\"Prediction logits shape: {len(sample.lenet_classification.logits)}\")\n",
    "\n",
    "session.refresh()\n",
    "print(f\"\\nFiftyOne App URL: {session.url}\")\n",
    "\n"
   ]
  },
  {
   "cell_type": "code",
   "execution_count": 34,
   "id": "0c3a8888",
   "metadata": {},
   "outputs": [
    {
     "name": "stdout",
     "output_type": "stream",
     "text": [
      "Misclassified samples: 107 samples\n"
     ]
    }
   ],
   "source": [
    "# Create a view showing only LeNet's misclassifications\n",
    "misclassified_view = test_dataset.match(\n",
    "    F(\"lenet_classification.label\") != F(\"ground_truth.label\")\n",
    ")\n",
    "print(f\"Misclassified samples: {len(misclassified_view)} samples\")\n",
    "\n",
    "session.view = misclassified_view\n",
    "session.refresh()"
   ]
  },
  {
   "cell_type": "code",
   "execution_count": 35,
   "id": "7ac11e7d",
   "metadata": {},
   "outputs": [
    {
     "name": "stdout",
     "output_type": "stream",
     "text": [
      "              precision    recall  f1-score   support\n",
      "\n",
      "    0 - zero      0.987     0.995     0.991       980\n",
      "     1 - one      0.990     0.995     0.993      1135\n",
      "     2 - two      0.985     0.986     0.986      1032\n",
      "   3 - three      0.990     0.988     0.989      1010\n",
      "    4 - four      0.992     0.986     0.989       982\n",
      "    5 - five      0.989     0.990     0.989       892\n",
      "     6 - six      0.994     0.986     0.990       958\n",
      "   7 - seven      0.989     0.991     0.990      1028\n",
      "   8 - eight      0.989     0.993     0.991       974\n",
      "    9 - nine      0.988     0.982     0.985      1009\n",
      "\n",
      "    accuracy                          0.989     10000\n",
      "   macro avg      0.989     0.989     0.989     10000\n",
      "weighted avg      0.989     0.989     0.989     10000\n",
      "\n"
     ]
    }
   ],
   "source": [
    "lenet_evaluation_results = test_dataset.evaluate_classifications(\n",
    "    \"lenet_classification\",\n",
    "    gt_field=\"ground_truth\",\n",
    "    eval_key=\"lenet_eval\")\n",
    "\n",
    "lenet_evaluation_results.print_report(digits=3)"
   ]
  },
  {
   "cell_type": "code",
   "execution_count": 36,
   "id": "8a46c043",
   "metadata": {},
   "outputs": [
    {
     "data": {
      "text/plain": [
       "[0.8013332486152649, 0.9974998831748962, 0.9999997615814209, 1.0, 1.0]"
      ]
     },
     "execution_count": 36,
     "metadata": {},
     "output_type": "execute_result"
    }
   ],
   "source": [
    "# Compute quantiles of confidence\n",
    "test_dataset.quantiles(\"lenet_classification.confidence\", [0.01, 0.05, 0.25, 0.5, 0.75] )"
   ]
  },
  {
   "cell_type": "code",
   "execution_count": 37,
   "id": "75037b43",
   "metadata": {},
   "outputs": [],
   "source": [
    "low_confidence_view = test_dataset.match(F(\"lenet_classification.confidence\") < 0.69)\n",
    "session.view = low_confidence_view\n",
    "session.refresh()"
   ]
  },
  {
   "cell_type": "code",
   "execution_count": 38,
   "id": "aa4fd7d0",
   "metadata": {},
   "outputs": [
    {
     "name": "stdout",
     "output_type": "stream",
     "text": [
      "Computing hardness...\n",
      "   0% ||------------|     0/10000 [2.1ms elapsed, ? remaining, ? samples/s] "
     ]
    },
    {
     "name": "stdout",
     "output_type": "stream",
     "text": [
      " 100% |█████████████| 10000/10000 [12.3s elapsed, 0s remaining, 831.0 samples/s]      \n",
      "Hardness computation complete\n"
     ]
    }
   ],
   "source": [
    "#Hardness is a measure computed based on model prediction output (through\n",
    "#logits) that summarizes a measure of the uncertainty the model had with the\n",
    "#sample. This makes hardness quantitative and can be used to detect things\n",
    "#like hard samples and annotation errors\n",
    "fob.compute_hardness(test_dataset,\n",
    "                     label_field='lenet_classification',\n",
    "                     )"
   ]
  },
  {
   "cell_type": "code",
   "execution_count": 39,
   "id": "78107a06",
   "metadata": {},
   "outputs": [
    {
     "name": "stdout",
     "output_type": "stream",
     "text": [
      "Computing mistakenness...\n",
      " 100% |█████████████| 10000/10000 [10.7s elapsed, 0s remaining, 950.9 samples/s]      \n",
      "Mistakenness computation complete\n"
     ]
    }
   ],
   "source": [
    "# Evaluate sample mistakenness (how likely the sample is mislabeled)\n",
    "# Samples with high mistakenness often have conflicting model output and ground truth\n",
    "fob.compute_mistakenness(test_dataset,\n",
    "                         pred_field=\"lenet_classification\",\n",
    "                         label_field=\"ground_truth\")\n"
   ]
  },
  {
   "cell_type": "code",
   "execution_count": 40,
   "id": "33bd6657",
   "metadata": {},
   "outputs": [
    {
     "name": "stdout",
     "output_type": "stream",
     "text": [
      "\n",
      "Mistakenness quantiles for train_dataset:\n",
      "[3.7610530853271484e-05, 0.0013419091701507568, 0.731199786067009]\n"
     ]
    }
   ],
   "source": [
    "# Compute quantiles of mistakenness\n",
    "mistakenness_quantiles = test_dataset.quantiles(\n",
    "    \"mistakenness\",\n",
    "    [0.9, 0.95, 0.99]\n",
    ")\n",
    "\n",
    "print(\"\\nMistakenness quantiles for train_dataset:\")\n",
    "print(mistakenness_quantiles)\n"
   ]
  },
  {
   "cell_type": "code",
   "execution_count": 41,
   "id": "d48d00d7",
   "metadata": {},
   "outputs": [],
   "source": [
    "suspicious_test_samples_view = test_dataset.match(\n",
    "                             F(\"mistakenness\") > mistakenness_quantiles[-1]\n",
    "                             ).sort_by(\"mistakenness\", reverse=True)\n",
    "\n",
    "# Set the session view to one of the views to visualize it in the App\n",
    "session.view = suspicious_test_samples_view\n",
    "session.refresh()"
   ]
  }
 ],
 "metadata": {
  "kernelspec": {
   "display_name": "ahocv",
   "language": "python",
   "name": "python3"
  },
  "language_info": {
   "codemirror_mode": {
    "name": "ipython",
    "version": 3
   },
   "file_extension": ".py",
   "mimetype": "text/x-python",
   "name": "python",
   "nbconvert_exporter": "python",
   "pygments_lexer": "ipython3",
   "version": "3.13.5"
  }
 },
 "nbformat": 4,
 "nbformat_minor": 5
}
